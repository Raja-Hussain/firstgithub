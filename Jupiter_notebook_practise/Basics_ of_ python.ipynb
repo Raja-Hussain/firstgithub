{
 "cells": [
  {
   "cell_type": "markdown",
   "id": "9438a3d4",
   "metadata": {},
   "source": [
    "# LEARNING PYTHON WITH BABA AAMAR\n",
    "## HOW TO USE JUPYTER NOTEBOOK\n",
    "### BASICS OF PYTHON\n",
    "\n",
    "**01 - First program**"
   ]
  },
  {
   "cell_type": "code",
   "execution_count": 1,
   "id": "420c28c5",
   "metadata": {},
   "outputs": [
    {
     "name": "stdout",
     "output_type": "stream",
     "text": [
      "my first program in python\n",
      "allah\n",
      "alhamdulilah...\n",
      "inshanallah this time i aM VERY serious\n"
     ]
    }
   ],
   "source": [
    "print(\"my first program in python\")\n",
    "print (\"allah\")\n",
    "print(\"alhamdulilah...\")\n",
    "print(\"inshanallah this time i aM VERY serious\")\n"
   ]
  },
  {
   "cell_type": "markdown",
   "id": "844fb3b1",
   "metadata": {},
   "source": [
    "**02 - operators**"
   ]
  },
  {
   "cell_type": "code",
   "execution_count": 2,
   "id": "662218d4",
   "metadata": {},
   "outputs": [
    {
     "name": "stdout",
     "output_type": "stream",
     "text": [
      "6\n",
      "2\n",
      "9\n",
      "4.0\n",
      "1\n",
      "4\n",
      "16\n",
      "41.0\n",
      "11\n",
      "\n"
     ]
    }
   ],
   "source": [
    "print(2+4)\n",
    "print(4-2)\n",
    "print(3*3)\n",
    "print(8/2) # use single slash in case you need flaot number\n",
    "print(5%2)\n",
    "print(8//2) # use double slash in csae you need whole number\n",
    "print(4**2)\n",
    "# we also solve some equation as below\n",
    "\n",
    "print((3**3+6-2)+2**3/2*3+4-6)\n",
    "print(12//4*3+4-2)\n",
    "print ()\n"
   ]
  },
  {
   "cell_type": "markdown",
   "id": "fc08f747",
   "metadata": {},
   "source": [
    "PEMDAS:\n",
    "paranthesis , exponent , multiply , addition , subtraction\n",
    "left to right sequence for division and multiplication\n",
    "also left to right sequence for addition and subtraction "
   ]
  },
  {
   "cell_type": "markdown",
   "id": "ba1fabd1",
   "metadata": {},
   "source": [
    "**03 - strings**"
   ]
  },
  {
   "cell_type": "code",
   "execution_count": 3,
   "id": "2ec043dc",
   "metadata": {},
   "outputs": [
    {
     "name": "stdout",
     "output_type": "stream",
     "text": [
      "i love to learn python\n",
      "test for double quotes\n",
      "test for single quotes\n",
      "test for triple quotes\n",
      "what's up\n",
      "what's up\n"
     ]
    }
   ],
   "source": [
    "# here we are going to learn python\n",
    "print(\"i love to learn python\")\n",
    "#string are the words , phrases , sentences written in '' , \" \" , ''' ''' quotation marks\n",
    "print(\"test for double quotes\")\n",
    "print('test for single quotes')\n",
    "print ('''test for triple quotes''')\n",
    "\n",
    "#print('what's up') # different cases we use different quotation marks\n",
    "# i.e for writing what's up we have to use double quotation marks\n",
    "print (\"what's up\")\n",
    "print('''what's up''')\n",
    "# string_clear"
   ]
  },
  {
   "cell_type": "markdown",
   "id": "22570c01",
   "metadata": {},
   "source": [
    "**04 - comments**"
   ]
  },
  {
   "cell_type": "code",
   "execution_count": 4,
   "id": "b4da442e",
   "metadata": {},
   "outputs": [
    {
     "name": "stdout",
     "output_type": "stream",
     "text": [
      "what's up\n",
      "what's up\n"
     ]
    }
   ],
   "source": [
    "# print ('what's up')\n",
    "print ('''what's up''')\n",
    "print (\"what's up\")"
   ]
  },
  {
   "cell_type": "markdown",
   "id": "bf6b0677",
   "metadata": {},
   "source": [
    "press ctrl + \\ for comment\n",
    "commernts are very useful ,\n",
    "comment are used during the code to understand function of every line , function \n",
    "loop and array of code,\n",
    "every thing written in comments are not executed"
   ]
  },
  {
   "cell_type": "markdown",
   "id": "069f01a5",
   "metadata": {},
   "source": [
    "**05 - variable**"
   ]
  },
  {
   "cell_type": "code",
   "execution_count": 5,
   "id": "bc2b8b51",
   "metadata": {},
   "outputs": [
    {
     "name": "stdout",
     "output_type": "stream",
     "text": [
      "4\n",
      "i love to learn python\n",
      "i love to learn python and want to learn it\n",
      "i love to learn pythonand want to learn it\n",
      "and want to learn it\n",
      "7\n",
      "<class 'int'>\n",
      "<class 'str'>\n",
      "8\n",
      "<class 'int'>\n"
     ]
    }
   ],
   "source": [
    "# variable : object containing specific values\n",
    "x=5\n",
    "x=4 # python code were executed from top to bottom approach\n",
    "    # so the variable should be updated\n",
    "print(x) # numerical or integer variable\n",
    "\n",
    "y=\"i love to learn python\"\n",
    "a=\"and want to learn it\"\n",
    "print (y)\n",
    "print(y,a) # string variable we also add string variable by using + operator\n",
    "print(y+a)\n",
    "print(a)\n",
    "z=3\n",
    "print(x+z)\n",
    "\n",
    "# to find type or class of variable use the command type\n",
    "print(type(x))\n",
    "print(type (y))\n",
    "\n",
    "# rules for creating variable\n",
    "# 1 - the variable should contain numbers,alphabets and underscores\n",
    "# 2 - donot start a varaible name with a number i.e 2a = 34\n",
    "# 3 - spaces are not allowed in variable name i.e ali khan use ali_khan\n",
    "# 4 - do not use keyword as a variable name i.e and , not , test, mean etc\n",
    "# 5 - the variable name must be short and descriptive\n",
    "# 6 - care about case sensitivity \n",
    "# (lowercase letter , uppercase letter ,lowercase are suggested)\n",
    "\n",
    "hotel_menu=\"mumbai biryani\"\n",
    "hotel_menu= 8\n",
    "# del hotel_menu     # to delete a variable use del keyword\n",
    "print(hotel_menu,) \n",
    "print(type(hotel_menu))"
   ]
  },
  {
   "cell_type": "markdown",
   "id": "65808d44",
   "metadata": {},
   "source": [
    "**06 - input variable**"
   ]
  },
  {
   "cell_type": "code",
   "execution_count": 6,
   "id": "e62bf9fe",
   "metadata": {},
   "outputs": [
    {
     "name": "stdout",
     "output_type": "stream",
     "text": [
      "what is your name ? ali\n",
      "how old are you ? 12\n",
      "hello ! , m.r  ali you are still young.\n"
     ]
    }
   ],
   "source": [
    "# hotel_menu=\"namkeen\"\n",
    "# print(hotel_menu)\n",
    "\n",
    "# input function simple method\n",
    "# hotel_menu=input(\"what is your favourite dish ? \")\n",
    "# print(\"nice choice\",hotel_menu)\n",
    "\n",
    "# input function of stege 2\n",
    "# favourite_subject=input(\"which is your favourite subject \")\n",
    "# greetings = \"nice option !\"\n",
    "# print(greetings , favourite_subject)\n",
    "\n",
    "# another way of stage 2 input function\n",
    "# favourite_subject=input(\"which is your favourite subject \")\n",
    "# # greetings = \n",
    "# print( \"nice option !\", favourite_subject)\n",
    "\n",
    "# input function of stage 3\n",
    "name = input (\"what is your name ? \")\n",
    "age = input(\"how old are you ? \")\n",
    "gtreeting=\"hello ! , m.r \"\n",
    "print(gtreeting,name,\"you are still young.\")"
   ]
  },
  {
   "cell_type": "markdown",
   "id": "a13cc05a",
   "metadata": {},
   "source": [
    "**07 - conditional logics**"
   ]
  },
  {
   "cell_type": "code",
   "execution_count": 7,
   "id": "244c5edb",
   "metadata": {},
   "outputs": [
    {
     "name": "stdout",
     "output_type": "stream",
     "text": [
      "how old is hammad 3\n",
      "<class 'int'>\n",
      "required age at school23\n",
      "<class 'int'>\n",
      "False\n"
     ]
    }
   ],
   "source": [
    "# logical operator are either \"true\" or \"false\" ,\"yes\" or \"no\" , \"0\" or \"1\"\n",
    "# equal to                          ==\n",
    "# not equal to                      !=\n",
    "# greater than                      >\n",
    "# less than                         <\n",
    "# greater than or equal to          >=\n",
    "# less than or equal to             <=\n",
    "# is 4 == 4\n",
    "# print(4==4)\n",
    "# print(4!=4)\n",
    "# print(5>4)\n",
    "# print(4>5)\n",
    "# print(6<10)\n",
    "# print(10<6)\n",
    "# print(6<=7)\n",
    "# print(7<=6)\n",
    "# print(6<=6)\n",
    "# print(6>=6)\n",
    "# print(7>=6)\n",
    "# print(6>=7)\n",
    "# print(7>=7)\n",
    "# print(7<=7)\n",
    "\n",
    "# application of logical operator\n",
    "# barrowed_amount=10000\n",
    "# paid_ammount=8000\n",
    "# print(barrowed_amount>=paid_ammount,\"ok mr you must pay the remaining ammount on time\")\n",
    "\n",
    "# barrowed_amount=10000\n",
    "# paid_ammount=input()\n",
    "# paid_ammount=int(paid_ammount)\n",
    "# print(type(paid_ammount))\n",
    "# print(barrowed_amount==paid_ammount)\n",
    "\n",
    "# input function and logical operator\n",
    "# barrowed_ammount=10000\n",
    "# paid_ammount=input(\"how much you paid ? \")\n",
    "# paid_ammount=int (paid_ammount)\n",
    "# print(type(paid_ammount))\n",
    "\n",
    "# print(barrowed_ammount==paid_ammount)\n",
    "\n",
    "# hammad_age=4\n",
    "# required_age_at_school=5\n",
    "# print(hammad_age==required_age_at_school , \"hammad is too young\")\n",
    "\n",
    "\n",
    "hammad_age=input(\"how old is hammad \")\n",
    "hammad_age=int(hammad_age)\n",
    "print(type(hammad_age))\n",
    "required_age_at_school=input(\"required age at school\")\n",
    "required_age_at_school=int(required_age_at_school)\n",
    "print(type(required_age_at_school))\n",
    "print(hammad_age>=required_age_at_school )\n"
   ]
  },
  {
   "cell_type": "markdown",
   "id": "beb66fe3",
   "metadata": {},
   "source": [
    "**08 - type conversion**"
   ]
  },
  {
   "cell_type": "code",
   "execution_count": 8,
   "id": "f4a09314",
   "metadata": {},
   "outputs": [
    {
     "name": "stdout",
     "output_type": "stream",
     "text": [
      "what is your name ? ali\n",
      "ali <class 'str'>\n"
     ]
    }
   ],
   "source": [
    "# type conversion\n",
    "x=4\n",
    "y=10.2\n",
    "z=\"khan\"\n",
    "# print(type(x))\n",
    "# print(type(y))\n",
    "# print(type(z))\n",
    "\n",
    "# implicit type conversion\n",
    "# x=2*x\n",
    "# print(type(x))\n",
    "# x=x*y\n",
    "# print(type(x))\n",
    "# y=3+y\n",
    "# print(type(y))\n",
    "\n",
    "# explicit type conversion\n",
    "# x=12.32\n",
    "# #x=int(x)\n",
    "# print(x,type(int(x)))\n",
    "# age=input(\"what is your age \")\n",
    "# # age=float(age)\n",
    "# print(age,type(int(age)))\n",
    "\n",
    "name=input(\"what is your name ? \")\n",
    "#name=int(name)\n",
    "print(name , type(str(name)))"
   ]
  },
  {
   "cell_type": "markdown",
   "id": "7b239a18",
   "metadata": {},
   "source": [
    "**09 - if , ifelse , elif**"
   ]
  },
  {
   "cell_type": "code",
   "execution_count": 9,
   "id": "7f632c81",
   "metadata": {},
   "outputs": [
    {
     "name": "stdout",
     "output_type": "stream",
     "text": [
      "age criteria for taking admission in school\n",
      "what is your good name ? khan\n",
      "nice name ! khan\n",
      "how old are you : 12\n",
      "khan you  should join the higher classes\n"
     ]
    }
   ],
   "source": [
    "# use if , else and elif\n",
    "print(\"age criteria for taking admission in school\")\n",
    "name=input(\"what is your good name ? \")\n",
    "greetings=\"nice name !\"\n",
    "print(greetings , name )\n",
    "age=input(\"how old are you : \") \n",
    "\n",
    "age=int(age)\n",
    "age_at_school=5\n",
    "# question : can hammad go to school\n",
    "if age==age_at_school:\n",
    "    print(name ,\", you can join the school from nursury\")\n",
    "elif age<=4:\n",
    "    print(name,\"take care of yourself , you are still a baby\")\n",
    "elif age <= 14:\n",
    "    print(name , \"you  should join the higher classes\")\n",
    "elif age <=25:\n",
    "    print(name ,\"you should join the higher secondary school\")\n",
    "else:\n",
    "    print(name ,\"you can't join the school\")\n",
    "\n",
    "# using if , else and elif to make a calculator\n",
    "# first_number=input(\"enter your first number \")\n",
    "# operator=input(\"enter the required operator \")\n",
    "# second_number=input(\"enter your second number \")\n",
    "\n",
    "\n"
   ]
  },
  {
   "cell_type": "markdown",
   "id": "a234c4f5",
   "metadata": {},
   "source": [
    "**10 - functions**"
   ]
  },
  {
   "cell_type": "code",
   "execution_count": 10,
   "id": "1e1e145c",
   "metadata": {},
   "outputs": [
    {
     "name": "stdout",
     "output_type": "stream",
     "text": [
      "enter your age 12\n",
      "your age after twenty year ! 32\n"
     ]
    }
   ],
   "source": [
    "# how to define a function\n",
    "# why we need a function i.e\n",
    "# fuction is a piece of code that can be used to perform a particular task\n",
    "# print (\"allah is great\")\n",
    "# print (\"allah is great\")\n",
    "# print (\"allah is great\")\n",
    "# print (\"allah is great\")\n",
    "\n",
    "\n",
    "# to define a function used the key word \"def\"\n",
    "# 1 method\n",
    "# def print_allah():\n",
    "#     print (\"allah is great\")\n",
    "#     print (\"allah is great\")\n",
    "#     print (\"allah is great\")\n",
    "#     print (\"allah is great\")\n",
    "\n",
    "# print_allah()\n",
    "\n",
    "# 2 method\n",
    "# def print_allah():\n",
    "#     text=\"allah is great\"\n",
    "#     print (text)\n",
    "#     print (text)\n",
    "#     print (text)\n",
    "#     print (text)\n",
    "\n",
    "# print_allah()\n",
    "\n",
    "# 3 method\n",
    "# def print_allah(text):\n",
    "#     print (text)\n",
    "#     print (text)\n",
    "#     print (text)\n",
    "#     print (text)\n",
    "\n",
    "# print_allah(\"allah is great\")\n",
    "\n",
    "\n",
    "# defining a function using if else & elif\n",
    "# def age_cal(text):\n",
    "#     print(text)\n",
    "#     person_one_age=input(\"enter person one age \")\n",
    "#     person_second_age=input(\"enter person second age \")\n",
    "\n",
    "#     if person_one_age==person_second_age:\n",
    "#         print(\"you both are coeval\")\n",
    "#     elif person_one_age > person_second_age:\n",
    "#         print(\"person one is elder than person second\")\n",
    "#     elif person_one_age < person_second_age:\n",
    "#         print(\"person one is younger than person second\")\n",
    "\n",
    "# age_cal(\"compare your age\")\n",
    "\n",
    "# def age_cal(person_one_age , person_second_age):\n",
    "#     # person_one_age=input(\"enter person one age \")\n",
    "#     # person_second_age=input(\"enter person second age \")\n",
    "\n",
    "#     if person_one_age==person_second_age:\n",
    "#         print(\"you both are coeval\")\n",
    "#     elif person_one_age > person_second_age:\n",
    "#         print(\"person one is elder than person second\")\n",
    "#     elif person_one_age < person_second_age:\n",
    "#         print(\"person one is younger than person second\")\n",
    "\n",
    "# age_cal(11,12)\n",
    " # defining a function using operators\n",
    "# x=input(\"enter your first number \")\n",
    "# y =input(\"enter your second number \")\n",
    "# if x==y:\n",
    "#     print(x,\",\",y,\"the value are equal\")\n",
    "# elif x>y:\n",
    "#     print(x,\",\",y,\"the x value are greater than y\")\n",
    "# elif x<y:\n",
    "#     print(x,\",\",y,\"the y value are greater than x\")\n",
    "      \n",
    "# define a function of future\n",
    "def future_age():\n",
    "    age=input(\"enter your age \")\n",
    "    age=int(age)\n",
    "    new_age=age+20\n",
    "    print(\"your age after twenty year !\",new_age)\n",
    "\n",
    "future_age()"
   ]
  },
  {
   "cell_type": "markdown",
   "id": "2a97944e",
   "metadata": {},
   "source": [
    "**11 - loops**"
   ]
  },
  {
   "cell_type": "code",
   "execution_count": 11,
   "id": "dd76b69d",
   "metadata": {},
   "outputs": [
    {
     "name": "stdout",
     "output_type": "stream",
     "text": [
      "mon\n",
      "tue\n",
      "wed\n",
      "thu\n",
      "sat\n",
      "sun\n"
     ]
    }
   ],
   "source": [
    "# what is loop ?\n",
    "# loop is working like cycle it repeat the until the given \n",
    "# condition become false\n",
    "# here we use two type of loops 1. while loops 2. for loops \n",
    "\n",
    "# understanding while loop\n",
    "# x=0\n",
    "# while(x<6):\n",
    "#     print(x)\n",
    "#     x=x+1\n",
    "\n",
    "\n",
    "# understanding for loop\n",
    "# for x in range (7,12):\n",
    "#     print(x)\n",
    "\n",
    "# understand of example of for loops\n",
    "\n",
    "days =  [ \"mon\" , \"tue\" , \"wed\" , \"thu\" , \"fri\" , \"sat\" , \"sun\" ]\n",
    "\n",
    "for d in days: \n",
    "    # if (d==\"sat\"): break\n",
    "    if (d==\"fri\"): continue\n",
    "    print(d)"
   ]
  },
  {
   "cell_type": "markdown",
   "id": "6ae5f969",
   "metadata": {},
   "source": [
    "**12 - import libraries**"
   ]
  },
  {
   "cell_type": "code",
   "execution_count": 12,
   "id": "fffa0658",
   "metadata": {},
   "outputs": [
    {
     "name": "stdout",
     "output_type": "stream",
     "text": [
      "the value of is  3.141592653589793\n",
      "300\n"
     ]
    }
   ],
   "source": [
    "# if you want to print the value of pi\n",
    "\n",
    "import math\n",
    "print(\"the value of is \" , math.pi)\n",
    "\n",
    "\n",
    "\n",
    "import statistics\n",
    "\n",
    "x = [ 150 , 250 ,350 ,450]\n",
    "print(statistics.mean(x))\n",
    "\n",
    "# some libraries are numpy , seaborn etc"
   ]
  },
  {
   "cell_type": "markdown",
   "id": "bec893ee",
   "metadata": {},
   "source": [
    "**13 - trouble shooting**"
   ]
  },
  {
   "cell_type": "code",
   "execution_count": 13,
   "id": "630b480b",
   "metadata": {},
   "outputs": [
    {
     "name": "stdout",
     "output_type": "stream",
     "text": [
      "we are learning python with aamar\n",
      "5\n",
      "hello !  aamar\n",
      "hello !aamar\n"
     ]
    }
   ],
   "source": [
    "#print(we are learning python with aamar) # syntax error (forget quotation  etc)\n",
    "print(\"we are learning python with aamar\")\n",
    "#print(25/0) # run time error (to divide the number by non zero number)\n",
    "print(25//5)\n",
    "\n",
    "name = \"aamar\"\n",
    "#print(\"hello ! name\") # semantic error (own error )\n",
    "print(\"hello ! \" , name) # with space\n",
    "print(\"hello !\" +  name) # without space"
   ]
  },
  {
   "cell_type": "code",
   "execution_count": null,
   "id": "a34987aa",
   "metadata": {},
   "outputs": [],
   "source": []
  }
 ],
 "metadata": {
  "kernelspec": {
   "display_name": "Python 3 (ipykernel)",
   "language": "python",
   "name": "python3"
  },
  "language_info": {
   "codemirror_mode": {
    "name": "ipython",
    "version": 3
   },
   "file_extension": ".py",
   "mimetype": "text/x-python",
   "name": "python",
   "nbconvert_exporter": "python",
   "pygments_lexer": "ipython3",
   "version": "3.9.13"
  }
 },
 "nbformat": 4,
 "nbformat_minor": 5
}
