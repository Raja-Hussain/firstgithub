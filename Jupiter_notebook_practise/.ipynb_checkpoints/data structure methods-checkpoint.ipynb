{
 "cells": [
  {
   "cell_type": "markdown",
   "id": "bfb12877",
   "metadata": {},
   "source": [
    "### 1 - Tuple\n",
    "### 2 - list\n",
    "### 3 - dictionary\n",
    "### 4 - sets"
   ]
  },
  {
   "cell_type": "markdown",
   "id": "56a419f9",
   "metadata": {},
   "source": [
    "## 1 - Tuple\n",
    "- an ordered collection of items (indexed)\n",
    "- enclosed in round ( ) braces\n",
    "- different kind of data can be stored (i.e int , float ,str , boolean)\n",
    "- unmutatable\n",
    "- duplicates are allowed"
   ]
  },
  {
   "cell_type": "code",
   "execution_count": 1,
   "id": "6cdd34c7",
   "metadata": {},
   "outputs": [
    {
     "data": {
      "text/plain": [
       "('ali', 2, 3.5, False)"
      ]
     },
     "execution_count": 1,
     "metadata": {},
     "output_type": "execute_result"
    }
   ],
   "source": [
    "# tuple and its methods\n",
    "tup1=(\"ali\",2,3.5,False)\n",
    "tup1"
   ]
  },
  {
   "cell_type": "code",
   "execution_count": 2,
   "id": "30bba032",
   "metadata": {},
   "outputs": [
    {
     "data": {
      "text/plain": [
       "tuple"
      ]
     },
     "execution_count": 2,
     "metadata": {},
     "output_type": "execute_result"
    }
   ],
   "source": [
    "type(tup1)"
   ]
  },
  {
   "cell_type": "code",
   "execution_count": 3,
   "id": "d65f9b3d",
   "metadata": {},
   "outputs": [
    {
     "data": {
      "text/plain": [
       "4"
      ]
     },
     "execution_count": 3,
     "metadata": {},
     "output_type": "execute_result"
    }
   ],
   "source": [
    "len(tup1)"
   ]
  },
  {
   "cell_type": "code",
   "execution_count": 4,
   "id": "a019ef03",
   "metadata": {},
   "outputs": [
    {
     "data": {
      "text/plain": [
       "'ali'"
      ]
     },
     "execution_count": 4,
     "metadata": {},
     "output_type": "execute_result"
    }
   ],
   "source": [
    "tup1[0]"
   ]
  },
  {
   "cell_type": "code",
   "execution_count": 5,
   "id": "94320b4b",
   "metadata": {},
   "outputs": [
    {
     "data": {
      "text/plain": [
       "2"
      ]
     },
     "execution_count": 5,
     "metadata": {},
     "output_type": "execute_result"
    }
   ],
   "source": [
    "tup1[1]"
   ]
  },
  {
   "cell_type": "code",
   "execution_count": 6,
   "id": "c20f4d55",
   "metadata": {},
   "outputs": [
    {
     "data": {
      "text/plain": [
       "3.5"
      ]
     },
     "execution_count": 6,
     "metadata": {},
     "output_type": "execute_result"
    }
   ],
   "source": [
    "tup1[2]"
   ]
  },
  {
   "cell_type": "code",
   "execution_count": 7,
   "id": "35a260a2",
   "metadata": {},
   "outputs": [
    {
     "data": {
      "text/plain": [
       "False"
      ]
     },
     "execution_count": 7,
     "metadata": {},
     "output_type": "execute_result"
    }
   ],
   "source": [
    "tup1[3]"
   ]
  },
  {
   "cell_type": "code",
   "execution_count": 8,
   "id": "354d158d",
   "metadata": {},
   "outputs": [
    {
     "data": {
      "text/plain": [
       "('ali', 2, 3.5)"
      ]
     },
     "execution_count": 8,
     "metadata": {},
     "output_type": "execute_result"
    }
   ],
   "source": [
    "tup1[0:3]"
   ]
  },
  {
   "cell_type": "code",
   "execution_count": 9,
   "id": "30b738d4",
   "metadata": {},
   "outputs": [
    {
     "data": {
      "text/plain": [
       "('ali', 2, 3.5, False)"
      ]
     },
     "execution_count": 9,
     "metadata": {},
     "output_type": "execute_result"
    }
   ],
   "source": [
    "# the last index is exclusive\n",
    "tup1[0:4]"
   ]
  },
  {
   "cell_type": "code",
   "execution_count": 10,
   "id": "98c67987",
   "metadata": {},
   "outputs": [
    {
     "data": {
      "text/plain": [
       "('ali', 2)"
      ]
     },
     "execution_count": 10,
     "metadata": {},
     "output_type": "execute_result"
    }
   ],
   "source": [
    "tup1[0:2]"
   ]
  },
  {
   "cell_type": "code",
   "execution_count": 11,
   "id": "aea1f740",
   "metadata": {},
   "outputs": [
    {
     "data": {
      "text/plain": [
       "('ali', 2, 3.5, False)"
      ]
     },
     "execution_count": 11,
     "metadata": {},
     "output_type": "execute_result"
    }
   ],
   "source": [
    "tup1[0:]"
   ]
  },
  {
   "cell_type": "code",
   "execution_count": 12,
   "id": "a6b91175",
   "metadata": {},
   "outputs": [
    {
     "data": {
      "text/plain": [
       "(3.5, False)"
      ]
     },
     "execution_count": 12,
     "metadata": {},
     "output_type": "execute_result"
    }
   ],
   "source": [
    "tup1[2:]"
   ]
  },
  {
   "cell_type": "code",
   "execution_count": 13,
   "id": "0bcf751c",
   "metadata": {},
   "outputs": [
    {
     "data": {
      "text/plain": [
       "('ali', 2)"
      ]
     },
     "execution_count": 13,
     "metadata": {},
     "output_type": "execute_result"
    }
   ],
   "source": [
    "tup1[:2]"
   ]
  },
  {
   "cell_type": "code",
   "execution_count": 14,
   "id": "5740ed2c",
   "metadata": {},
   "outputs": [
    {
     "data": {
      "text/plain": [
       "False"
      ]
     },
     "execution_count": 14,
     "metadata": {},
     "output_type": "execute_result"
    }
   ],
   "source": [
    "tup1[-1]"
   ]
  },
  {
   "cell_type": "code",
   "execution_count": 15,
   "id": "f15c8554",
   "metadata": {},
   "outputs": [
    {
     "data": {
      "text/plain": [
       "3.5"
      ]
     },
     "execution_count": 15,
     "metadata": {},
     "output_type": "execute_result"
    }
   ],
   "source": [
    "tup1[-2]"
   ]
  },
  {
   "cell_type": "code",
   "execution_count": 16,
   "id": "50ecfaa7",
   "metadata": {},
   "outputs": [
    {
     "data": {
      "text/plain": [
       "2"
      ]
     },
     "execution_count": 16,
     "metadata": {},
     "output_type": "execute_result"
    }
   ],
   "source": [
    "tup1[-3]"
   ]
  },
  {
   "cell_type": "code",
   "execution_count": 17,
   "id": "1c3da2cb",
   "metadata": {},
   "outputs": [
    {
     "data": {
      "text/plain": [
       "'ali'"
      ]
     },
     "execution_count": 17,
     "metadata": {},
     "output_type": "execute_result"
    }
   ],
   "source": [
    "tup1[-4]"
   ]
  },
  {
   "cell_type": "code",
   "execution_count": 18,
   "id": "84529873",
   "metadata": {},
   "outputs": [
    {
     "data": {
      "text/plain": [
       "('ali', 2, 3.5)"
      ]
     },
     "execution_count": 18,
     "metadata": {},
     "output_type": "execute_result"
    }
   ],
   "source": [
    "tup1[-4:-1]"
   ]
  },
  {
   "cell_type": "code",
   "execution_count": 19,
   "id": "0bfb75e6",
   "metadata": {},
   "outputs": [
    {
     "data": {
      "text/plain": [
       "('ali', 2, 3.5, False)"
      ]
     },
     "execution_count": 19,
     "metadata": {},
     "output_type": "execute_result"
    }
   ],
   "source": [
    "tup1[-4:4]"
   ]
  },
  {
   "cell_type": "code",
   "execution_count": 20,
   "id": "bf40ad91",
   "metadata": {},
   "outputs": [
    {
     "data": {
      "text/plain": [
       "('khan', 45, 3.4, True)"
      ]
     },
     "execution_count": 20,
     "metadata": {},
     "output_type": "execute_result"
    }
   ],
   "source": [
    "# concatenation of tuples\n",
    "tup2=(\"khan\",45,3.4,True)\n",
    "tup2"
   ]
  },
  {
   "cell_type": "code",
   "execution_count": 21,
   "id": "0d0752ee",
   "metadata": {},
   "outputs": [
    {
     "data": {
      "text/plain": [
       "('ali', 2, 3.5, False, 'khan', 45, 3.4, True)"
      ]
     },
     "execution_count": 21,
     "metadata": {},
     "output_type": "execute_result"
    }
   ],
   "source": [
    "tup1+tup2"
   ]
  },
  {
   "cell_type": "code",
   "execution_count": 22,
   "id": "7a474987",
   "metadata": {},
   "outputs": [
    {
     "data": {
      "text/plain": [
       "('ali', 2, 3.5, False, 'ali', 2, 3.5, False)"
      ]
     },
     "execution_count": 22,
     "metadata": {},
     "output_type": "execute_result"
    }
   ],
   "source": [
    "tup1*2"
   ]
  },
  {
   "cell_type": "code",
   "execution_count": 23,
   "id": "f810df6e",
   "metadata": {},
   "outputs": [
    {
     "data": {
      "text/plain": [
       "('ali', 2, 3.5, False, 'ali', 2, 3.5, False, 'khan', 45, 3.4, True)"
      ]
     },
     "execution_count": 23,
     "metadata": {},
     "output_type": "execute_result"
    }
   ],
   "source": [
    "tup1*2+tup2"
   ]
  },
  {
   "cell_type": "code",
   "execution_count": 24,
   "id": "d4fe3ba5",
   "metadata": {},
   "outputs": [
    {
     "data": {
      "text/plain": [
       "(20, 30, 23, 12, 11, 1, 28, 34)"
      ]
     },
     "execution_count": 24,
     "metadata": {},
     "output_type": "execute_result"
    }
   ],
   "source": [
    "tup3=(20,30,23,12,11,1,28,34)\n",
    "tup3"
   ]
  },
  {
   "cell_type": "code",
   "execution_count": 25,
   "id": "75cc5eb6",
   "metadata": {},
   "outputs": [
    {
     "data": {
      "text/plain": [
       "0"
      ]
     },
     "execution_count": 25,
     "metadata": {},
     "output_type": "execute_result"
    }
   ],
   "source": [
    "tup3.index(20)"
   ]
  },
  {
   "cell_type": "code",
   "execution_count": 26,
   "id": "a9b75bd0",
   "metadata": {},
   "outputs": [
    {
     "data": {
      "text/plain": [
       "1"
      ]
     },
     "execution_count": 26,
     "metadata": {},
     "output_type": "execute_result"
    }
   ],
   "source": [
    "tup3.count(11)"
   ]
  },
  {
   "cell_type": "code",
   "execution_count": 27,
   "id": "8331255b",
   "metadata": {},
   "outputs": [
    {
     "data": {
      "text/plain": [
       "1"
      ]
     },
     "execution_count": 27,
     "metadata": {},
     "output_type": "execute_result"
    }
   ],
   "source": [
    "min(tup3)"
   ]
  },
  {
   "cell_type": "code",
   "execution_count": 28,
   "id": "3a2f5dd0",
   "metadata": {},
   "outputs": [
    {
     "data": {
      "text/plain": [
       "34"
      ]
     },
     "execution_count": 28,
     "metadata": {},
     "output_type": "execute_result"
    }
   ],
   "source": [
    "max(tup3)"
   ]
  },
  {
   "cell_type": "code",
   "execution_count": 29,
   "id": "ce514fb3",
   "metadata": {},
   "outputs": [
    {
     "data": {
      "text/plain": [
       "(20, 30, 23, 12, 11, 1, 28, 34)"
      ]
     },
     "execution_count": 29,
     "metadata": {},
     "output_type": "execute_result"
    }
   ],
   "source": [
    "tup3"
   ]
  },
  {
   "cell_type": "code",
   "execution_count": 30,
   "id": "4e56105d",
   "metadata": {},
   "outputs": [
    {
     "data": {
      "text/plain": [
       "[20, 30, 23, 12, 11, 1, 28, 34]"
      ]
     },
     "execution_count": 30,
     "metadata": {},
     "output_type": "execute_result"
    }
   ],
   "source": [
    "x=list(tup3)\n",
    "x"
   ]
  },
  {
   "cell_type": "code",
   "execution_count": 31,
   "id": "7d2a2126",
   "metadata": {},
   "outputs": [],
   "source": [
    "x.sort()"
   ]
  },
  {
   "cell_type": "code",
   "execution_count": 32,
   "id": "73a392e3",
   "metadata": {},
   "outputs": [
    {
     "data": {
      "text/plain": [
       "[1, 11, 12, 20, 23, 28, 30, 34]"
      ]
     },
     "execution_count": 32,
     "metadata": {},
     "output_type": "execute_result"
    }
   ],
   "source": [
    "x"
   ]
  },
  {
   "cell_type": "code",
   "execution_count": 33,
   "id": "0d42d179",
   "metadata": {},
   "outputs": [
    {
     "data": {
      "text/plain": [
       "1"
      ]
     },
     "execution_count": 33,
     "metadata": {},
     "output_type": "execute_result"
    }
   ],
   "source": [
    "min(x)"
   ]
  },
  {
   "cell_type": "code",
   "execution_count": 34,
   "id": "30df2354",
   "metadata": {},
   "outputs": [
    {
     "data": {
      "text/plain": [
       "(1, 11, 12, 20, 23, 28, 30, 34)"
      ]
     },
     "execution_count": 34,
     "metadata": {},
     "output_type": "execute_result"
    }
   ],
   "source": [
    "tup3=tuple(x)\n",
    "tup3"
   ]
  },
  {
   "cell_type": "code",
   "execution_count": 35,
   "id": "82e74ed6",
   "metadata": {},
   "outputs": [
    {
     "data": {
      "text/plain": [
       "('banana', 'mangoes', 'apple', 'cherry')"
      ]
     },
     "execution_count": 35,
     "metadata": {},
     "output_type": "execute_result"
    }
   ],
   "source": [
    "tup4=(\"banana\",\"mangoes\",\"apple\",\"cherry\")\n",
    "tup4"
   ]
  },
  {
   "cell_type": "code",
   "execution_count": 36,
   "id": "7a8cd757",
   "metadata": {},
   "outputs": [
    {
     "name": "stdout",
     "output_type": "stream",
     "text": [
      "yes the apple is in\n"
     ]
    }
   ],
   "source": [
    "if \"apple\" in tup4:\n",
    "    print(\"yes the apple is in\")"
   ]
  },
  {
   "cell_type": "code",
   "execution_count": 37,
   "id": "9a711af6",
   "metadata": {},
   "outputs": [
    {
     "name": "stdout",
     "output_type": "stream",
     "text": [
      "banana yes\n",
      "mangoes yes\n",
      "apple yes\n",
      "cherry yes\n"
     ]
    }
   ],
   "source": [
    "for x in (tup4):\n",
    "   #if \"banana\" in tup4:\n",
    "        print(x,\"yes\")\n",
    "    #print(x)"
   ]
  },
  {
   "cell_type": "code",
   "execution_count": 38,
   "id": "356171cb",
   "metadata": {},
   "outputs": [
    {
     "data": {
      "text/plain": [
       "['banana', 'mangoes', 'apple', 'cherry']"
      ]
     },
     "execution_count": 38,
     "metadata": {},
     "output_type": "execute_result"
    }
   ],
   "source": [
    "# in order to update a tuple first we convert a tuple into a list i.e\n",
    "l1=list(tup4)\n",
    "l1"
   ]
  },
  {
   "cell_type": "code",
   "execution_count": 39,
   "id": "1fc5c20c",
   "metadata": {},
   "outputs": [
    {
     "data": {
      "text/plain": [
       "['banana', 'mangoes', 'apple', 'cherry', 'strwberry']"
      ]
     },
     "execution_count": 39,
     "metadata": {},
     "output_type": "execute_result"
    }
   ],
   "source": [
    "l1.append(\"strwberry\")\n",
    "l1"
   ]
  },
  {
   "cell_type": "code",
   "execution_count": 40,
   "id": "f96be90d",
   "metadata": {},
   "outputs": [
    {
     "data": {
      "text/plain": [
       "1"
      ]
     },
     "execution_count": 40,
     "metadata": {},
     "output_type": "execute_result"
    }
   ],
   "source": [
    "l1.count(\"banana\")\n"
   ]
  },
  {
   "cell_type": "code",
   "execution_count": 41,
   "id": "0c0fd807",
   "metadata": {},
   "outputs": [
    {
     "data": {
      "text/plain": [
       "['banana', 'mangoes', 'apple', 'watermelon', 'cherry', 'strwberry']"
      ]
     },
     "execution_count": 41,
     "metadata": {},
     "output_type": "execute_result"
    }
   ],
   "source": [
    "l1.insert(3,\"watermelon\")\n",
    "l1"
   ]
  },
  {
   "cell_type": "code",
   "execution_count": 42,
   "id": "ef89d9e1",
   "metadata": {},
   "outputs": [],
   "source": [
    "l1.sort()"
   ]
  },
  {
   "cell_type": "code",
   "execution_count": 43,
   "id": "00c23591",
   "metadata": {},
   "outputs": [
    {
     "data": {
      "text/plain": [
       "['apple', 'banana', 'cherry', 'mangoes', 'strwberry', 'watermelon']"
      ]
     },
     "execution_count": 43,
     "metadata": {},
     "output_type": "execute_result"
    }
   ],
   "source": [
    "l1"
   ]
  },
  {
   "cell_type": "code",
   "execution_count": 44,
   "id": "18d1c7b1",
   "metadata": {},
   "outputs": [
    {
     "data": {
      "text/plain": [
       "['watermelon', 'strwberry', 'mangoes', 'cherry', 'banana', 'apple']"
      ]
     },
     "execution_count": 44,
     "metadata": {},
     "output_type": "execute_result"
    }
   ],
   "source": [
    "l1.sort(reverse=True)\n",
    "l1"
   ]
  },
  {
   "cell_type": "code",
   "execution_count": 45,
   "id": "d38d5dc4",
   "metadata": {},
   "outputs": [],
   "source": [
    "tup4=tuple(l1)"
   ]
  },
  {
   "cell_type": "code",
   "execution_count": 46,
   "id": "d41b2a64",
   "metadata": {},
   "outputs": [
    {
     "data": {
      "text/plain": [
       "('watermelon', 'strwberry', 'mangoes', 'cherry', 'banana', 'apple')"
      ]
     },
     "execution_count": 46,
     "metadata": {},
     "output_type": "execute_result"
    }
   ],
   "source": [
    "tup4"
   ]
  },
  {
   "cell_type": "code",
   "execution_count": 47,
   "id": "98e18550",
   "metadata": {},
   "outputs": [
    {
     "name": "stdout",
     "output_type": "stream",
     "text": [
      "mangoes\n",
      "apples\n",
      "bananas\n",
      "melons\n"
     ]
    }
   ],
   "source": [
    "# unpacking of tuple\n",
    "tup5=(\"mangoes\",\"apples\",\"bananas\",\"melons\")\n",
    "(w,x,y,z)=tup5\n",
    "print(w)\n",
    "print(x)\n",
    "print(y)\n",
    "print(z)\n"
   ]
  },
  {
   "cell_type": "code",
   "execution_count": 48,
   "id": "2564e660",
   "metadata": {},
   "outputs": [
    {
     "name": "stdout",
     "output_type": "stream",
     "text": [
      "apple\n",
      "banana\n",
      "apricot\n",
      "['pears', 'cherry', 'strawberry', 'melons', 'watermelons']\n"
     ]
    }
   ],
   "source": [
    "tup6=(\"apple\",\"banana\",\"apricot\",\"pears\",\"cherry\",\"strawberry\",\"melons\",\"watermelons\")\n",
    "(green,yellow,blue,*white)=tup6\n",
    "print(green)\n",
    "print(yellow)\n",
    "print(blue)\n",
    "print(white)"
   ]
  },
  {
   "cell_type": "code",
   "execution_count": 49,
   "id": "9a7989d3",
   "metadata": {},
   "outputs": [
    {
     "name": "stdout",
     "output_type": "stream",
     "text": [
      "apples\n",
      "bananas\n",
      "cherry\n"
     ]
    }
   ],
   "source": [
    "tup7=(\"apples\",\"bananas\",\"cherry\")\n",
    "for i in range(len(tup7)):\n",
    "    print(tup7[i])"
   ]
  },
  {
   "cell_type": "code",
   "execution_count": 50,
   "id": "9b9018a6",
   "metadata": {},
   "outputs": [
    {
     "name": "stdout",
     "output_type": "stream",
     "text": [
      "apples\n",
      "bananas\n",
      "cherry\n"
     ]
    }
   ],
   "source": [
    "for i in tup7:\n",
    "    print(i)"
   ]
  },
  {
   "cell_type": "code",
   "execution_count": 51,
   "id": "911f5859",
   "metadata": {},
   "outputs": [
    {
     "data": {
      "text/plain": [
       "('apples', 'bananas', 'cherry')"
      ]
     },
     "execution_count": 51,
     "metadata": {},
     "output_type": "execute_result"
    }
   ],
   "source": [
    "tup7"
   ]
  },
  {
   "cell_type": "code",
   "execution_count": 52,
   "id": "f60b73f5",
   "metadata": {},
   "outputs": [
    {
     "data": {
      "text/plain": [
       "3"
      ]
     },
     "execution_count": 52,
     "metadata": {},
     "output_type": "execute_result"
    }
   ],
   "source": [
    "len(tup7)"
   ]
  },
  {
   "cell_type": "code",
   "execution_count": 53,
   "id": "af1a7171",
   "metadata": {},
   "outputs": [
    {
     "name": "stdout",
     "output_type": "stream",
     "text": [
      "apples\n",
      "bananas\n",
      "cherry\n"
     ]
    }
   ],
   "source": [
    "i=0\n",
    "while i < len(tup7):\n",
    "    print(tup7[i])\n",
    "    i+=1"
   ]
  },
  {
   "cell_type": "markdown",
   "id": "5685ea3d",
   "metadata": {},
   "source": [
    "## 2 - List\n",
    "- an orderd collection of elements (indexed)\n",
    "- enclosed in square [ ] brases\n",
    "- different kind of elements can be stored (i.e int , float ,str , boolean)\n",
    "- mutatable\n",
    "- allow duplicates\n",
    "\n"
   ]
  },
  {
   "cell_type": "code",
   "execution_count": 54,
   "id": "0f10a276",
   "metadata": {},
   "outputs": [
    {
     "data": {
      "text/plain": [
       "[12, 'hassan', True, 12.4]"
      ]
     },
     "execution_count": 54,
     "metadata": {},
     "output_type": "execute_result"
    }
   ],
   "source": [
    "l1=[12,\"hassan\",True,12.4]\n",
    "l1"
   ]
  },
  {
   "cell_type": "code",
   "execution_count": 55,
   "id": "88a7ab4a",
   "metadata": {},
   "outputs": [
    {
     "data": {
      "text/plain": [
       "list"
      ]
     },
     "execution_count": 55,
     "metadata": {},
     "output_type": "execute_result"
    }
   ],
   "source": [
    "type(l1)"
   ]
  },
  {
   "cell_type": "code",
   "execution_count": 56,
   "id": "17535f2b",
   "metadata": {},
   "outputs": [
    {
     "data": {
      "text/plain": [
       "4"
      ]
     },
     "execution_count": 56,
     "metadata": {},
     "output_type": "execute_result"
    }
   ],
   "source": [
    "len(l1)"
   ]
  },
  {
   "cell_type": "code",
   "execution_count": 57,
   "id": "df00c265",
   "metadata": {},
   "outputs": [
    {
     "data": {
      "text/plain": [
       "12"
      ]
     },
     "execution_count": 57,
     "metadata": {},
     "output_type": "execute_result"
    }
   ],
   "source": [
    "l1[0]"
   ]
  },
  {
   "cell_type": "code",
   "execution_count": 58,
   "id": "1a4434f2",
   "metadata": {},
   "outputs": [
    {
     "data": {
      "text/plain": [
       "'hassan'"
      ]
     },
     "execution_count": 58,
     "metadata": {},
     "output_type": "execute_result"
    }
   ],
   "source": [
    "l1[1]"
   ]
  },
  {
   "cell_type": "code",
   "execution_count": 59,
   "id": "7be0eaf2",
   "metadata": {},
   "outputs": [
    {
     "data": {
      "text/plain": [
       "True"
      ]
     },
     "execution_count": 59,
     "metadata": {},
     "output_type": "execute_result"
    }
   ],
   "source": [
    "l1[2]"
   ]
  },
  {
   "cell_type": "code",
   "execution_count": 60,
   "id": "3a029b95",
   "metadata": {},
   "outputs": [
    {
     "data": {
      "text/plain": [
       "12.4"
      ]
     },
     "execution_count": 60,
     "metadata": {},
     "output_type": "execute_result"
    }
   ],
   "source": [
    "l1[3]"
   ]
  },
  {
   "cell_type": "code",
   "execution_count": 61,
   "id": "d88b0484",
   "metadata": {},
   "outputs": [
    {
     "data": {
      "text/plain": [
       "[12, 'hassan', True]"
      ]
     },
     "execution_count": 61,
     "metadata": {},
     "output_type": "execute_result"
    }
   ],
   "source": [
    "l1[0:3]"
   ]
  },
  {
   "cell_type": "code",
   "execution_count": 62,
   "id": "7d8dc971",
   "metadata": {},
   "outputs": [
    {
     "data": {
      "text/plain": [
       "[12, 'hassan', True, 12.4]"
      ]
     },
     "execution_count": 62,
     "metadata": {},
     "output_type": "execute_result"
    }
   ],
   "source": [
    "# the last index is exclusive\n",
    "l1[0:4]"
   ]
  },
  {
   "cell_type": "code",
   "execution_count": 63,
   "id": "2252e86b",
   "metadata": {},
   "outputs": [
    {
     "data": {
      "text/plain": [
       "[12, 'hassan', True, 12.4]"
      ]
     },
     "execution_count": 63,
     "metadata": {},
     "output_type": "execute_result"
    }
   ],
   "source": [
    "l1[0:]"
   ]
  },
  {
   "cell_type": "code",
   "execution_count": 64,
   "id": "b477cec1",
   "metadata": {},
   "outputs": [
    {
     "data": {
      "text/plain": [
       "[12, 'hassan', True]"
      ]
     },
     "execution_count": 64,
     "metadata": {},
     "output_type": "execute_result"
    }
   ],
   "source": [
    "l1[:3]"
   ]
  },
  {
   "cell_type": "code",
   "execution_count": 65,
   "id": "825d5b13",
   "metadata": {},
   "outputs": [
    {
     "data": {
      "text/plain": [
       "[12, 'hassan', True, 12.4]"
      ]
     },
     "execution_count": 65,
     "metadata": {},
     "output_type": "execute_result"
    }
   ],
   "source": [
    "l1[:4]"
   ]
  },
  {
   "cell_type": "code",
   "execution_count": 66,
   "id": "75d6234a",
   "metadata": {},
   "outputs": [
    {
     "data": {
      "text/plain": [
       "['hassan', True]"
      ]
     },
     "execution_count": 66,
     "metadata": {},
     "output_type": "execute_result"
    }
   ],
   "source": [
    "l1[1:3]"
   ]
  },
  {
   "cell_type": "code",
   "execution_count": 67,
   "id": "500d4b37",
   "metadata": {},
   "outputs": [
    {
     "data": {
      "text/plain": [
       "12.4"
      ]
     },
     "execution_count": 67,
     "metadata": {},
     "output_type": "execute_result"
    }
   ],
   "source": [
    "l1[-1]"
   ]
  },
  {
   "cell_type": "code",
   "execution_count": 68,
   "id": "c9c7990c",
   "metadata": {},
   "outputs": [
    {
     "data": {
      "text/plain": [
       "True"
      ]
     },
     "execution_count": 68,
     "metadata": {},
     "output_type": "execute_result"
    }
   ],
   "source": [
    "l1[-2]"
   ]
  },
  {
   "cell_type": "code",
   "execution_count": 69,
   "id": "f1e39c94",
   "metadata": {},
   "outputs": [
    {
     "data": {
      "text/plain": [
       "'hassan'"
      ]
     },
     "execution_count": 69,
     "metadata": {},
     "output_type": "execute_result"
    }
   ],
   "source": [
    "l1[-3]"
   ]
  },
  {
   "cell_type": "code",
   "execution_count": 70,
   "id": "7fa2777f",
   "metadata": {},
   "outputs": [
    {
     "data": {
      "text/plain": [
       "12"
      ]
     },
     "execution_count": 70,
     "metadata": {},
     "output_type": "execute_result"
    }
   ],
   "source": [
    "l1[-4]"
   ]
  },
  {
   "cell_type": "code",
   "execution_count": 71,
   "id": "6790abf7",
   "metadata": {},
   "outputs": [
    {
     "data": {
      "text/plain": [
       "[12, 'hassan']"
      ]
     },
     "execution_count": 71,
     "metadata": {},
     "output_type": "execute_result"
    }
   ],
   "source": [
    "l1[-4:-2]"
   ]
  },
  {
   "cell_type": "code",
   "execution_count": 72,
   "id": "3fa72d53",
   "metadata": {},
   "outputs": [
    {
     "data": {
      "text/plain": [
       "['hassan', True]"
      ]
     },
     "execution_count": 72,
     "metadata": {},
     "output_type": "execute_result"
    }
   ],
   "source": [
    "l1[-3:-1]"
   ]
  },
  {
   "cell_type": "code",
   "execution_count": 73,
   "id": "71712195",
   "metadata": {},
   "outputs": [
    {
     "data": {
      "text/plain": [
       "[12, 'hassan', True, 12.4]"
      ]
     },
     "execution_count": 73,
     "metadata": {},
     "output_type": "execute_result"
    }
   ],
   "source": [
    "l1[-4:4]"
   ]
  },
  {
   "cell_type": "code",
   "execution_count": 74,
   "id": "9075ef02",
   "metadata": {},
   "outputs": [
    {
     "data": {
      "text/plain": [
       "[23, 'jan', False, 34.3]"
      ]
     },
     "execution_count": 74,
     "metadata": {},
     "output_type": "execute_result"
    }
   ],
   "source": [
    "# concatenation of lists\n",
    "l2=[23,\"jan\",False,34.3]\n",
    "l2"
   ]
  },
  {
   "cell_type": "code",
   "execution_count": 75,
   "id": "5637fd1d",
   "metadata": {},
   "outputs": [
    {
     "data": {
      "text/plain": [
       "[12, 'hassan', True, 12.4, 23, 'jan', False, 34.3]"
      ]
     },
     "execution_count": 75,
     "metadata": {},
     "output_type": "execute_result"
    }
   ],
   "source": [
    "l1+l2"
   ]
  },
  {
   "cell_type": "code",
   "execution_count": 76,
   "id": "66cefb1d",
   "metadata": {},
   "outputs": [
    {
     "data": {
      "text/plain": [
       "[12, 'hassan', True, 12.4, 23, 'jan', False, 34.3]"
      ]
     },
     "execution_count": 76,
     "metadata": {},
     "output_type": "execute_result"
    }
   ],
   "source": [
    "l3=l1+l2\n",
    "l3"
   ]
  },
  {
   "cell_type": "code",
   "execution_count": 77,
   "id": "ab15e974",
   "metadata": {},
   "outputs": [
    {
     "data": {
      "text/plain": [
       "[12,\n",
       " 'hassan',\n",
       " True,\n",
       " 12.4,\n",
       " 23,\n",
       " 'jan',\n",
       " False,\n",
       " 34.3,\n",
       " 12,\n",
       " 'hassan',\n",
       " True,\n",
       " 12.4,\n",
       " 23,\n",
       " 'jan',\n",
       " False,\n",
       " 34.3]"
      ]
     },
     "execution_count": 77,
     "metadata": {},
     "output_type": "execute_result"
    }
   ],
   "source": [
    "l3*2"
   ]
  },
  {
   "cell_type": "code",
   "execution_count": 78,
   "id": "2c3554d6",
   "metadata": {},
   "outputs": [
    {
     "data": {
      "text/plain": [
       "[12, 'hassan', True, 12.4]"
      ]
     },
     "execution_count": 78,
     "metadata": {},
     "output_type": "execute_result"
    }
   ],
   "source": [
    "l1"
   ]
  },
  {
   "cell_type": "code",
   "execution_count": 79,
   "id": "009b4cbd",
   "metadata": {},
   "outputs": [
    {
     "data": {
      "text/plain": [
       "[12, 'hassan', True, 12.4, 12, 'hassan', True, 12.4, 23, 'jan', False, 34.3]"
      ]
     },
     "execution_count": 79,
     "metadata": {},
     "output_type": "execute_result"
    }
   ],
   "source": [
    "l1*2+l2"
   ]
  },
  {
   "cell_type": "code",
   "execution_count": 80,
   "id": "621f3943",
   "metadata": {},
   "outputs": [
    {
     "data": {
      "text/plain": [
       "[12, 'hassan', True, 12.4, 'its working']"
      ]
     },
     "execution_count": 80,
     "metadata": {},
     "output_type": "execute_result"
    }
   ],
   "source": [
    "l1.append(\"its working\")\n",
    "l1"
   ]
  },
  {
   "cell_type": "code",
   "execution_count": 81,
   "id": "557084df",
   "metadata": {},
   "outputs": [],
   "source": [
    "# l1.clear()\n",
    "# l1"
   ]
  },
  {
   "cell_type": "code",
   "execution_count": 82,
   "id": "3f5e5607",
   "metadata": {},
   "outputs": [
    {
     "data": {
      "text/plain": [
       "[12, 'hassan', True, 12.4, 'its working']"
      ]
     },
     "execution_count": 82,
     "metadata": {},
     "output_type": "execute_result"
    }
   ],
   "source": [
    "l1"
   ]
  },
  {
   "cell_type": "code",
   "execution_count": 83,
   "id": "423dcf34",
   "metadata": {},
   "outputs": [
    {
     "data": {
      "text/plain": [
       "[23, 'jan', False, 34.3]"
      ]
     },
     "execution_count": 83,
     "metadata": {},
     "output_type": "execute_result"
    }
   ],
   "source": [
    "l1=l2.copy()\n",
    "l1"
   ]
  },
  {
   "cell_type": "code",
   "execution_count": 84,
   "id": "afb164f5",
   "metadata": {},
   "outputs": [
    {
     "data": {
      "text/plain": [
       "[23, 'jan', False, 34.3]"
      ]
     },
     "execution_count": 84,
     "metadata": {},
     "output_type": "execute_result"
    }
   ],
   "source": [
    "l2"
   ]
  },
  {
   "cell_type": "code",
   "execution_count": 85,
   "id": "737eadf3",
   "metadata": {},
   "outputs": [
    {
     "data": {
      "text/plain": [
       "[23, 'jan', False, 34.3]"
      ]
     },
     "execution_count": 85,
     "metadata": {},
     "output_type": "execute_result"
    }
   ],
   "source": [
    "l1"
   ]
  },
  {
   "cell_type": "code",
   "execution_count": 86,
   "id": "c0d9d8c5",
   "metadata": {},
   "outputs": [
    {
     "data": {
      "text/plain": [
       "[1, 'khan', 23.4, False]"
      ]
     },
     "execution_count": 86,
     "metadata": {},
     "output_type": "execute_result"
    }
   ],
   "source": [
    "l4=[1,\"khan\",23.4,False]\n",
    "l4"
   ]
  },
  {
   "cell_type": "code",
   "execution_count": 87,
   "id": "f2b22511",
   "metadata": {},
   "outputs": [
    {
     "data": {
      "text/plain": [
       "[1, 'khan', 23.4, False]"
      ]
     },
     "execution_count": 87,
     "metadata": {},
     "output_type": "execute_result"
    }
   ],
   "source": [
    "l5=l4.copy()\n",
    "l5"
   ]
  },
  {
   "cell_type": "code",
   "execution_count": 88,
   "id": "e49bc511",
   "metadata": {},
   "outputs": [
    {
     "data": {
      "text/plain": [
       "[12, 'dfzdfff', 32.2, True]"
      ]
     },
     "execution_count": 88,
     "metadata": {},
     "output_type": "execute_result"
    }
   ],
   "source": [
    "l6=[12,\"dfzdfff\",32.2,True]\n",
    "l6"
   ]
  },
  {
   "cell_type": "code",
   "execution_count": 89,
   "id": "dc7977f0",
   "metadata": {},
   "outputs": [
    {
     "data": {
      "text/plain": [
       "[12, 'dfzdfff', 32.2, True]"
      ]
     },
     "execution_count": 89,
     "metadata": {},
     "output_type": "execute_result"
    }
   ],
   "source": [
    "l7=list(l6)\n",
    "l7"
   ]
  },
  {
   "cell_type": "code",
   "execution_count": 90,
   "id": "fec9fd97",
   "metadata": {},
   "outputs": [
    {
     "data": {
      "text/plain": [
       "1"
      ]
     },
     "execution_count": 90,
     "metadata": {},
     "output_type": "execute_result"
    }
   ],
   "source": [
    "l6.count(12)"
   ]
  },
  {
   "cell_type": "code",
   "execution_count": 91,
   "id": "4add57c7",
   "metadata": {},
   "outputs": [
    {
     "data": {
      "text/plain": [
       "3"
      ]
     },
     "execution_count": 91,
     "metadata": {},
     "output_type": "execute_result"
    }
   ],
   "source": [
    "l6.index(1)"
   ]
  },
  {
   "cell_type": "code",
   "execution_count": 92,
   "id": "aef6f096",
   "metadata": {},
   "outputs": [
    {
     "data": {
      "text/plain": [
       "[12, 'dfzdfff', 32.2, True]"
      ]
     },
     "execution_count": 92,
     "metadata": {},
     "output_type": "execute_result"
    }
   ],
   "source": [
    "l6"
   ]
  },
  {
   "cell_type": "code",
   "execution_count": 93,
   "id": "4ac2ecd4",
   "metadata": {},
   "outputs": [
    {
     "data": {
      "text/plain": [
       "[12, 'dfzdfff', 32.2, 1, True]"
      ]
     },
     "execution_count": 93,
     "metadata": {},
     "output_type": "execute_result"
    }
   ],
   "source": [
    "l6.insert(3,1)\n",
    "l6"
   ]
  },
  {
   "cell_type": "code",
   "execution_count": 94,
   "id": "f8f1d168",
   "metadata": {},
   "outputs": [
    {
     "data": {
      "text/plain": [
       "[1, 2, 3, 4, 5]"
      ]
     },
     "execution_count": 94,
     "metadata": {},
     "output_type": "execute_result"
    }
   ],
   "source": [
    "l8=[1,2,3,4,5]\n",
    "l8"
   ]
  },
  {
   "cell_type": "code",
   "execution_count": 95,
   "id": "505a45e5",
   "metadata": {},
   "outputs": [],
   "source": [
    "l8.insert(5,6)"
   ]
  },
  {
   "cell_type": "code",
   "execution_count": 96,
   "id": "ccbd7240",
   "metadata": {},
   "outputs": [
    {
     "data": {
      "text/plain": [
       "[1, 2, 3, 4, 5, 6]"
      ]
     },
     "execution_count": 96,
     "metadata": {},
     "output_type": "execute_result"
    }
   ],
   "source": [
    "l8"
   ]
  },
  {
   "cell_type": "code",
   "execution_count": 97,
   "id": "c714617c",
   "metadata": {},
   "outputs": [
    {
     "data": {
      "text/plain": [
       "[0, 1, 2, 3, 4, 5, 6]"
      ]
     },
     "execution_count": 97,
     "metadata": {},
     "output_type": "execute_result"
    }
   ],
   "source": [
    "l8.insert(0,0)\n",
    "l8"
   ]
  },
  {
   "cell_type": "code",
   "execution_count": 98,
   "id": "f07a8b2f",
   "metadata": {},
   "outputs": [
    {
     "data": {
      "text/plain": [
       "6"
      ]
     },
     "execution_count": 98,
     "metadata": {},
     "output_type": "execute_result"
    }
   ],
   "source": [
    "l8.index(6)"
   ]
  },
  {
   "cell_type": "code",
   "execution_count": 99,
   "id": "dac5ad68",
   "metadata": {},
   "outputs": [
    {
     "data": {
      "text/plain": [
       "6"
      ]
     },
     "execution_count": 99,
     "metadata": {},
     "output_type": "execute_result"
    }
   ],
   "source": [
    "l8.pop()"
   ]
  },
  {
   "cell_type": "code",
   "execution_count": 100,
   "id": "5157c162",
   "metadata": {},
   "outputs": [
    {
     "data": {
      "text/plain": [
       "[0, 1, 2, 3, 4, 5]"
      ]
     },
     "execution_count": 100,
     "metadata": {},
     "output_type": "execute_result"
    }
   ],
   "source": [
    "l8"
   ]
  },
  {
   "cell_type": "code",
   "execution_count": 101,
   "id": "8908e430",
   "metadata": {},
   "outputs": [
    {
     "data": {
      "text/plain": [
       "[0, 1, 2, 4, 5]"
      ]
     },
     "execution_count": 101,
     "metadata": {},
     "output_type": "execute_result"
    }
   ],
   "source": [
    "l8.remove(3)\n",
    "l8"
   ]
  },
  {
   "cell_type": "code",
   "execution_count": 102,
   "id": "1ec8cb24",
   "metadata": {},
   "outputs": [],
   "source": [
    "l8.reverse()"
   ]
  },
  {
   "cell_type": "code",
   "execution_count": 103,
   "id": "f55d0b57",
   "metadata": {},
   "outputs": [
    {
     "data": {
      "text/plain": [
       "[5, 4, 2, 1, 0]"
      ]
     },
     "execution_count": 103,
     "metadata": {},
     "output_type": "execute_result"
    }
   ],
   "source": [
    "l8"
   ]
  },
  {
   "cell_type": "code",
   "execution_count": 104,
   "id": "27e735c5",
   "metadata": {},
   "outputs": [
    {
     "data": {
      "text/plain": [
       "['banana', 'apple', 'mangoes']"
      ]
     },
     "execution_count": 104,
     "metadata": {},
     "output_type": "execute_result"
    }
   ],
   "source": [
    "l9=[\"banana\",\"apple\",\"mangoes\"]\n",
    "l9"
   ]
  },
  {
   "cell_type": "code",
   "execution_count": 105,
   "id": "ea399bfe",
   "metadata": {},
   "outputs": [
    {
     "data": {
      "text/plain": [
       "['red', 'blue', 'white']"
      ]
     },
     "execution_count": 105,
     "metadata": {},
     "output_type": "execute_result"
    }
   ],
   "source": [
    "l10=[\"red\",\"blue\",\"white\"]\n",
    "l10"
   ]
  },
  {
   "cell_type": "code",
   "execution_count": 106,
   "id": "198a94df",
   "metadata": {},
   "outputs": [],
   "source": [
    "l10.extend(l9)\n"
   ]
  },
  {
   "cell_type": "code",
   "execution_count": 107,
   "id": "ae8cd285",
   "metadata": {},
   "outputs": [
    {
     "data": {
      "text/plain": [
       "['red', 'blue', 'white', 'banana', 'apple', 'mangoes']"
      ]
     },
     "execution_count": 107,
     "metadata": {},
     "output_type": "execute_result"
    }
   ],
   "source": [
    "l10"
   ]
  },
  {
   "cell_type": "code",
   "execution_count": 108,
   "id": "d8b071d5",
   "metadata": {},
   "outputs": [],
   "source": [
    "l10.sort()"
   ]
  },
  {
   "cell_type": "code",
   "execution_count": 109,
   "id": "ccebdd9b",
   "metadata": {},
   "outputs": [
    {
     "data": {
      "text/plain": [
       "['apple', 'banana', 'blue', 'mangoes', 'red', 'white']"
      ]
     },
     "execution_count": 109,
     "metadata": {},
     "output_type": "execute_result"
    }
   ],
   "source": [
    "l10"
   ]
  },
  {
   "cell_type": "code",
   "execution_count": 110,
   "id": "2e0e7294",
   "metadata": {},
   "outputs": [
    {
     "name": "stdout",
     "output_type": "stream",
     "text": [
      "yes,\n"
     ]
    }
   ],
   "source": [
    "if \"apple\" in l10:\n",
    "    print(\"yes,\")"
   ]
  },
  {
   "cell_type": "code",
   "execution_count": 111,
   "id": "00dff7ba",
   "metadata": {},
   "outputs": [
    {
     "name": "stdout",
     "output_type": "stream",
     "text": [
      "apple\n",
      "banana\n",
      "blue\n",
      "mangoes\n",
      "red\n",
      "white\n"
     ]
    }
   ],
   "source": [
    "for i in l10:\n",
    "    print(i)"
   ]
  },
  {
   "cell_type": "code",
   "execution_count": 112,
   "id": "8f1f5e25",
   "metadata": {},
   "outputs": [
    {
     "name": "stdout",
     "output_type": "stream",
     "text": [
      "apple\n",
      "banana\n",
      "blue\n",
      "mangoes\n",
      "red\n",
      "white\n"
     ]
    }
   ],
   "source": [
    "i=0\n",
    "while i< len(l10):\n",
    "    print(l10[i])\n",
    "    i+=1"
   ]
  },
  {
   "cell_type": "markdown",
   "id": "576e5aba",
   "metadata": {},
   "source": [
    "## - Dictionaries\n",
    "- an orderd cllection of elements\n",
    "- enclosed in curly { } braces\n",
    "- dictinary are included on keys and values\n",
    "- mutatable\n",
    "- no duplictes allowed"
   ]
  },
  {
   "cell_type": "code",
   "execution_count": 113,
   "id": "5ccba99f",
   "metadata": {},
   "outputs": [
    {
     "data": {
      "text/plain": [
       "{'apples': 200, 'bananas': 250, 'cherry': 300, 'strwberry': 400, 'melon': 160}"
      ]
     },
     "execution_count": 113,
     "metadata": {},
     "output_type": "execute_result"
    }
   ],
   "source": [
    "d1={\"apples\":200,\"bananas\":250,\"cherry\":300,\"strwberry\":400,\"melon\":160}\n",
    "d1"
   ]
  },
  {
   "cell_type": "code",
   "execution_count": 114,
   "id": "874395f9",
   "metadata": {},
   "outputs": [
    {
     "data": {
      "text/plain": [
       "dict"
      ]
     },
     "execution_count": 114,
     "metadata": {},
     "output_type": "execute_result"
    }
   ],
   "source": [
    "type(d1)"
   ]
  },
  {
   "cell_type": "code",
   "execution_count": 115,
   "id": "04efc2ff",
   "metadata": {},
   "outputs": [
    {
     "data": {
      "text/plain": [
       "5"
      ]
     },
     "execution_count": 115,
     "metadata": {},
     "output_type": "execute_result"
    }
   ],
   "source": [
    "len(d1)"
   ]
  },
  {
   "cell_type": "code",
   "execution_count": 116,
   "id": "97b24496",
   "metadata": {},
   "outputs": [
    {
     "data": {
      "text/plain": [
       "200"
      ]
     },
     "execution_count": 116,
     "metadata": {},
     "output_type": "execute_result"
    }
   ],
   "source": [
    "d1[\"apples\"]"
   ]
  },
  {
   "cell_type": "code",
   "execution_count": 117,
   "id": "62430913",
   "metadata": {},
   "outputs": [
    {
     "data": {
      "text/plain": [
       "250"
      ]
     },
     "execution_count": 117,
     "metadata": {},
     "output_type": "execute_result"
    }
   ],
   "source": [
    "d1[\"bananas\"]"
   ]
  },
  {
   "cell_type": "code",
   "execution_count": 118,
   "id": "605a1418",
   "metadata": {},
   "outputs": [
    {
     "data": {
      "text/plain": [
       "300"
      ]
     },
     "execution_count": 118,
     "metadata": {},
     "output_type": "execute_result"
    }
   ],
   "source": [
    "d1[\"cherry\"]"
   ]
  },
  {
   "cell_type": "code",
   "execution_count": 119,
   "id": "c9d226ee",
   "metadata": {},
   "outputs": [
    {
     "data": {
      "text/plain": [
       "400"
      ]
     },
     "execution_count": 119,
     "metadata": {},
     "output_type": "execute_result"
    }
   ],
   "source": [
    "d1[\"strwberry\"]"
   ]
  },
  {
   "cell_type": "code",
   "execution_count": 120,
   "id": "3c39f8dd",
   "metadata": {},
   "outputs": [
    {
     "data": {
      "text/plain": [
       "160"
      ]
     },
     "execution_count": 120,
     "metadata": {},
     "output_type": "execute_result"
    }
   ],
   "source": [
    "d1[\"melon\"]"
   ]
  },
  {
   "cell_type": "code",
   "execution_count": 121,
   "id": "0dddb644",
   "metadata": {},
   "outputs": [
    {
     "data": {
      "text/plain": [
       "200"
      ]
     },
     "execution_count": 121,
     "metadata": {},
     "output_type": "execute_result"
    }
   ],
   "source": [
    "d1[\"apples\"]"
   ]
  },
  {
   "cell_type": "code",
   "execution_count": 122,
   "id": "1ac453a1",
   "metadata": {},
   "outputs": [
    {
     "data": {
      "text/plain": [
       "160"
      ]
     },
     "execution_count": 122,
     "metadata": {},
     "output_type": "execute_result"
    }
   ],
   "source": [
    "d1[\"melon\"]"
   ]
  },
  {
   "cell_type": "code",
   "execution_count": 123,
   "id": "9308b0da",
   "metadata": {},
   "outputs": [],
   "source": [
    "d1[\"watermelon\"]=340"
   ]
  },
  {
   "cell_type": "code",
   "execution_count": 124,
   "id": "e7bdc497",
   "metadata": {},
   "outputs": [
    {
     "data": {
      "text/plain": [
       "{'apples': 200,\n",
       " 'bananas': 250,\n",
       " 'cherry': 300,\n",
       " 'strwberry': 400,\n",
       " 'melon': 160,\n",
       " 'watermelon': 340}"
      ]
     },
     "execution_count": 124,
     "metadata": {},
     "output_type": "execute_result"
    }
   ],
   "source": [
    "d1\n"
   ]
  },
  {
   "cell_type": "code",
   "execution_count": 125,
   "id": "1ad36bc3",
   "metadata": {},
   "outputs": [],
   "source": [
    "# no duplicates allowed\n",
    "d1[\"apples\"]=1000"
   ]
  },
  {
   "cell_type": "code",
   "execution_count": 126,
   "id": "8b0bf26c",
   "metadata": {},
   "outputs": [
    {
     "data": {
      "text/plain": [
       "{'apples': 1000,\n",
       " 'bananas': 250,\n",
       " 'cherry': 300,\n",
       " 'strwberry': 400,\n",
       " 'melon': 160,\n",
       " 'watermelon': 340}"
      ]
     },
     "execution_count": 126,
     "metadata": {},
     "output_type": "execute_result"
    }
   ],
   "source": [
    "d1"
   ]
  },
  {
   "cell_type": "code",
   "execution_count": 127,
   "id": "560994d5",
   "metadata": {},
   "outputs": [
    {
     "data": {
      "text/plain": [
       "dict_keys(['apples', 'bananas', 'cherry', 'strwberry', 'melon', 'watermelon'])"
      ]
     },
     "execution_count": 127,
     "metadata": {},
     "output_type": "execute_result"
    }
   ],
   "source": [
    "d1.keys()"
   ]
  },
  {
   "cell_type": "code",
   "execution_count": 128,
   "id": "d69523b8",
   "metadata": {},
   "outputs": [
    {
     "data": {
      "text/plain": [
       "dict_values([1000, 250, 300, 400, 160, 340])"
      ]
     },
     "execution_count": 128,
     "metadata": {},
     "output_type": "execute_result"
    }
   ],
   "source": [
    "d1.values()"
   ]
  },
  {
   "cell_type": "code",
   "execution_count": 129,
   "id": "fd3fa261",
   "metadata": {},
   "outputs": [
    {
     "data": {
      "text/plain": [
       "1000"
      ]
     },
     "execution_count": 129,
     "metadata": {},
     "output_type": "execute_result"
    }
   ],
   "source": [
    "d1.get(\"apples\")"
   ]
  },
  {
   "cell_type": "code",
   "execution_count": 130,
   "id": "4c0e2980",
   "metadata": {},
   "outputs": [
    {
     "data": {
      "text/plain": [
       "dict_items([('apples', 1000), ('bananas', 250), ('cherry', 300), ('strwberry', 400), ('melon', 160), ('watermelon', 340)])"
      ]
     },
     "execution_count": 130,
     "metadata": {},
     "output_type": "execute_result"
    }
   ],
   "source": [
    "d1.items()"
   ]
  },
  {
   "cell_type": "code",
   "execution_count": 131,
   "id": "2eecff6b",
   "metadata": {},
   "outputs": [
    {
     "data": {
      "text/plain": [
       "340"
      ]
     },
     "execution_count": 131,
     "metadata": {},
     "output_type": "execute_result"
    }
   ],
   "source": [
    "d1.pop(\"watermelon\")"
   ]
  },
  {
   "cell_type": "code",
   "execution_count": 132,
   "id": "9f5cac3f",
   "metadata": {},
   "outputs": [
    {
     "data": {
      "text/plain": [
       "{'apples': 1000, 'bananas': 250, 'cherry': 300, 'strwberry': 400, 'melon': 160}"
      ]
     },
     "execution_count": 132,
     "metadata": {},
     "output_type": "execute_result"
    }
   ],
   "source": [
    "d1"
   ]
  },
  {
   "cell_type": "code",
   "execution_count": 133,
   "id": "b14c5a27",
   "metadata": {},
   "outputs": [
    {
     "data": {
      "text/plain": [
       "{'chawal': 280, 'subxi': 213, 'qeema': 38}"
      ]
     },
     "execution_count": 133,
     "metadata": {},
     "output_type": "execute_result"
    }
   ],
   "source": [
    "d2={\"chawal\":280,\"subxi\":213,\"qeema\":38}\n",
    "d2\n"
   ]
  },
  {
   "cell_type": "code",
   "execution_count": 134,
   "id": "d8fb1a64",
   "metadata": {},
   "outputs": [],
   "source": [
    "d1.update(d2)"
   ]
  },
  {
   "cell_type": "code",
   "execution_count": 135,
   "id": "9f48e366",
   "metadata": {},
   "outputs": [
    {
     "data": {
      "text/plain": [
       "{'apples': 1000,\n",
       " 'bananas': 250,\n",
       " 'cherry': 300,\n",
       " 'strwberry': 400,\n",
       " 'melon': 160,\n",
       " 'chawal': 280,\n",
       " 'subxi': 213,\n",
       " 'qeema': 38}"
      ]
     },
     "execution_count": 135,
     "metadata": {},
     "output_type": "execute_result"
    }
   ],
   "source": [
    "d1"
   ]
  },
  {
   "cell_type": "code",
   "execution_count": 136,
   "id": "61553ea9",
   "metadata": {},
   "outputs": [
    {
     "name": "stdout",
     "output_type": "stream",
     "text": [
      "yes\n"
     ]
    }
   ],
   "source": [
    "if \"apples\" in d1:\n",
    "    print(\"yes\")"
   ]
  },
  {
   "cell_type": "code",
   "execution_count": 137,
   "id": "609346dc",
   "metadata": {},
   "outputs": [
    {
     "name": "stdout",
     "output_type": "stream",
     "text": [
      "apples\n",
      "bananas\n",
      "cherry\n",
      "strwberry\n",
      "melon\n",
      "chawal\n",
      "subxi\n",
      "qeema\n"
     ]
    }
   ],
   "source": [
    "for x in d1:\n",
    "    print(x)"
   ]
  },
  {
   "cell_type": "code",
   "execution_count": 138,
   "id": "cdf3c7e6",
   "metadata": {
    "scrolled": true
   },
   "outputs": [
    {
     "name": "stdout",
     "output_type": "stream",
     "text": [
      "{'apples': 1000, 'bananas': 250, 'cherry': 300, 'strwberry': 400, 'melon': 160, 'chawal': 280, 'subxi': 213, 'qeema': 38}\n",
      "{'apples': 1000, 'bananas': 250, 'cherry': 300, 'strwberry': 400, 'melon': 160, 'chawal': 280, 'subxi': 213, 'qeema': 38}\n",
      "{'apples': 1000, 'bananas': 250, 'cherry': 300, 'strwberry': 400, 'melon': 160, 'chawal': 280, 'subxi': 213, 'qeema': 38}\n",
      "{'apples': 1000, 'bananas': 250, 'cherry': 300, 'strwberry': 400, 'melon': 160, 'chawal': 280, 'subxi': 213, 'qeema': 38}\n",
      "{'apples': 1000, 'bananas': 250, 'cherry': 300, 'strwberry': 400, 'melon': 160, 'chawal': 280, 'subxi': 213, 'qeema': 38}\n",
      "{'apples': 1000, 'bananas': 250, 'cherry': 300, 'strwberry': 400, 'melon': 160, 'chawal': 280, 'subxi': 213, 'qeema': 38}\n",
      "{'apples': 1000, 'bananas': 250, 'cherry': 300, 'strwberry': 400, 'melon': 160, 'chawal': 280, 'subxi': 213, 'qeema': 38}\n",
      "{'apples': 1000, 'bananas': 250, 'cherry': 300, 'strwberry': 400, 'melon': 160, 'chawal': 280, 'subxi': 213, 'qeema': 38}\n"
     ]
    }
   ],
   "source": [
    "x=0\n",
    "while x< len(d1):\n",
    "    print(d1)\n",
    "    x+=1"
   ]
  },
  {
   "cell_type": "code",
   "execution_count": 139,
   "id": "5f6f7b36",
   "metadata": {},
   "outputs": [
    {
     "data": {
      "text/plain": [
       "{'apples': 1000,\n",
       " 'bananas': 250,\n",
       " 'cherry': 300,\n",
       " 'strwberry': 400,\n",
       " 'melon': 160,\n",
       " 'chawal': 280,\n",
       " 'subxi': 213,\n",
       " 'qeema': 38}"
      ]
     },
     "execution_count": 139,
     "metadata": {},
     "output_type": "execute_result"
    }
   ],
   "source": [
    "d1"
   ]
  },
  {
   "cell_type": "code",
   "execution_count": 140,
   "id": "3db3d768",
   "metadata": {},
   "outputs": [
    {
     "data": {
      "text/plain": [
       "{'apples': 1000,\n",
       " 'bananas': 250,\n",
       " 'cherry': 300,\n",
       " 'strwberry': 400,\n",
       " 'melon': 160,\n",
       " 'chawal': 280,\n",
       " 'subxi': 213,\n",
       " 'qeema': 38,\n",
       " 'salad': 90}"
      ]
     },
     "execution_count": 140,
     "metadata": {},
     "output_type": "execute_result"
    }
   ],
   "source": [
    "d1.update({\"salad\":90})\n",
    "d1"
   ]
  },
  {
   "cell_type": "code",
   "execution_count": 141,
   "id": "50c4a9bf",
   "metadata": {},
   "outputs": [
    {
     "data": {
      "text/plain": [
       "{'water': 30, 'chakni': 40, 'raita': 100}"
      ]
     },
     "execution_count": 141,
     "metadata": {},
     "output_type": "execute_result"
    }
   ],
   "source": [
    "d2={\"water\":30,\"chakni\":40,\"raita\":100}\n",
    "d2"
   ]
  },
  {
   "cell_type": "code",
   "execution_count": 142,
   "id": "f170f3f9",
   "metadata": {},
   "outputs": [],
   "source": [
    "d1.update(d2)"
   ]
  },
  {
   "cell_type": "code",
   "execution_count": 143,
   "id": "bd17097c",
   "metadata": {},
   "outputs": [
    {
     "data": {
      "text/plain": [
       "{'apples': 1000,\n",
       " 'bananas': 250,\n",
       " 'cherry': 300,\n",
       " 'strwberry': 400,\n",
       " 'melon': 160,\n",
       " 'chawal': 280,\n",
       " 'subxi': 213,\n",
       " 'qeema': 38,\n",
       " 'salad': 90,\n",
       " 'water': 30,\n",
       " 'chakni': 40,\n",
       " 'raita': 100}"
      ]
     },
     "execution_count": 143,
     "metadata": {},
     "output_type": "execute_result"
    }
   ],
   "source": [
    "d1"
   ]
  },
  {
   "cell_type": "code",
   "execution_count": 144,
   "id": "ca255180",
   "metadata": {},
   "outputs": [
    {
     "data": {
      "text/plain": [
       "{'apples': 1000,\n",
       " 'bananas': 250,\n",
       " 'cherry': 300,\n",
       " 'strwberry': 400,\n",
       " 'melon': 160,\n",
       " 'chawal': 280,\n",
       " 'subxi': 213,\n",
       " 'qeema': 38,\n",
       " 'salad': 90,\n",
       " 'water': 30,\n",
       " 'chakni': 40}"
      ]
     },
     "execution_count": 144,
     "metadata": {},
     "output_type": "execute_result"
    }
   ],
   "source": [
    "d1.pop(\"raita\")\n",
    "d1"
   ]
  },
  {
   "cell_type": "code",
   "execution_count": 145,
   "id": "072c72df",
   "metadata": {},
   "outputs": [
    {
     "data": {
      "text/plain": [
       "{'apples': 1000,\n",
       " 'bananas': 250,\n",
       " 'cherry': 300,\n",
       " 'strwberry': 400,\n",
       " 'melon': 160,\n",
       " 'chawal': 280,\n",
       " 'subxi': 213,\n",
       " 'qeema': 38,\n",
       " 'salad': 90,\n",
       " 'water': 30}"
      ]
     },
     "execution_count": 145,
     "metadata": {},
     "output_type": "execute_result"
    }
   ],
   "source": [
    "d1.popitem()\n",
    "d1"
   ]
  },
  {
   "cell_type": "code",
   "execution_count": 146,
   "id": "318fd0b8",
   "metadata": {},
   "outputs": [
    {
     "name": "stdout",
     "output_type": "stream",
     "text": [
      "apples\n",
      "bananas\n",
      "cherry\n",
      "strwberry\n",
      "melon\n",
      "chawal\n",
      "subxi\n",
      "qeema\n",
      "salad\n",
      "water\n"
     ]
    }
   ],
   "source": [
    "for x in d1:\n",
    "    print(x)"
   ]
  },
  {
   "cell_type": "code",
   "execution_count": 147,
   "id": "f748f105",
   "metadata": {},
   "outputs": [
    {
     "name": "stdout",
     "output_type": "stream",
     "text": [
      "1000\n",
      "250\n",
      "300\n",
      "400\n",
      "160\n",
      "280\n",
      "213\n",
      "38\n",
      "90\n",
      "30\n"
     ]
    }
   ],
   "source": [
    "for x in d1.values():\n",
    "    print(x)"
   ]
  },
  {
   "cell_type": "code",
   "execution_count": 148,
   "id": "3ceeb81f",
   "metadata": {},
   "outputs": [
    {
     "name": "stdout",
     "output_type": "stream",
     "text": [
      "apples\n",
      "bananas\n",
      "cherry\n",
      "strwberry\n",
      "melon\n",
      "chawal\n",
      "subxi\n",
      "qeema\n",
      "salad\n",
      "water\n"
     ]
    }
   ],
   "source": [
    "for x in d1.keys():\n",
    "    print(x)"
   ]
  },
  {
   "cell_type": "code",
   "execution_count": 149,
   "id": "fd5ef695",
   "metadata": {},
   "outputs": [
    {
     "name": "stdout",
     "output_type": "stream",
     "text": [
      "apples : 1000\n",
      "bananas : 250\n",
      "cherry : 300\n",
      "strwberry : 400\n",
      "melon : 160\n",
      "chawal : 280\n",
      "subxi : 213\n",
      "qeema : 38\n",
      "salad : 90\n",
      "water : 30\n"
     ]
    }
   ],
   "source": [
    "for x , y in d1.items():\n",
    "    print(x,\":\",y)"
   ]
  },
  {
   "cell_type": "code",
   "execution_count": 150,
   "id": "45b44335",
   "metadata": {},
   "outputs": [
    {
     "data": {
      "text/plain": [
       "{'apples': 1000,\n",
       " 'bananas': 250,\n",
       " 'cherry': 300,\n",
       " 'strwberry': 400,\n",
       " 'melon': 160,\n",
       " 'chawal': 280,\n",
       " 'subxi': 213,\n",
       " 'qeema': 38,\n",
       " 'salad': 90,\n",
       " 'water': 30}"
      ]
     },
     "execution_count": 150,
     "metadata": {},
     "output_type": "execute_result"
    }
   ],
   "source": [
    "d3=d1.copy()\n",
    "d3"
   ]
  },
  {
   "cell_type": "code",
   "execution_count": 151,
   "id": "d63029c5",
   "metadata": {},
   "outputs": [
    {
     "data": {
      "text/plain": [
       "{'apples': 1000,\n",
       " 'bananas': 250,\n",
       " 'cherry': 300,\n",
       " 'strwberry': 400,\n",
       " 'melon': 160,\n",
       " 'chawal': 280,\n",
       " 'subxi': 213,\n",
       " 'qeema': 38,\n",
       " 'salad': 90,\n",
       " 'water': 30}"
      ]
     },
     "execution_count": 151,
     "metadata": {},
     "output_type": "execute_result"
    }
   ],
   "source": [
    "d1"
   ]
  },
  {
   "cell_type": "code",
   "execution_count": 152,
   "id": "37886832",
   "metadata": {},
   "outputs": [
    {
     "data": {
      "text/plain": [
       "{'apples': 1000,\n",
       " 'bananas': 250,\n",
       " 'cherry': 300,\n",
       " 'strwberry': 400,\n",
       " 'melon': 160,\n",
       " 'chawal': 280,\n",
       " 'subxi': 213,\n",
       " 'qeema': 38,\n",
       " 'salad': 90,\n",
       " 'water': 30}"
      ]
     },
     "execution_count": 152,
     "metadata": {},
     "output_type": "execute_result"
    }
   ],
   "source": [
    "d3"
   ]
  },
  {
   "cell_type": "code",
   "execution_count": 153,
   "id": "b93b2809",
   "metadata": {},
   "outputs": [],
   "source": [
    "d1.update({\"salad\":23,\"raita\":29,\"samosa\":15})"
   ]
  },
  {
   "cell_type": "code",
   "execution_count": 154,
   "id": "561143da",
   "metadata": {},
   "outputs": [
    {
     "data": {
      "text/plain": [
       "{'apples': 1000,\n",
       " 'bananas': 250,\n",
       " 'cherry': 300,\n",
       " 'strwberry': 400,\n",
       " 'melon': 160,\n",
       " 'chawal': 280,\n",
       " 'subxi': 213,\n",
       " 'qeema': 38,\n",
       " 'salad': 23,\n",
       " 'water': 30,\n",
       " 'raita': 29,\n",
       " 'samosa': 15}"
      ]
     },
     "execution_count": 154,
     "metadata": {},
     "output_type": "execute_result"
    }
   ],
   "source": [
    "d1"
   ]
  },
  {
   "cell_type": "code",
   "execution_count": 155,
   "id": "8c587375",
   "metadata": {},
   "outputs": [
    {
     "data": {
      "text/plain": [
       "{'apples': 1000,\n",
       " 'bananas': 250,\n",
       " 'cherry': 300,\n",
       " 'strwberry': 400,\n",
       " 'melon': 160,\n",
       " 'chawal': 280,\n",
       " 'subxi': 213,\n",
       " 'qeema': 38,\n",
       " 'salad': 90,\n",
       " 'water': 30}"
      ]
     },
     "execution_count": 155,
     "metadata": {},
     "output_type": "execute_result"
    }
   ],
   "source": [
    "d3"
   ]
  },
  {
   "cell_type": "code",
   "execution_count": 156,
   "id": "a67eaad8",
   "metadata": {},
   "outputs": [],
   "source": [
    "myfamily = {\n",
    "  \"child1\" : {\n",
    "    \"name\" : \"emil\",\n",
    "    \"year\" : \"2004\"\n",
    "      \n",
    "  },\n",
    "    \"child2\" : {\n",
    "      \"name\" : \"khan\",\n",
    "      \"year\" : \"2007\"\n",
    "    },\n",
    "    \"child3\" : {\n",
    "      \"name\" : \"inderson\",\n",
    "      \"year\" : \"2009\"\n",
    "    }\n",
    "}"
   ]
  },
  {
   "cell_type": "code",
   "execution_count": 157,
   "id": "e2645051",
   "metadata": {},
   "outputs": [
    {
     "data": {
      "text/plain": [
       "{'child1': {'name': 'emil', 'year': '2004'},\n",
       " 'child2': {'name': 'khan', 'year': '2007'},\n",
       " 'child3': {'name': 'inderson', 'year': '2009'}}"
      ]
     },
     "execution_count": 157,
     "metadata": {},
     "output_type": "execute_result"
    }
   ],
   "source": [
    "myfamily"
   ]
  },
  {
   "cell_type": "code",
   "execution_count": 158,
   "id": "84197174",
   "metadata": {},
   "outputs": [],
   "source": [
    "d4 = {\n",
    "    \"food\"   : {\n",
    "    \"birani\" : \"200\",\n",
    "     \"salad\" : \"30\"\n",
    "        },\n",
    "    \"drinks\" : {\n",
    "      \"coke\" : \"50\",\n",
    "     \"water\" : \"10\"\n",
    "    }\n",
    "}"
   ]
  },
  {
   "cell_type": "code",
   "execution_count": 159,
   "id": "75a45f3f",
   "metadata": {},
   "outputs": [
    {
     "data": {
      "text/plain": [
       "{'food': {'birani': '200', 'salad': '30'},\n",
       " 'drinks': {'coke': '50', 'water': '10'}}"
      ]
     },
     "execution_count": 159,
     "metadata": {},
     "output_type": "execute_result"
    }
   ],
   "source": [
    "d4"
   ]
  },
  {
   "cell_type": "code",
   "execution_count": 160,
   "id": "41436e75",
   "metadata": {},
   "outputs": [],
   "source": [
    "d5={\n",
    "    \"khan\":200,\n",
    "    \"baba\":300\n",
    "}\n",
    "d6={\n",
    "    \"javed\":230,\n",
    "    \"ijaz\":320\n",
    "}\n",
    "d7={\n",
    "    \"sajid\":123,\n",
    "    \"pervex\":490\n",
    "}\n",
    "\n",
    "d8={\n",
    "    \"d5\":d5,\n",
    "    \"d6\":d6,\n",
    "    \"d7\":d7\n",
    "}\n"
   ]
  },
  {
   "cell_type": "code",
   "execution_count": 161,
   "id": "d417987e",
   "metadata": {},
   "outputs": [
    {
     "data": {
      "text/plain": [
       "{'d5': {'khan': 200, 'baba': 300},\n",
       " 'd6': {'javed': 230, 'ijaz': 320},\n",
       " 'd7': {'sajid': 123, 'pervex': 490}}"
      ]
     },
     "execution_count": 161,
     "metadata": {},
     "output_type": "execute_result"
    }
   ],
   "source": [
    "d8"
   ]
  },
  {
   "cell_type": "code",
   "execution_count": 162,
   "id": "989ea7b3",
   "metadata": {},
   "outputs": [
    {
     "data": {
      "text/plain": [
       "('key1', 'key2', 'key3')"
      ]
     },
     "execution_count": 162,
     "metadata": {},
     "output_type": "execute_result"
    }
   ],
   "source": [
    "x=(\"key1\",\"key2\",\"key3\")\n",
    "x"
   ]
  },
  {
   "cell_type": "code",
   "execution_count": 163,
   "id": "a3f7d72f",
   "metadata": {},
   "outputs": [
    {
     "data": {
      "text/plain": [
       "tuple"
      ]
     },
     "execution_count": 163,
     "metadata": {},
     "output_type": "execute_result"
    }
   ],
   "source": [
    "type(x)"
   ]
  },
  {
   "cell_type": "code",
   "execution_count": 164,
   "id": "108f8cb8",
   "metadata": {},
   "outputs": [
    {
     "data": {
      "text/plain": [
       "{'key1': 0, 'key2': 0, 'key3': 0}"
      ]
     },
     "execution_count": 164,
     "metadata": {},
     "output_type": "execute_result"
    }
   ],
   "source": [
    "y=0\n",
    "z=dict.fromkeys(x,y)\n",
    "z"
   ]
  },
  {
   "cell_type": "code",
   "execution_count": 165,
   "id": "c79526f2",
   "metadata": {},
   "outputs": [
    {
     "data": {
      "text/plain": [
       "{'ali1': None, 'ali2': None, 'ali3': None}"
      ]
     },
     "execution_count": 165,
     "metadata": {},
     "output_type": "execute_result"
    }
   ],
   "source": [
    "a=(\"ali1\",\"ali2\",\"ali3\")\n",
    "b=dict.fromkeys(a)\n",
    "b"
   ]
  },
  {
   "cell_type": "code",
   "execution_count": 166,
   "id": "2ad1c227",
   "metadata": {},
   "outputs": [
    {
     "name": "stdout",
     "output_type": "stream",
     "text": [
      "Mustang\n"
     ]
    }
   ],
   "source": [
    "car = {\n",
    "  \"brand\": \"Ford\",\n",
    "  \"model\": \"Mustang\",\n",
    "  \"year\": 1964\n",
    "}\n",
    "\n",
    "x = car.setdefault(\"model\", \"Bronco\")\n",
    "\n",
    "print(x)"
   ]
  },
  {
   "cell_type": "code",
   "execution_count": 167,
   "id": "4288b545",
   "metadata": {},
   "outputs": [
    {
     "name": "stdout",
     "output_type": "stream",
     "text": [
      "red\n"
     ]
    }
   ],
   "source": [
    "car = {\n",
    "  \"brand\": \"Ford\",\n",
    "  \"model\": \"Mustang\",\n",
    "  \"year\": 1964\n",
    "}\n",
    "\n",
    "x = car.setdefault(\"color\", \"red\")\n",
    "\n",
    "print(x)"
   ]
  },
  {
   "cell_type": "code",
   "execution_count": 168,
   "id": "9bf68592",
   "metadata": {},
   "outputs": [
    {
     "data": {
      "text/plain": [
       "{1: 1, 2: 2, 3: 3}"
      ]
     },
     "execution_count": 168,
     "metadata": {},
     "output_type": "execute_result"
    }
   ],
   "source": [
    "da={1:1,2:2,3:3}\n",
    "da"
   ]
  },
  {
   "cell_type": "code",
   "execution_count": 169,
   "id": "1d815439",
   "metadata": {},
   "outputs": [
    {
     "data": {
      "text/plain": [
       "dict"
      ]
     },
     "execution_count": 169,
     "metadata": {},
     "output_type": "execute_result"
    }
   ],
   "source": [
    "type(da)"
   ]
  },
  {
   "cell_type": "code",
   "execution_count": 170,
   "id": "f0ee0d3a",
   "metadata": {},
   "outputs": [
    {
     "data": {
      "text/plain": [
       "{4: 4, 5: 5, 6: 6}"
      ]
     },
     "execution_count": 170,
     "metadata": {},
     "output_type": "execute_result"
    }
   ],
   "source": [
    "db={4:4,5:5,6:6}\n",
    "db"
   ]
  },
  {
   "cell_type": "code",
   "execution_count": 171,
   "id": "793ba17f",
   "metadata": {},
   "outputs": [],
   "source": [
    "da.update(db)"
   ]
  },
  {
   "cell_type": "code",
   "execution_count": 172,
   "id": "c341cd03",
   "metadata": {},
   "outputs": [
    {
     "data": {
      "text/plain": [
       "{1: 1, 2: 2, 3: 3, 4: 4, 5: 5, 6: 6}"
      ]
     },
     "execution_count": 172,
     "metadata": {},
     "output_type": "execute_result"
    }
   ],
   "source": [
    "da"
   ]
  },
  {
   "cell_type": "markdown",
   "id": "e6f88851",
   "metadata": {},
   "source": [
    "### - Sets\n",
    "- an unordered , unindexed , unchangable collection of elements\n",
    "- different kind of data can be stored\n",
    "- enclosed in curly { } braces\n",
    "- unmutatable\n",
    "- no duplicate allowed\n"
   ]
  },
  {
   "cell_type": "code",
   "execution_count": 173,
   "id": "c6d25141",
   "metadata": {},
   "outputs": [
    {
     "data": {
      "text/plain": [
       "{12, 34.5, True, 'khan'}"
      ]
     },
     "execution_count": 173,
     "metadata": {},
     "output_type": "execute_result"
    }
   ],
   "source": [
    "s1 = {12,\"khan\",True,34.5}\n",
    "s1"
   ]
  },
  {
   "cell_type": "code",
   "execution_count": 174,
   "id": "7481bf20",
   "metadata": {},
   "outputs": [
    {
     "data": {
      "text/plain": [
       "set"
      ]
     },
     "execution_count": 174,
     "metadata": {},
     "output_type": "execute_result"
    }
   ],
   "source": [
    "type(s1)"
   ]
  },
  {
   "cell_type": "code",
   "execution_count": 175,
   "id": "912e3511",
   "metadata": {},
   "outputs": [
    {
     "data": {
      "text/plain": [
       "4"
      ]
     },
     "execution_count": 175,
     "metadata": {},
     "output_type": "execute_result"
    }
   ],
   "source": [
    "len(s1)"
   ]
  },
  {
   "cell_type": "code",
   "execution_count": 176,
   "id": "234ff36d",
   "metadata": {},
   "outputs": [],
   "source": [
    "s1.add(\"jan\")"
   ]
  },
  {
   "cell_type": "code",
   "execution_count": 177,
   "id": "57f7a98d",
   "metadata": {},
   "outputs": [
    {
     "data": {
      "text/plain": [
       "{12, 34.5, True, 'jan', 'khan'}"
      ]
     },
     "execution_count": 177,
     "metadata": {},
     "output_type": "execute_result"
    }
   ],
   "source": [
    "s1"
   ]
  },
  {
   "cell_type": "code",
   "execution_count": 178,
   "id": "e2abf4c3",
   "metadata": {},
   "outputs": [],
   "source": [
    "s1.clear()"
   ]
  },
  {
   "cell_type": "code",
   "execution_count": 179,
   "id": "bc57a4cb",
   "metadata": {},
   "outputs": [
    {
     "data": {
      "text/plain": [
       "set()"
      ]
     },
     "execution_count": 179,
     "metadata": {},
     "output_type": "execute_result"
    }
   ],
   "source": [
    "s1"
   ]
  },
  {
   "cell_type": "code",
   "execution_count": 180,
   "id": "8e6c679f",
   "metadata": {},
   "outputs": [
    {
     "data": {
      "text/plain": [
       "{12, 23.1, False, 'aamar'}"
      ]
     },
     "execution_count": 180,
     "metadata": {},
     "output_type": "execute_result"
    }
   ],
   "source": [
    "s2={12,\"aamar\",False,23.1}\n",
    "s2"
   ]
  },
  {
   "cell_type": "code",
   "execution_count": 181,
   "id": "8c09e709",
   "metadata": {},
   "outputs": [],
   "source": [
    "s3=s2.copy()"
   ]
  },
  {
   "cell_type": "code",
   "execution_count": 182,
   "id": "2c5e9172",
   "metadata": {},
   "outputs": [
    {
     "data": {
      "text/plain": [
       "{12, 23.1, False, 'aamar'}"
      ]
     },
     "execution_count": 182,
     "metadata": {},
     "output_type": "execute_result"
    }
   ],
   "source": [
    "s3"
   ]
  },
  {
   "cell_type": "code",
   "execution_count": 183,
   "id": "ce59b0c6",
   "metadata": {},
   "outputs": [],
   "source": [
    "s2.add(12)"
   ]
  },
  {
   "cell_type": "code",
   "execution_count": 184,
   "id": "5a63ccfd",
   "metadata": {},
   "outputs": [
    {
     "data": {
      "text/plain": [
       "{12, 23.1, False, 'aamar'}"
      ]
     },
     "execution_count": 184,
     "metadata": {},
     "output_type": "execute_result"
    }
   ],
   "source": [
    "s2"
   ]
  },
  {
   "cell_type": "code",
   "execution_count": 185,
   "id": "ec65a74f",
   "metadata": {},
   "outputs": [
    {
     "data": {
      "text/plain": [
       "{12, 23.1, False, 'aamar', 'belgium'}"
      ]
     },
     "execution_count": 185,
     "metadata": {},
     "output_type": "execute_result"
    }
   ],
   "source": [
    "s2.add(\"belgium\")\n",
    "s2"
   ]
  },
  {
   "cell_type": "code",
   "execution_count": 186,
   "id": "e4a919e8",
   "metadata": {},
   "outputs": [
    {
     "data": {
      "text/plain": [
       "{12, 23.1, False, 'aamar'}"
      ]
     },
     "execution_count": 186,
     "metadata": {},
     "output_type": "execute_result"
    }
   ],
   "source": [
    "s3"
   ]
  },
  {
   "cell_type": "code",
   "execution_count": 187,
   "id": "2f4a7a42",
   "metadata": {},
   "outputs": [
    {
     "data": {
      "text/plain": [
       "{'belgium'}"
      ]
     },
     "execution_count": 187,
     "metadata": {},
     "output_type": "execute_result"
    }
   ],
   "source": [
    "s2.difference(s3)"
   ]
  },
  {
   "cell_type": "code",
   "execution_count": 188,
   "id": "76cef97e",
   "metadata": {},
   "outputs": [],
   "source": [
    "s2.discard(\"belgium\")"
   ]
  },
  {
   "cell_type": "code",
   "execution_count": 189,
   "id": "695df4e3",
   "metadata": {},
   "outputs": [
    {
     "data": {
      "text/plain": [
       "{12, 23.1, False, 'aamar'}"
      ]
     },
     "execution_count": 189,
     "metadata": {},
     "output_type": "execute_result"
    }
   ],
   "source": [
    "s2"
   ]
  },
  {
   "cell_type": "code",
   "execution_count": 190,
   "id": "66fbf6fb",
   "metadata": {},
   "outputs": [
    {
     "data": {
      "text/plain": [
       "{12, 23.1, False, 'aamar'}"
      ]
     },
     "execution_count": 190,
     "metadata": {},
     "output_type": "execute_result"
    }
   ],
   "source": [
    "s2.intersection(s3)"
   ]
  },
  {
   "cell_type": "code",
   "execution_count": 191,
   "id": "c1218d55",
   "metadata": {},
   "outputs": [
    {
     "data": {
      "text/plain": [
       "{12, 23.1, False, 'aamar'}"
      ]
     },
     "execution_count": 191,
     "metadata": {},
     "output_type": "execute_result"
    }
   ],
   "source": [
    "s2.union(s3)"
   ]
  },
  {
   "cell_type": "code",
   "execution_count": 192,
   "id": "e7e168a0",
   "metadata": {},
   "outputs": [
    {
     "data": {
      "text/plain": [
       "{1, 2, 3, 4}"
      ]
     },
     "execution_count": 192,
     "metadata": {},
     "output_type": "execute_result"
    }
   ],
   "source": [
    "s3={1,2,3,4,4}\n",
    "s3"
   ]
  },
  {
   "cell_type": "code",
   "execution_count": 193,
   "id": "15e72886",
   "metadata": {},
   "outputs": [],
   "source": [
    "s3.add(4)"
   ]
  },
  {
   "cell_type": "code",
   "execution_count": 194,
   "id": "06057291",
   "metadata": {},
   "outputs": [
    {
     "data": {
      "text/plain": [
       "{1, 2, 3, 4}"
      ]
     },
     "execution_count": 194,
     "metadata": {},
     "output_type": "execute_result"
    }
   ],
   "source": [
    "s3"
   ]
  },
  {
   "cell_type": "code",
   "execution_count": 195,
   "id": "79602f7d",
   "metadata": {},
   "outputs": [
    {
     "data": {
      "text/plain": [
       "{3, 4, 5, 6}"
      ]
     },
     "execution_count": 195,
     "metadata": {},
     "output_type": "execute_result"
    }
   ],
   "source": [
    "s4={3,4,5,6}\n",
    "s4"
   ]
  },
  {
   "cell_type": "code",
   "execution_count": 196,
   "id": "e9f914e2",
   "metadata": {},
   "outputs": [
    {
     "data": {
      "text/plain": [
       "{1, 2, 3, 4, 5, 6}"
      ]
     },
     "execution_count": 196,
     "metadata": {},
     "output_type": "execute_result"
    }
   ],
   "source": [
    "s3.union(s4)"
   ]
  },
  {
   "cell_type": "code",
   "execution_count": 197,
   "id": "4a09effa",
   "metadata": {},
   "outputs": [
    {
     "data": {
      "text/plain": [
       "{3, 4}"
      ]
     },
     "execution_count": 197,
     "metadata": {},
     "output_type": "execute_result"
    }
   ],
   "source": [
    "s3.intersection(s4)"
   ]
  },
  {
   "cell_type": "code",
   "execution_count": 198,
   "id": "97260d7e",
   "metadata": {},
   "outputs": [
    {
     "data": {
      "text/plain": [
       "{1, 2}"
      ]
     },
     "execution_count": 198,
     "metadata": {},
     "output_type": "execute_result"
    }
   ],
   "source": [
    "s3.difference(s4)"
   ]
  },
  {
   "cell_type": "code",
   "execution_count": 199,
   "id": "c4edb0f0",
   "metadata": {},
   "outputs": [
    {
     "data": {
      "text/plain": [
       "{5, 6}"
      ]
     },
     "execution_count": 199,
     "metadata": {},
     "output_type": "execute_result"
    }
   ],
   "source": [
    "s4.difference(s3)"
   ]
  },
  {
   "cell_type": "code",
   "execution_count": 200,
   "id": "ccdecb12",
   "metadata": {},
   "outputs": [],
   "source": [
    "s3.remove(3)"
   ]
  },
  {
   "cell_type": "code",
   "execution_count": 201,
   "id": "1b72f5e0",
   "metadata": {},
   "outputs": [
    {
     "data": {
      "text/plain": [
       "{1, 2, 4}"
      ]
     },
     "execution_count": 201,
     "metadata": {},
     "output_type": "execute_result"
    }
   ],
   "source": [
    "s3"
   ]
  },
  {
   "cell_type": "code",
   "execution_count": 202,
   "id": "5dc2bb6d",
   "metadata": {},
   "outputs": [],
   "source": [
    "s3.add(3)"
   ]
  },
  {
   "cell_type": "code",
   "execution_count": 203,
   "id": "dadf5b18",
   "metadata": {},
   "outputs": [
    {
     "data": {
      "text/plain": [
       "{1, 2, 3, 4}"
      ]
     },
     "execution_count": 203,
     "metadata": {},
     "output_type": "execute_result"
    }
   ],
   "source": [
    "s3"
   ]
  },
  {
   "cell_type": "code",
   "execution_count": 204,
   "id": "54c530c5",
   "metadata": {},
   "outputs": [
    {
     "data": {
      "text/plain": [
       "1"
      ]
     },
     "execution_count": 204,
     "metadata": {},
     "output_type": "execute_result"
    }
   ],
   "source": [
    "s3.pop()"
   ]
  },
  {
   "cell_type": "code",
   "execution_count": 205,
   "id": "bd238485",
   "metadata": {},
   "outputs": [
    {
     "data": {
      "text/plain": [
       "{2, 3, 4}"
      ]
     },
     "execution_count": 205,
     "metadata": {},
     "output_type": "execute_result"
    }
   ],
   "source": [
    "s3"
   ]
  },
  {
   "cell_type": "code",
   "execution_count": 206,
   "id": "7179c079",
   "metadata": {},
   "outputs": [
    {
     "data": {
      "text/plain": [
       "2"
      ]
     },
     "execution_count": 206,
     "metadata": {},
     "output_type": "execute_result"
    }
   ],
   "source": [
    "s3.pop()"
   ]
  },
  {
   "cell_type": "code",
   "execution_count": 207,
   "id": "1b98941b",
   "metadata": {},
   "outputs": [
    {
     "data": {
      "text/plain": [
       "{3, 4}"
      ]
     },
     "execution_count": 207,
     "metadata": {},
     "output_type": "execute_result"
    }
   ],
   "source": [
    "s3"
   ]
  },
  {
   "cell_type": "code",
   "execution_count": 208,
   "id": "a50adcdc",
   "metadata": {},
   "outputs": [],
   "source": [
    "s3.add(1)"
   ]
  },
  {
   "cell_type": "code",
   "execution_count": 209,
   "id": "ccb34085",
   "metadata": {},
   "outputs": [],
   "source": [
    "s3.add(2)"
   ]
  },
  {
   "cell_type": "code",
   "execution_count": 210,
   "id": "3ac43952",
   "metadata": {},
   "outputs": [
    {
     "data": {
      "text/plain": [
       "{1, 2, 3, 4}"
      ]
     },
     "execution_count": 210,
     "metadata": {},
     "output_type": "execute_result"
    }
   ],
   "source": [
    "s3"
   ]
  },
  {
   "cell_type": "code",
   "execution_count": 211,
   "id": "460c6f33",
   "metadata": {},
   "outputs": [
    {
     "data": {
      "text/plain": [
       "{1, 2, 3, 4, 5, 6, 7}"
      ]
     },
     "execution_count": 211,
     "metadata": {},
     "output_type": "execute_result"
    }
   ],
   "source": [
    "s5={1,2,3,4,5,6,7,}\n",
    "s5"
   ]
  },
  {
   "cell_type": "code",
   "execution_count": 212,
   "id": "06d3b84e",
   "metadata": {},
   "outputs": [
    {
     "data": {
      "text/plain": [
       "{2, 4, 6}"
      ]
     },
     "execution_count": 212,
     "metadata": {},
     "output_type": "execute_result"
    }
   ],
   "source": [
    "s6={2,4,6}\n",
    "s6"
   ]
  },
  {
   "cell_type": "code",
   "execution_count": 213,
   "id": "95956366",
   "metadata": {},
   "outputs": [
    {
     "data": {
      "text/plain": [
       "True"
      ]
     },
     "execution_count": 213,
     "metadata": {},
     "output_type": "execute_result"
    }
   ],
   "source": [
    "s6.issubset(s5)"
   ]
  },
  {
   "cell_type": "code",
   "execution_count": 214,
   "id": "61b176e7",
   "metadata": {},
   "outputs": [
    {
     "data": {
      "text/plain": [
       "True"
      ]
     },
     "execution_count": 214,
     "metadata": {},
     "output_type": "execute_result"
    }
   ],
   "source": [
    "s5.issuperset(s6)"
   ]
  },
  {
   "cell_type": "code",
   "execution_count": 215,
   "id": "fa689cdc",
   "metadata": {},
   "outputs": [
    {
     "data": {
      "text/plain": [
       "False"
      ]
     },
     "execution_count": 215,
     "metadata": {},
     "output_type": "execute_result"
    }
   ],
   "source": [
    "s6.issuperset(s5)"
   ]
  },
  {
   "cell_type": "code",
   "execution_count": 216,
   "id": "0bb48771",
   "metadata": {},
   "outputs": [
    {
     "name": "stdout",
     "output_type": "stream",
     "text": [
      "1\n",
      "2\n",
      "3\n",
      "4\n",
      "5\n",
      "6\n",
      "7\n"
     ]
    }
   ],
   "source": [
    "for x in s5:\n",
    "    print(x)"
   ]
  },
  {
   "cell_type": "code",
   "execution_count": 220,
   "id": "266ea1e6",
   "metadata": {},
   "outputs": [
    {
     "name": "stdout",
     "output_type": "stream",
     "text": [
      "yes\n"
     ]
    }
   ],
   "source": [
    "if 3 in s5:\n",
    "    print(\"yes\")\n",
    "else:\n",
    "    print(\"no\")"
   ]
  },
  {
   "cell_type": "code",
   "execution_count": 222,
   "id": "087a1c4b",
   "metadata": {},
   "outputs": [],
   "source": [
    "s7={1,2,3,4}\n",
    "s8={3,4,5,6}\n",
    "s7.update(s8)"
   ]
  },
  {
   "cell_type": "code",
   "execution_count": null,
   "id": "0ac996ff",
   "metadata": {},
   "outputs": [],
   "source": []
  }
 ],
 "metadata": {
  "kernelspec": {
   "display_name": "Python 3 (ipykernel)",
   "language": "python",
   "name": "python3"
  },
  "language_info": {
   "codemirror_mode": {
    "name": "ipython",
    "version": 3
   },
   "file_extension": ".py",
   "mimetype": "text/x-python",
   "name": "python",
   "nbconvert_exporter": "python",
   "pygments_lexer": "ipython3",
   "version": "3.9.13"
  }
 },
 "nbformat": 4,
 "nbformat_minor": 5
}
