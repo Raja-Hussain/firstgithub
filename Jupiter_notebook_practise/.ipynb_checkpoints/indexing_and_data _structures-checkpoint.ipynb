{
 "cells": [
  {
   "cell_type": "markdown",
   "id": "8e545ee1",
   "metadata": {},
   "source": [
    "## -  indexing"
   ]
  },
  {
   "cell_type": "code",
   "execution_count": 1,
   "id": "f00bc76b",
   "metadata": {},
   "outputs": [
    {
     "data": {
      "text/plain": [
       "'i am muslim'"
      ]
     },
     "execution_count": 1,
     "metadata": {},
     "output_type": "execute_result"
    }
   ],
   "source": [
    "# indexing mean that every character store in memory,the memory are further divided into indexes,an index store only\n",
    "# a single character at a time.so if we need to find the some characters so we can find them by their index numbers\n",
    "\n",
    "a=\"i am muslim\"\n",
    "a"
   ]
  },
  {
   "cell_type": "code",
   "execution_count": 2,
   "id": "88aa935d",
   "metadata": {},
   "outputs": [
    {
     "data": {
      "text/plain": [
       "'i'"
      ]
     },
     "execution_count": 2,
     "metadata": {},
     "output_type": "execute_result"
    }
   ],
   "source": [
    "a[0]"
   ]
  },
  {
   "cell_type": "code",
   "execution_count": 3,
   "id": "51db11e9",
   "metadata": {},
   "outputs": [
    {
     "data": {
      "text/plain": [
       "' '"
      ]
     },
     "execution_count": 3,
     "metadata": {},
     "output_type": "execute_result"
    }
   ],
   "source": [
    "a[1]"
   ]
  },
  {
   "cell_type": "code",
   "execution_count": 4,
   "id": "c5bf92f0",
   "metadata": {},
   "outputs": [
    {
     "data": {
      "text/plain": [
       "'a'"
      ]
     },
     "execution_count": 4,
     "metadata": {},
     "output_type": "execute_result"
    }
   ],
   "source": [
    "a[2]"
   ]
  },
  {
   "cell_type": "code",
   "execution_count": 5,
   "id": "166b81be",
   "metadata": {},
   "outputs": [
    {
     "data": {
      "text/plain": [
       "'m'"
      ]
     },
     "execution_count": 5,
     "metadata": {},
     "output_type": "execute_result"
    }
   ],
   "source": [
    "a[3]"
   ]
  },
  {
   "cell_type": "code",
   "execution_count": 6,
   "id": "04e50141",
   "metadata": {},
   "outputs": [
    {
     "data": {
      "text/plain": [
       "' '"
      ]
     },
     "execution_count": 6,
     "metadata": {},
     "output_type": "execute_result"
    }
   ],
   "source": [
    "a[4]"
   ]
  },
  {
   "cell_type": "code",
   "execution_count": 7,
   "id": "01238159",
   "metadata": {},
   "outputs": [
    {
     "data": {
      "text/plain": [
       "'m'"
      ]
     },
     "execution_count": 7,
     "metadata": {},
     "output_type": "execute_result"
    }
   ],
   "source": [
    "a[5]"
   ]
  },
  {
   "cell_type": "code",
   "execution_count": 8,
   "id": "ed4e8f71",
   "metadata": {},
   "outputs": [
    {
     "data": {
      "text/plain": [
       "'u'"
      ]
     },
     "execution_count": 8,
     "metadata": {},
     "output_type": "execute_result"
    }
   ],
   "source": [
    "a[6]"
   ]
  },
  {
   "cell_type": "code",
   "execution_count": 9,
   "id": "2befe587",
   "metadata": {},
   "outputs": [
    {
     "data": {
      "text/plain": [
       "'s'"
      ]
     },
     "execution_count": 9,
     "metadata": {},
     "output_type": "execute_result"
    }
   ],
   "source": [
    "a[7]"
   ]
  },
  {
   "cell_type": "code",
   "execution_count": 10,
   "id": "b9da7851",
   "metadata": {},
   "outputs": [
    {
     "data": {
      "text/plain": [
       "'l'"
      ]
     },
     "execution_count": 10,
     "metadata": {},
     "output_type": "execute_result"
    }
   ],
   "source": [
    "a[8]"
   ]
  },
  {
   "cell_type": "code",
   "execution_count": 11,
   "id": "bf784ac7",
   "metadata": {},
   "outputs": [
    {
     "data": {
      "text/plain": [
       "'i'"
      ]
     },
     "execution_count": 11,
     "metadata": {},
     "output_type": "execute_result"
    }
   ],
   "source": [
    "a[9]"
   ]
  },
  {
   "cell_type": "code",
   "execution_count": 12,
   "id": "e9f40f31",
   "metadata": {},
   "outputs": [
    {
     "data": {
      "text/plain": [
       "'m'"
      ]
     },
     "execution_count": 12,
     "metadata": {},
     "output_type": "execute_result"
    }
   ],
   "source": [
    "a[10]"
   ]
  },
  {
   "cell_type": "markdown",
   "id": "a9cc0d1a",
   "metadata": {},
   "source": [
    "- to find length of indeces use len() function"
   ]
  },
  {
   "cell_type": "code",
   "execution_count": 13,
   "id": "f3f18f91",
   "metadata": {},
   "outputs": [
    {
     "data": {
      "text/plain": [
       "11"
      ]
     },
     "execution_count": 13,
     "metadata": {},
     "output_type": "execute_result"
    }
   ],
   "source": [
    "len(a)    "
   ]
  },
  {
   "cell_type": "code",
   "execution_count": 15,
   "id": "8419a20d",
   "metadata": {},
   "outputs": [],
   "source": [
    "#a[11]  the last number or index number is exclusive"
   ]
  },
  {
   "cell_type": "code",
   "execution_count": 24,
   "id": "a2647e3d",
   "metadata": {},
   "outputs": [
    {
     "data": {
      "text/plain": [
       "'i am muslim'"
      ]
     },
     "execution_count": 24,
     "metadata": {},
     "output_type": "execute_result"
    }
   ],
   "source": [
    "a[0:11]"
   ]
  },
  {
   "cell_type": "code",
   "execution_count": 25,
   "id": "09cef563",
   "metadata": {},
   "outputs": [
    {
     "data": {
      "text/plain": [
       "'m'"
      ]
     },
     "execution_count": 25,
     "metadata": {},
     "output_type": "execute_result"
    }
   ],
   "source": [
    "a[-1]"
   ]
  },
  {
   "cell_type": "code",
   "execution_count": 26,
   "id": "35a9fb55",
   "metadata": {},
   "outputs": [
    {
     "data": {
      "text/plain": [
       "'i'"
      ]
     },
     "execution_count": 26,
     "metadata": {},
     "output_type": "execute_result"
    }
   ],
   "source": [
    "a[-2]"
   ]
  },
  {
   "cell_type": "code",
   "execution_count": 27,
   "id": "9ac4c4cc",
   "metadata": {},
   "outputs": [
    {
     "data": {
      "text/plain": [
       "'l'"
      ]
     },
     "execution_count": 27,
     "metadata": {},
     "output_type": "execute_result"
    }
   ],
   "source": [
    "a[-3]"
   ]
  },
  {
   "cell_type": "code",
   "execution_count": 28,
   "id": "3266e2a7",
   "metadata": {},
   "outputs": [
    {
     "data": {
      "text/plain": [
       "'a'"
      ]
     },
     "execution_count": 28,
     "metadata": {},
     "output_type": "execute_result"
    }
   ],
   "source": [
    "a[-9]"
   ]
  },
  {
   "cell_type": "code",
   "execution_count": 30,
   "id": "23b438bb",
   "metadata": {},
   "outputs": [
    {
     "data": {
      "text/plain": [
       "'usli'"
      ]
     },
     "execution_count": 30,
     "metadata": {},
     "output_type": "execute_result"
    }
   ],
   "source": [
    "a[-5:-1]"
   ]
  },
  {
   "cell_type": "markdown",
   "id": "cd989459",
   "metadata": {},
   "source": [
    "### - **string methods**"
   ]
  },
  {
   "cell_type": "code",
   "execution_count": 33,
   "id": "023a1c96",
   "metadata": {},
   "outputs": [
    {
     "data": {
      "text/plain": [
       "'numkeen'"
      ]
     },
     "execution_count": 33,
     "metadata": {},
     "output_type": "execute_result"
    }
   ],
   "source": [
    "food = \"numkeen\"\n",
    "food"
   ]
  },
  {
   "cell_type": "code",
   "execution_count": 34,
   "id": "d869cb67",
   "metadata": {},
   "outputs": [
    {
     "data": {
      "text/plain": [
       "'Numkeen'"
      ]
     },
     "execution_count": 34,
     "metadata": {},
     "output_type": "execute_result"
    }
   ],
   "source": [
    "food.capitalize() # capatilize mean that the first character of word ,sentence must be capital"
   ]
  },
  {
   "cell_type": "code",
   "execution_count": 35,
   "id": "b19aeeab",
   "metadata": {},
   "outputs": [
    {
     "data": {
      "text/plain": [
       "'NUMKEEN'"
      ]
     },
     "execution_count": 35,
     "metadata": {},
     "output_type": "execute_result"
    }
   ],
   "source": [
    "food.upper()    # upper make each and every character capital"
   ]
  },
  {
   "cell_type": "code",
   "execution_count": 39,
   "id": "6cf25f93",
   "metadata": {},
   "outputs": [
    {
     "data": {
      "text/plain": [
       "'numkeen'"
      ]
     },
     "execution_count": 39,
     "metadata": {},
     "output_type": "execute_result"
    }
   ],
   "source": [
    "food.lower()     # lower make each and every character small"
   ]
  },
  {
   "cell_type": "code",
   "execution_count": 48,
   "id": "446f5ce9",
   "metadata": {},
   "outputs": [
    {
     "data": {
      "text/plain": [
       "'numkeen'"
      ]
     },
     "execution_count": 48,
     "metadata": {},
     "output_type": "execute_result"
    }
   ],
   "source": [
    "food.replace(\"keen\",\"raa\") # to replace some or all characters of a string"
   ]
  },
  {
   "cell_type": "code",
   "execution_count": 49,
   "id": "96c6e55f",
   "metadata": {},
   "outputs": [
    {
     "data": {
      "text/plain": [
       "'husnaa'"
      ]
     },
     "execution_count": 49,
     "metadata": {},
     "output_type": "execute_result"
    }
   ],
   "source": [
    "food.replace(\"numkeen\" , \"husnaa\")\n"
   ]
  },
  {
   "cell_type": "code",
   "execution_count": 51,
   "id": "9c654661",
   "metadata": {},
   "outputs": [
    {
     "data": {
      "text/plain": [
       "'ali ,. khan ,. hassan ,. janan ,. kamal'"
      ]
     },
     "execution_count": 51,
     "metadata": {},
     "output_type": "execute_result"
    }
   ],
   "source": [
    "friends=\"ali ,. khan ,. hassan ,. janan ,. kamal\"\n",
    "friends"
   ]
  },
  {
   "cell_type": "code",
   "execution_count": 52,
   "id": "85bb744e",
   "metadata": {},
   "outputs": [
    {
     "data": {
      "text/plain": [
       "['ali ', '. khan ', '. hassan ', '. janan ', '. kamal']"
      ]
     },
     "execution_count": 52,
     "metadata": {},
     "output_type": "execute_result"
    }
   ],
   "source": [
    "friends.split(\",\")  # by split function we spilit the strings"
   ]
  },
  {
   "cell_type": "code",
   "execution_count": 53,
   "id": "de52f6fc",
   "metadata": {},
   "outputs": [
    {
     "data": {
      "text/plain": [
       "['ali ,', ' khan ,', ' hassan ,', ' janan ,', ' kamal']"
      ]
     },
     "execution_count": 53,
     "metadata": {},
     "output_type": "execute_result"
    }
   ],
   "source": [
    "friends.split(\".\")"
   ]
  },
  {
   "cell_type": "code",
   "execution_count": 54,
   "id": "385e4084",
   "metadata": {},
   "outputs": [
    {
     "data": {
      "text/plain": [
       "3"
      ]
     },
     "execution_count": 54,
     "metadata": {},
     "output_type": "execute_result"
    }
   ],
   "source": [
    "name = \"Syed Raja hussain khan qureshi\"\n",
    "name.count(\"s\")          # count fuction are used to count the specific characters"
   ]
  },
  {
   "cell_type": "code",
   "execution_count": 55,
   "id": "f0ddfdee",
   "metadata": {},
   "outputs": [
    {
     "data": {
      "text/plain": [
       "0"
      ]
     },
     "execution_count": 55,
     "metadata": {},
     "output_type": "execute_result"
    }
   ],
   "source": [
    "name.count(\"_\")"
   ]
  },
  {
   "cell_type": "code",
   "execution_count": 56,
   "id": "5cc5ae56",
   "metadata": {},
   "outputs": [
    {
     "data": {
      "text/plain": [
       "1"
      ]
     },
     "execution_count": 56,
     "metadata": {},
     "output_type": "execute_result"
    }
   ],
   "source": [
    "name.count(\"S\")"
   ]
  },
  {
   "cell_type": "code",
   "execution_count": 57,
   "id": "f7e74ddd",
   "metadata": {},
   "outputs": [
    {
     "data": {
      "text/plain": [
       "1"
      ]
     },
     "execution_count": 57,
     "metadata": {},
     "output_type": "execute_result"
    }
   ],
   "source": [
    "name.count(\"R\")"
   ]
  },
  {
   "cell_type": "code",
   "execution_count": 58,
   "id": "07980f93",
   "metadata": {},
   "outputs": [
    {
     "data": {
      "text/plain": [
       "1"
      ]
     },
     "execution_count": 58,
     "metadata": {},
     "output_type": "execute_result"
    }
   ],
   "source": [
    "name.count(\"r\")"
   ]
  },
  {
   "cell_type": "code",
   "execution_count": 59,
   "id": "171a19d7",
   "metadata": {},
   "outputs": [
    {
     "data": {
      "text/plain": [
       "4"
      ]
     },
     "execution_count": 59,
     "metadata": {},
     "output_type": "execute_result"
    }
   ],
   "source": [
    "name.count(\" \")"
   ]
  },
  {
   "cell_type": "markdown",
   "id": "951a7350",
   "metadata": {},
   "source": [
    "### - **find an index number in string**"
   ]
  },
  {
   "cell_type": "code",
   "execution_count": 60,
   "id": "c9be5056",
   "metadata": {},
   "outputs": [
    {
     "data": {
      "text/plain": [
       "'i am learning python with D.r Aamar tufail'"
      ]
     },
     "execution_count": 60,
     "metadata": {},
     "output_type": "execute_result"
    }
   ],
   "source": [
    "python=\"i am learning python with D.r Aamar tufail\"\n",
    "python"
   ]
  },
  {
   "cell_type": "code",
   "execution_count": 61,
   "id": "45a09d92",
   "metadata": {},
   "outputs": [
    {
     "data": {
      "text/plain": [
       "0"
      ]
     },
     "execution_count": 61,
     "metadata": {},
     "output_type": "execute_result"
    }
   ],
   "source": [
    "python.find(\"i\")"
   ]
  },
  {
   "cell_type": "code",
   "execution_count": 62,
   "id": "06825736",
   "metadata": {},
   "outputs": [
    {
     "data": {
      "text/plain": [
       "30"
      ]
     },
     "execution_count": 62,
     "metadata": {},
     "output_type": "execute_result"
    }
   ],
   "source": [
    "python.find(\"A\")"
   ]
  },
  {
   "cell_type": "markdown",
   "id": "4328f433",
   "metadata": {},
   "source": [
    "# **Basic data structures in python**\n",
    "\n",
    "## **- Tuple**\n",
    "## **- List**\n",
    "## **- Dictionaries**\n",
    "## **- Sets**"
   ]
  },
  {
   "cell_type": "markdown",
   "id": "6a5c7cc3",
   "metadata": {},
   "source": [
    "## - Tuple\n",
    "### - an order cllection of elements\n",
    "### - enclosed in round  ( ) parenthesis\n",
    "### - different kind of elements can be stored\n",
    "### - once the element are stored you can not change them (unmutatable)"
   ]
  },
  {
   "cell_type": "code",
   "execution_count": 63,
   "id": "1e6bf1fd",
   "metadata": {},
   "outputs": [
    {
     "data": {
      "text/plain": [
       "(2, 'raja', True, 3.5)"
      ]
     },
     "execution_count": 63,
     "metadata": {},
     "output_type": "execute_result"
    }
   ],
   "source": [
    "# i.e\n",
    "tup1=(2,\"raja\",True,3.5)\n",
    "tup1"
   ]
  },
  {
   "cell_type": "code",
   "execution_count": 64,
   "id": "6efbca1e",
   "metadata": {},
   "outputs": [
    {
     "data": {
      "text/plain": [
       "4"
      ]
     },
     "execution_count": 64,
     "metadata": {},
     "output_type": "execute_result"
    }
   ],
   "source": [
    "len(tup1)"
   ]
  },
  {
   "cell_type": "code",
   "execution_count": 65,
   "id": "9091b619",
   "metadata": {},
   "outputs": [
    {
     "data": {
      "text/plain": [
       "2"
      ]
     },
     "execution_count": 65,
     "metadata": {},
     "output_type": "execute_result"
    }
   ],
   "source": [
    "tup1[0]"
   ]
  },
  {
   "cell_type": "code",
   "execution_count": 66,
   "id": "bf324862",
   "metadata": {},
   "outputs": [
    {
     "data": {
      "text/plain": [
       "'raja'"
      ]
     },
     "execution_count": 66,
     "metadata": {},
     "output_type": "execute_result"
    }
   ],
   "source": [
    "tup1[1]"
   ]
  },
  {
   "cell_type": "code",
   "execution_count": 67,
   "id": "b65d915e",
   "metadata": {},
   "outputs": [
    {
     "data": {
      "text/plain": [
       "True"
      ]
     },
     "execution_count": 67,
     "metadata": {},
     "output_type": "execute_result"
    }
   ],
   "source": [
    "tup1[2]"
   ]
  },
  {
   "cell_type": "code",
   "execution_count": 69,
   "id": "69b33b5b",
   "metadata": {},
   "outputs": [
    {
     "data": {
      "text/plain": [
       "3.5"
      ]
     },
     "execution_count": 69,
     "metadata": {},
     "output_type": "execute_result"
    }
   ],
   "source": [
    "tup1[3]"
   ]
  },
  {
   "cell_type": "code",
   "execution_count": 70,
   "id": "cae5ac67",
   "metadata": {},
   "outputs": [
    {
     "data": {
      "text/plain": [
       "3.5"
      ]
     },
     "execution_count": 70,
     "metadata": {},
     "output_type": "execute_result"
    }
   ],
   "source": [
    "tup1[-1]"
   ]
  },
  {
   "cell_type": "code",
   "execution_count": 72,
   "id": "695587fc",
   "metadata": {},
   "outputs": [
    {
     "data": {
      "text/plain": [
       "'raja'"
      ]
     },
     "execution_count": 72,
     "metadata": {},
     "output_type": "execute_result"
    }
   ],
   "source": [
    "tup1[-3]"
   ]
  },
  {
   "cell_type": "code",
   "execution_count": 73,
   "id": "213a2a93",
   "metadata": {},
   "outputs": [
    {
     "data": {
      "text/plain": [
       "2"
      ]
     },
     "execution_count": 73,
     "metadata": {},
     "output_type": "execute_result"
    }
   ],
   "source": [
    "tup1[-4]"
   ]
  },
  {
   "cell_type": "code",
   "execution_count": 74,
   "id": "c26c768e",
   "metadata": {},
   "outputs": [
    {
     "data": {
      "text/plain": [
       "(2, 'raja', True, 3.5)"
      ]
     },
     "execution_count": 74,
     "metadata": {},
     "output_type": "execute_result"
    }
   ],
   "source": [
    "tup1[-4:4]"
   ]
  },
  {
   "cell_type": "code",
   "execution_count": 75,
   "id": "8c052942",
   "metadata": {},
   "outputs": [
    {
     "data": {
      "text/plain": [
       "tuple"
      ]
     },
     "execution_count": 75,
     "metadata": {},
     "output_type": "execute_result"
    }
   ],
   "source": [
    "type(tup1)"
   ]
  },
  {
   "cell_type": "code",
   "execution_count": null,
   "id": "be81646a",
   "metadata": {},
   "outputs": [],
   "source": []
  }
 ],
 "metadata": {
  "kernelspec": {
   "display_name": "Python 3 (ipykernel)",
   "language": "python",
   "name": "python3"
  },
  "language_info": {
   "codemirror_mode": {
    "name": "ipython",
    "version": 3
   },
   "file_extension": ".py",
   "mimetype": "text/x-python",
   "name": "python",
   "nbconvert_exporter": "python",
   "pygments_lexer": "ipython3",
   "version": "3.9.13"
  }
 },
 "nbformat": 4,
 "nbformat_minor": 5
}
