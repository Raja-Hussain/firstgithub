{
 "cells": [
  {
   "cell_type": "markdown",
   "id": "25c05801",
   "metadata": {},
   "source": [
    "## -  indexing"
   ]
  },
  {
   "cell_type": "code",
   "execution_count": 1,
   "id": "9b8b295f",
   "metadata": {},
   "outputs": [
    {
     "data": {
      "text/plain": [
       "'i am muslim'"
      ]
     },
     "execution_count": 1,
     "metadata": {},
     "output_type": "execute_result"
    }
   ],
   "source": [
    "# indexing mean that every character store in memory,the memory are further divided into indexes,an index store only\n",
    "# a single character at a time.so if we need to find the some characters so we can find them by their index numbers\n",
    "\n",
    "a=\"i am muslim\"\n",
    "a"
   ]
  },
  {
   "cell_type": "code",
   "execution_count": 2,
   "id": "261a93c3",
   "metadata": {},
   "outputs": [
    {
     "data": {
      "text/plain": [
       "'i'"
      ]
     },
     "execution_count": 2,
     "metadata": {},
     "output_type": "execute_result"
    }
   ],
   "source": [
    "a[0]"
   ]
  },
  {
   "cell_type": "code",
   "execution_count": 3,
   "id": "4ef25f8c",
   "metadata": {},
   "outputs": [
    {
     "data": {
      "text/plain": [
       "' '"
      ]
     },
     "execution_count": 3,
     "metadata": {},
     "output_type": "execute_result"
    }
   ],
   "source": [
    "a[1]"
   ]
  },
  {
   "cell_type": "code",
   "execution_count": 4,
   "id": "3233dcd2",
   "metadata": {},
   "outputs": [
    {
     "data": {
      "text/plain": [
       "'a'"
      ]
     },
     "execution_count": 4,
     "metadata": {},
     "output_type": "execute_result"
    }
   ],
   "source": [
    "a[2]"
   ]
  },
  {
   "cell_type": "code",
   "execution_count": 5,
   "id": "fcba5e39",
   "metadata": {},
   "outputs": [
    {
     "data": {
      "text/plain": [
       "'m'"
      ]
     },
     "execution_count": 5,
     "metadata": {},
     "output_type": "execute_result"
    }
   ],
   "source": [
    "a[3]"
   ]
  },
  {
   "cell_type": "code",
   "execution_count": 6,
   "id": "47d568dd",
   "metadata": {},
   "outputs": [
    {
     "data": {
      "text/plain": [
       "' '"
      ]
     },
     "execution_count": 6,
     "metadata": {},
     "output_type": "execute_result"
    }
   ],
   "source": [
    "a[4]"
   ]
  },
  {
   "cell_type": "code",
   "execution_count": 7,
   "id": "94d720be",
   "metadata": {},
   "outputs": [
    {
     "data": {
      "text/plain": [
       "'m'"
      ]
     },
     "execution_count": 7,
     "metadata": {},
     "output_type": "execute_result"
    }
   ],
   "source": [
    "a[5]"
   ]
  },
  {
   "cell_type": "code",
   "execution_count": 8,
   "id": "240501a8",
   "metadata": {},
   "outputs": [
    {
     "data": {
      "text/plain": [
       "'u'"
      ]
     },
     "execution_count": 8,
     "metadata": {},
     "output_type": "execute_result"
    }
   ],
   "source": [
    "a[6]"
   ]
  },
  {
   "cell_type": "code",
   "execution_count": 9,
   "id": "f44247f5",
   "metadata": {},
   "outputs": [
    {
     "data": {
      "text/plain": [
       "'s'"
      ]
     },
     "execution_count": 9,
     "metadata": {},
     "output_type": "execute_result"
    }
   ],
   "source": [
    "a[7]"
   ]
  },
  {
   "cell_type": "code",
   "execution_count": 10,
   "id": "c173bd8a",
   "metadata": {},
   "outputs": [
    {
     "data": {
      "text/plain": [
       "'l'"
      ]
     },
     "execution_count": 10,
     "metadata": {},
     "output_type": "execute_result"
    }
   ],
   "source": [
    "a[8]"
   ]
  },
  {
   "cell_type": "code",
   "execution_count": 11,
   "id": "ac53e9e2",
   "metadata": {},
   "outputs": [
    {
     "data": {
      "text/plain": [
       "'i'"
      ]
     },
     "execution_count": 11,
     "metadata": {},
     "output_type": "execute_result"
    }
   ],
   "source": [
    "a[9]"
   ]
  },
  {
   "cell_type": "code",
   "execution_count": 12,
   "id": "16152ffc",
   "metadata": {},
   "outputs": [
    {
     "data": {
      "text/plain": [
       "'m'"
      ]
     },
     "execution_count": 12,
     "metadata": {},
     "output_type": "execute_result"
    }
   ],
   "source": [
    "a[10]"
   ]
  },
  {
   "cell_type": "markdown",
   "id": "27f50000",
   "metadata": {},
   "source": [
    "- to find length of indeces use len() function"
   ]
  },
  {
   "cell_type": "code",
   "execution_count": 13,
   "id": "277339c2",
   "metadata": {},
   "outputs": [
    {
     "data": {
      "text/plain": [
       "11"
      ]
     },
     "execution_count": 13,
     "metadata": {},
     "output_type": "execute_result"
    }
   ],
   "source": [
    "len(a)    "
   ]
  },
  {
   "cell_type": "code",
   "execution_count": 14,
   "id": "eb6a5475",
   "metadata": {},
   "outputs": [],
   "source": [
    "#a[11]  the last number or index number is exclusive"
   ]
  },
  {
   "cell_type": "code",
   "execution_count": 15,
   "id": "a7fcaa3a",
   "metadata": {},
   "outputs": [
    {
     "data": {
      "text/plain": [
       "'i am muslim'"
      ]
     },
     "execution_count": 15,
     "metadata": {},
     "output_type": "execute_result"
    }
   ],
   "source": [
    "a[0:11]"
   ]
  },
  {
   "cell_type": "code",
   "execution_count": 16,
   "id": "5afb298a",
   "metadata": {},
   "outputs": [
    {
     "data": {
      "text/plain": [
       "'m'"
      ]
     },
     "execution_count": 16,
     "metadata": {},
     "output_type": "execute_result"
    }
   ],
   "source": [
    "a[-1]"
   ]
  },
  {
   "cell_type": "code",
   "execution_count": 17,
   "id": "84bf1021",
   "metadata": {},
   "outputs": [
    {
     "data": {
      "text/plain": [
       "'i'"
      ]
     },
     "execution_count": 17,
     "metadata": {},
     "output_type": "execute_result"
    }
   ],
   "source": [
    "a[-2]"
   ]
  },
  {
   "cell_type": "code",
   "execution_count": 18,
   "id": "8cecf2c2",
   "metadata": {},
   "outputs": [
    {
     "data": {
      "text/plain": [
       "'l'"
      ]
     },
     "execution_count": 18,
     "metadata": {},
     "output_type": "execute_result"
    }
   ],
   "source": [
    "a[-3]"
   ]
  },
  {
   "cell_type": "code",
   "execution_count": 19,
   "id": "d7ac60ba",
   "metadata": {},
   "outputs": [
    {
     "data": {
      "text/plain": [
       "'a'"
      ]
     },
     "execution_count": 19,
     "metadata": {},
     "output_type": "execute_result"
    }
   ],
   "source": [
    "a[-9]"
   ]
  },
  {
   "cell_type": "code",
   "execution_count": 20,
   "id": "7f6798ab",
   "metadata": {},
   "outputs": [
    {
     "data": {
      "text/plain": [
       "'usli'"
      ]
     },
     "execution_count": 20,
     "metadata": {},
     "output_type": "execute_result"
    }
   ],
   "source": [
    "a[-5:-1]"
   ]
  },
  {
   "cell_type": "markdown",
   "id": "ba56dd78",
   "metadata": {},
   "source": [
    "### - **string methods**"
   ]
  },
  {
   "cell_type": "code",
   "execution_count": 21,
   "id": "df7ca3c7",
   "metadata": {},
   "outputs": [
    {
     "data": {
      "text/plain": [
       "'numkeen'"
      ]
     },
     "execution_count": 21,
     "metadata": {},
     "output_type": "execute_result"
    }
   ],
   "source": [
    "food = \"numkeen\"\n",
    "food"
   ]
  },
  {
   "cell_type": "code",
   "execution_count": 22,
   "id": "b50fa555",
   "metadata": {},
   "outputs": [
    {
     "data": {
      "text/plain": [
       "'Numkeen'"
      ]
     },
     "execution_count": 22,
     "metadata": {},
     "output_type": "execute_result"
    }
   ],
   "source": [
    "food.capitalize() # capatilize mean that the first character of word ,sentence must be capital"
   ]
  },
  {
   "cell_type": "code",
   "execution_count": 23,
   "id": "524b30b0",
   "metadata": {},
   "outputs": [
    {
     "data": {
      "text/plain": [
       "'NUMKEEN'"
      ]
     },
     "execution_count": 23,
     "metadata": {},
     "output_type": "execute_result"
    }
   ],
   "source": [
    "food.upper()    # upper make each and every character capital"
   ]
  },
  {
   "cell_type": "code",
   "execution_count": 24,
   "id": "cc73b446",
   "metadata": {},
   "outputs": [
    {
     "data": {
      "text/plain": [
       "'numkeen'"
      ]
     },
     "execution_count": 24,
     "metadata": {},
     "output_type": "execute_result"
    }
   ],
   "source": [
    "food.lower()     # lower make each and every character small"
   ]
  },
  {
   "cell_type": "code",
   "execution_count": 25,
   "id": "2b8131a3",
   "metadata": {},
   "outputs": [
    {
     "data": {
      "text/plain": [
       "'numraa'"
      ]
     },
     "execution_count": 25,
     "metadata": {},
     "output_type": "execute_result"
    }
   ],
   "source": [
    "food.replace(\"keen\",\"raa\") # to replace some or all characters of a string"
   ]
  },
  {
   "cell_type": "code",
   "execution_count": 26,
   "id": "fee7a81a",
   "metadata": {},
   "outputs": [
    {
     "data": {
      "text/plain": [
       "'husnaa'"
      ]
     },
     "execution_count": 26,
     "metadata": {},
     "output_type": "execute_result"
    }
   ],
   "source": [
    "food.replace(\"numkeen\" , \"husnaa\")\n"
   ]
  },
  {
   "cell_type": "code",
   "execution_count": 27,
   "id": "5e473a7f",
   "metadata": {},
   "outputs": [
    {
     "data": {
      "text/plain": [
       "'ali ,. khan ,. hassan ,. janan ,. kamal'"
      ]
     },
     "execution_count": 27,
     "metadata": {},
     "output_type": "execute_result"
    }
   ],
   "source": [
    "friends=\"ali ,. khan ,. hassan ,. janan ,. kamal\"\n",
    "friends"
   ]
  },
  {
   "cell_type": "code",
   "execution_count": 28,
   "id": "1b86bfc7",
   "metadata": {},
   "outputs": [
    {
     "data": {
      "text/plain": [
       "['ali ', '. khan ', '. hassan ', '. janan ', '. kamal']"
      ]
     },
     "execution_count": 28,
     "metadata": {},
     "output_type": "execute_result"
    }
   ],
   "source": [
    "friends.split(\",\")  # by split function we spilit the strings"
   ]
  },
  {
   "cell_type": "code",
   "execution_count": 29,
   "id": "f20cd864",
   "metadata": {},
   "outputs": [
    {
     "data": {
      "text/plain": [
       "['ali ,', ' khan ,', ' hassan ,', ' janan ,', ' kamal']"
      ]
     },
     "execution_count": 29,
     "metadata": {},
     "output_type": "execute_result"
    }
   ],
   "source": [
    "friends.split(\".\")"
   ]
  },
  {
   "cell_type": "code",
   "execution_count": 30,
   "id": "ab4638e7",
   "metadata": {},
   "outputs": [
    {
     "data": {
      "text/plain": [
       "3"
      ]
     },
     "execution_count": 30,
     "metadata": {},
     "output_type": "execute_result"
    }
   ],
   "source": [
    "name = \"Syed Raja hussain khan qureshi\"\n",
    "name.count(\"s\")          # count fuction are used to count the specific characters"
   ]
  },
  {
   "cell_type": "code",
   "execution_count": 31,
   "id": "6588426a",
   "metadata": {},
   "outputs": [
    {
     "data": {
      "text/plain": [
       "0"
      ]
     },
     "execution_count": 31,
     "metadata": {},
     "output_type": "execute_result"
    }
   ],
   "source": [
    "name.count(\"_\")"
   ]
  },
  {
   "cell_type": "code",
   "execution_count": 32,
   "id": "2ec22c0b",
   "metadata": {},
   "outputs": [
    {
     "data": {
      "text/plain": [
       "1"
      ]
     },
     "execution_count": 32,
     "metadata": {},
     "output_type": "execute_result"
    }
   ],
   "source": [
    "name.count(\"S\")"
   ]
  },
  {
   "cell_type": "code",
   "execution_count": 33,
   "id": "a0599c83",
   "metadata": {},
   "outputs": [
    {
     "data": {
      "text/plain": [
       "1"
      ]
     },
     "execution_count": 33,
     "metadata": {},
     "output_type": "execute_result"
    }
   ],
   "source": [
    "name.count(\"R\")"
   ]
  },
  {
   "cell_type": "code",
   "execution_count": 34,
   "id": "d7819124",
   "metadata": {},
   "outputs": [
    {
     "data": {
      "text/plain": [
       "1"
      ]
     },
     "execution_count": 34,
     "metadata": {},
     "output_type": "execute_result"
    }
   ],
   "source": [
    "name.count(\"r\")"
   ]
  },
  {
   "cell_type": "code",
   "execution_count": 35,
   "id": "ad0344f0",
   "metadata": {},
   "outputs": [
    {
     "data": {
      "text/plain": [
       "4"
      ]
     },
     "execution_count": 35,
     "metadata": {},
     "output_type": "execute_result"
    }
   ],
   "source": [
    "name.count(\" \")"
   ]
  },
  {
   "cell_type": "markdown",
   "id": "09907b19",
   "metadata": {},
   "source": [
    "### - **find an index number in string**"
   ]
  },
  {
   "cell_type": "code",
   "execution_count": 36,
   "id": "c64a6948",
   "metadata": {},
   "outputs": [
    {
     "data": {
      "text/plain": [
       "'i am learning python with D.r Aamar tufail'"
      ]
     },
     "execution_count": 36,
     "metadata": {},
     "output_type": "execute_result"
    }
   ],
   "source": [
    "python=\"i am learning python with D.r Aamar tufail\"\n",
    "python"
   ]
  },
  {
   "cell_type": "code",
   "execution_count": 37,
   "id": "cfc62515",
   "metadata": {},
   "outputs": [
    {
     "data": {
      "text/plain": [
       "0"
      ]
     },
     "execution_count": 37,
     "metadata": {},
     "output_type": "execute_result"
    }
   ],
   "source": [
    "python.find(\"i\")"
   ]
  },
  {
   "cell_type": "code",
   "execution_count": 38,
   "id": "f9da13a0",
   "metadata": {},
   "outputs": [
    {
     "data": {
      "text/plain": [
       "30"
      ]
     },
     "execution_count": 38,
     "metadata": {},
     "output_type": "execute_result"
    }
   ],
   "source": [
    "python.find(\"A\")"
   ]
  },
  {
   "cell_type": "markdown",
   "id": "7dac2488",
   "metadata": {},
   "source": [
    "# **Basic data structures in python**\n",
    "\n",
    "## **- Tuple**\n",
    "## **- List**\n",
    "## **- Dictionaries**\n",
    "## **- Sets**"
   ]
  },
  {
   "cell_type": "markdown",
   "id": "5963fffc",
   "metadata": {},
   "source": [
    "## - Tuple\n",
    "### - an order cllection of elements\n",
    "### - enclosed in round  ( ) parenthesis\n",
    "### - different kind of elements can be stored\n",
    "### - once the element are stored you can not change them (unmutatable)"
   ]
  },
  {
   "cell_type": "code",
   "execution_count": 177,
   "id": "c5a493d7",
   "metadata": {},
   "outputs": [
    {
     "data": {
      "text/plain": [
       "2.0"
      ]
     },
     "execution_count": 177,
     "metadata": {},
     "output_type": "execute_result"
    }
   ],
   "source": [
    "x=2\n",
    "y=4\n",
    "y/=x\n",
    "y"
   ]
  },
  {
   "cell_type": "code",
   "execution_count": 180,
   "id": "ce6ca71f",
   "metadata": {},
   "outputs": [
    {
     "data": {
      "text/plain": [
       "('apple', 'mangoes', 'pears', 'salad')"
      ]
     },
     "execution_count": 180,
     "metadata": {},
     "output_type": "execute_result"
    }
   ],
   "source": [
    "tupp=(\"apple\",\"mangoes\",\"pears\")\n",
    "y=list(tupp)\n",
    "y.append(\"salad\")\n",
    "tupp= tuple(y)\n",
    "tupp"
   ]
  },
  {
   "cell_type": "code",
   "execution_count": 185,
   "id": "0e487c83",
   "metadata": {},
   "outputs": [
    {
     "name": "stdout",
     "output_type": "stream",
     "text": [
      "apple\n",
      "banana\n",
      "cherry\n"
     ]
    }
   ],
   "source": [
    "fruit=(\"apple\",\"banana\",\"cherry\")\n",
    "(x,y,z)=fruit\n",
    "print(x)\n",
    "print(y)\n",
    "print(z)\n"
   ]
  },
  {
   "cell_type": "code",
   "execution_count": 39,
   "id": "54cfbc92",
   "metadata": {},
   "outputs": [
    {
     "data": {
      "text/plain": [
       "(2, 'raja', True, 3.5)"
      ]
     },
     "execution_count": 39,
     "metadata": {},
     "output_type": "execute_result"
    }
   ],
   "source": [
    "# i.e\n",
    "tup1=(2,\"raja\",True,3.5)\n",
    "tup1"
   ]
  },
  {
   "cell_type": "code",
   "execution_count": 166,
   "id": "01fcfb15",
   "metadata": {},
   "outputs": [
    {
     "data": {
      "text/plain": [
       "('khan g',)"
      ]
     },
     "execution_count": 166,
     "metadata": {},
     "output_type": "execute_result"
    }
   ],
   "source": [
    "thistup=(\"khan g\",)\n",
    "thistup"
   ]
  },
  {
   "cell_type": "code",
   "execution_count": 169,
   "id": "a631fd91",
   "metadata": {},
   "outputs": [
    {
     "data": {
      "text/plain": [
       "('apple', 'oranges')"
      ]
     },
     "execution_count": 169,
     "metadata": {},
     "output_type": "execute_result"
    }
   ],
   "source": [
    "tupx= tuple((\"apple\",\"oranges\"))\n",
    "tupx"
   ]
  },
  {
   "cell_type": "code",
   "execution_count": 167,
   "id": "a2846734",
   "metadata": {},
   "outputs": [
    {
     "data": {
      "text/plain": [
       "tuple"
      ]
     },
     "execution_count": 167,
     "metadata": {},
     "output_type": "execute_result"
    }
   ],
   "source": [
    "type(thistup)"
   ]
  },
  {
   "cell_type": "code",
   "execution_count": 40,
   "id": "624fe9bf",
   "metadata": {},
   "outputs": [
    {
     "data": {
      "text/plain": [
       "4"
      ]
     },
     "execution_count": 40,
     "metadata": {},
     "output_type": "execute_result"
    }
   ],
   "source": [
    "len(tup1)"
   ]
  },
  {
   "cell_type": "code",
   "execution_count": 41,
   "id": "9a04d3ff",
   "metadata": {},
   "outputs": [
    {
     "data": {
      "text/plain": [
       "2"
      ]
     },
     "execution_count": 41,
     "metadata": {},
     "output_type": "execute_result"
    }
   ],
   "source": [
    "tup1[0]"
   ]
  },
  {
   "cell_type": "code",
   "execution_count": 42,
   "id": "8ab4da6b",
   "metadata": {},
   "outputs": [
    {
     "data": {
      "text/plain": [
       "'raja'"
      ]
     },
     "execution_count": 42,
     "metadata": {},
     "output_type": "execute_result"
    }
   ],
   "source": [
    "tup1[1]"
   ]
  },
  {
   "cell_type": "code",
   "execution_count": 43,
   "id": "2613dade",
   "metadata": {},
   "outputs": [
    {
     "data": {
      "text/plain": [
       "True"
      ]
     },
     "execution_count": 43,
     "metadata": {},
     "output_type": "execute_result"
    }
   ],
   "source": [
    "tup1[2]"
   ]
  },
  {
   "cell_type": "code",
   "execution_count": 44,
   "id": "10a584a2",
   "metadata": {},
   "outputs": [
    {
     "data": {
      "text/plain": [
       "3.5"
      ]
     },
     "execution_count": 44,
     "metadata": {},
     "output_type": "execute_result"
    }
   ],
   "source": [
    "tup1[3]"
   ]
  },
  {
   "cell_type": "code",
   "execution_count": 45,
   "id": "df745565",
   "metadata": {},
   "outputs": [
    {
     "data": {
      "text/plain": [
       "3.5"
      ]
     },
     "execution_count": 45,
     "metadata": {},
     "output_type": "execute_result"
    }
   ],
   "source": [
    "tup1[-1]"
   ]
  },
  {
   "cell_type": "code",
   "execution_count": 46,
   "id": "917a767a",
   "metadata": {},
   "outputs": [
    {
     "data": {
      "text/plain": [
       "'raja'"
      ]
     },
     "execution_count": 46,
     "metadata": {},
     "output_type": "execute_result"
    }
   ],
   "source": [
    "tup1[-3]"
   ]
  },
  {
   "cell_type": "code",
   "execution_count": 47,
   "id": "c5940a17",
   "metadata": {},
   "outputs": [
    {
     "data": {
      "text/plain": [
       "2"
      ]
     },
     "execution_count": 47,
     "metadata": {},
     "output_type": "execute_result"
    }
   ],
   "source": [
    "tup1[-4]"
   ]
  },
  {
   "cell_type": "code",
   "execution_count": 48,
   "id": "8d195e6b",
   "metadata": {},
   "outputs": [
    {
     "data": {
      "text/plain": [
       "(2, 'raja', True, 3.5)"
      ]
     },
     "execution_count": 48,
     "metadata": {},
     "output_type": "execute_result"
    }
   ],
   "source": [
    "tup1[-4:4]"
   ]
  },
  {
   "cell_type": "code",
   "execution_count": 49,
   "id": "4a2f9cef",
   "metadata": {},
   "outputs": [
    {
     "data": {
      "text/plain": [
       "tuple"
      ]
     },
     "execution_count": 49,
     "metadata": {},
     "output_type": "execute_result"
    }
   ],
   "source": [
    "type(tup1)"
   ]
  },
  {
   "cell_type": "code",
   "execution_count": 50,
   "id": "4cc08d2d",
   "metadata": {},
   "outputs": [
    {
     "data": {
      "text/plain": [
       "(3, 'khan', False, 8.9)"
      ]
     },
     "execution_count": 50,
     "metadata": {},
     "output_type": "execute_result"
    }
   ],
   "source": [
    "tup2=(3,\"khan\",False,8.9)\n",
    "tup2"
   ]
  },
  {
   "cell_type": "code",
   "execution_count": 51,
   "id": "f8d5cdf6",
   "metadata": {},
   "outputs": [
    {
     "data": {
      "text/plain": [
       "(2, 'raja', True, 3.5, 3, 'khan', False, 8.9)"
      ]
     },
     "execution_count": 51,
     "metadata": {},
     "output_type": "execute_result"
    }
   ],
   "source": [
    "# concatenation of tuples mean to add two or more tuples\n",
    "tup1+tup2"
   ]
  },
  {
   "cell_type": "code",
   "execution_count": 52,
   "id": "e92ffdea",
   "metadata": {},
   "outputs": [
    {
     "data": {
      "text/plain": [
       "(2,\n",
       " 'raja',\n",
       " True,\n",
       " 3.5,\n",
       " 2,\n",
       " 'raja',\n",
       " True,\n",
       " 3.5,\n",
       " 2,\n",
       " 'raja',\n",
       " True,\n",
       " 3.5,\n",
       " 3,\n",
       " 'khan',\n",
       " False,\n",
       " 8.9)"
      ]
     },
     "execution_count": 52,
     "metadata": {},
     "output_type": "execute_result"
    }
   ],
   "source": [
    "tup1*3+tup2"
   ]
  },
  {
   "cell_type": "code",
   "execution_count": 53,
   "id": "18173479",
   "metadata": {},
   "outputs": [
    {
     "data": {
      "text/plain": [
       "(2,\n",
       " 'raja',\n",
       " True,\n",
       " 3.5,\n",
       " 2,\n",
       " 'raja',\n",
       " True,\n",
       " 3.5,\n",
       " 3,\n",
       " 'khan',\n",
       " False,\n",
       " 8.9,\n",
       " 3,\n",
       " 'khan',\n",
       " False,\n",
       " 8.9,\n",
       " 3,\n",
       " 'khan',\n",
       " False,\n",
       " 8.9)"
      ]
     },
     "execution_count": 53,
     "metadata": {},
     "output_type": "execute_result"
    }
   ],
   "source": [
    "tup1*2+tup2*3"
   ]
  },
  {
   "cell_type": "code",
   "execution_count": 54,
   "id": "370b5d33",
   "metadata": {},
   "outputs": [
    {
     "data": {
      "text/plain": [
       "(211, 321, 123, 21, 345, 876)"
      ]
     },
     "execution_count": 54,
     "metadata": {},
     "output_type": "execute_result"
    }
   ],
   "source": [
    "tup3=(211,321,123,21,345,876)\n",
    "tup3"
   ]
  },
  {
   "cell_type": "code",
   "execution_count": 55,
   "id": "12baa83f",
   "metadata": {},
   "outputs": [
    {
     "data": {
      "text/plain": [
       "21"
      ]
     },
     "execution_count": 55,
     "metadata": {},
     "output_type": "execute_result"
    }
   ],
   "source": [
    "min(tup3)"
   ]
  },
  {
   "cell_type": "code",
   "execution_count": 56,
   "id": "cf73bf22",
   "metadata": {},
   "outputs": [
    {
     "data": {
      "text/plain": [
       "876"
      ]
     },
     "execution_count": 56,
     "metadata": {},
     "output_type": "execute_result"
    }
   ],
   "source": [
    "max(tup3)"
   ]
  },
  {
   "cell_type": "code",
   "execution_count": 57,
   "id": "404129eb",
   "metadata": {},
   "outputs": [
    {
     "data": {
      "text/plain": [
       "(211, 321, 123, 21, 345, 876, 211, 321, 123, 21, 345, 876)"
      ]
     },
     "execution_count": 57,
     "metadata": {},
     "output_type": "execute_result"
    }
   ],
   "source": [
    "tup3+tup3"
   ]
  },
  {
   "cell_type": "code",
   "execution_count": 58,
   "id": "071085d9",
   "metadata": {
    "scrolled": true
   },
   "outputs": [
    {
     "data": {
      "text/plain": [
       "(211,\n",
       " 321,\n",
       " 123,\n",
       " 21,\n",
       " 345,\n",
       " 876,\n",
       " 211,\n",
       " 321,\n",
       " 123,\n",
       " 21,\n",
       " 345,\n",
       " 876,\n",
       " 211,\n",
       " 321,\n",
       " 123,\n",
       " 21,\n",
       " 345,\n",
       " 876)"
      ]
     },
     "execution_count": 58,
     "metadata": {},
     "output_type": "execute_result"
    }
   ],
   "source": [
    "tup3*3"
   ]
  },
  {
   "cell_type": "code",
   "execution_count": null,
   "id": "c5e51072",
   "metadata": {},
   "outputs": [],
   "source": []
  },
  {
   "cell_type": "markdown",
   "id": "fd76457c",
   "metadata": {},
   "source": [
    "---"
   ]
  },
  {
   "cell_type": "markdown",
   "id": "141a0fe0",
   "metadata": {},
   "source": [
    "# - Lists\n",
    "### - an order collection of elements\n",
    "### - enclosed in [ ] square braces\n",
    "### - lists are mutatable , you can change the value\n"
   ]
  },
  {
   "cell_type": "code",
   "execution_count": 59,
   "id": "d093fa21",
   "metadata": {},
   "outputs": [
    {
     "data": {
      "text/plain": [
       "[23, 'hussain', False, 3.2]"
      ]
     },
     "execution_count": 59,
     "metadata": {},
     "output_type": "execute_result"
    }
   ],
   "source": [
    "# i.e\n",
    "list1=[23,\"hussain\",False,3.2]\n",
    "list1"
   ]
  },
  {
   "cell_type": "code",
   "execution_count": 60,
   "id": "408a11b0",
   "metadata": {},
   "outputs": [
    {
     "data": {
      "text/plain": [
       "4"
      ]
     },
     "execution_count": 60,
     "metadata": {},
     "output_type": "execute_result"
    }
   ],
   "source": [
    "len(list1)"
   ]
  },
  {
   "cell_type": "code",
   "execution_count": 61,
   "id": "acfd3c47",
   "metadata": {},
   "outputs": [
    {
     "data": {
      "text/plain": [
       "list"
      ]
     },
     "execution_count": 61,
     "metadata": {},
     "output_type": "execute_result"
    }
   ],
   "source": [
    "type(list1)"
   ]
  },
  {
   "cell_type": "code",
   "execution_count": 62,
   "id": "9b5f3158",
   "metadata": {},
   "outputs": [
    {
     "data": {
      "text/plain": [
       "23"
      ]
     },
     "execution_count": 62,
     "metadata": {},
     "output_type": "execute_result"
    }
   ],
   "source": [
    "list1[0]"
   ]
  },
  {
   "cell_type": "code",
   "execution_count": 63,
   "id": "6385f912",
   "metadata": {},
   "outputs": [
    {
     "data": {
      "text/plain": [
       "'hussain'"
      ]
     },
     "execution_count": 63,
     "metadata": {},
     "output_type": "execute_result"
    }
   ],
   "source": [
    "list1[1]"
   ]
  },
  {
   "cell_type": "code",
   "execution_count": 64,
   "id": "cbad8139",
   "metadata": {},
   "outputs": [
    {
     "data": {
      "text/plain": [
       "False"
      ]
     },
     "execution_count": 64,
     "metadata": {},
     "output_type": "execute_result"
    }
   ],
   "source": [
    "list1[2]"
   ]
  },
  {
   "cell_type": "code",
   "execution_count": 65,
   "id": "132e6423",
   "metadata": {},
   "outputs": [
    {
     "data": {
      "text/plain": [
       "3.2"
      ]
     },
     "execution_count": 65,
     "metadata": {},
     "output_type": "execute_result"
    }
   ],
   "source": [
    "list1[3]"
   ]
  },
  {
   "cell_type": "code",
   "execution_count": 66,
   "id": "2c30d1bc",
   "metadata": {},
   "outputs": [
    {
     "data": {
      "text/plain": [
       "3.2"
      ]
     },
     "execution_count": 66,
     "metadata": {},
     "output_type": "execute_result"
    }
   ],
   "source": [
    "list1[-1]"
   ]
  },
  {
   "cell_type": "code",
   "execution_count": 67,
   "id": "6531c52e",
   "metadata": {},
   "outputs": [
    {
     "data": {
      "text/plain": [
       "23"
      ]
     },
     "execution_count": 67,
     "metadata": {},
     "output_type": "execute_result"
    }
   ],
   "source": [
    "list1[-4]"
   ]
  },
  {
   "cell_type": "code",
   "execution_count": 68,
   "id": "1830de5f",
   "metadata": {},
   "outputs": [
    {
     "data": {
      "text/plain": [
       "[32, 'qurrashi', True, 45.0]"
      ]
     },
     "execution_count": 68,
     "metadata": {},
     "output_type": "execute_result"
    }
   ],
   "source": [
    "# concatenation of lists\n",
    "list2=[32,\"qurrashi\",True,45.0]\n",
    "list2"
   ]
  },
  {
   "cell_type": "code",
   "execution_count": 69,
   "id": "7f7a83be",
   "metadata": {},
   "outputs": [
    {
     "data": {
      "text/plain": [
       "[23, 'hussain', False, 3.2, 32, 'qurrashi', True, 45.0]"
      ]
     },
     "execution_count": 69,
     "metadata": {},
     "output_type": "execute_result"
    }
   ],
   "source": [
    "list1+list2"
   ]
  },
  {
   "cell_type": "code",
   "execution_count": 70,
   "id": "eeaaef47",
   "metadata": {},
   "outputs": [
    {
     "data": {
      "text/plain": [
       "[23, 'hussain', False, 3.2, 23, 'hussain', False, 3.2]"
      ]
     },
     "execution_count": 70,
     "metadata": {},
     "output_type": "execute_result"
    }
   ],
   "source": [
    "list1*2"
   ]
  },
  {
   "cell_type": "code",
   "execution_count": 71,
   "id": "bafc4c7e",
   "metadata": {},
   "outputs": [
    {
     "data": {
      "text/plain": [
       "[23,\n",
       " 'hussain',\n",
       " False,\n",
       " 3.2,\n",
       " 23,\n",
       " 'hussain',\n",
       " False,\n",
       " 3.2,\n",
       " 32,\n",
       " 'qurrashi',\n",
       " True,\n",
       " 45.0,\n",
       " 32,\n",
       " 'qurrashi',\n",
       " True,\n",
       " 45.0,\n",
       " 32,\n",
       " 'qurrashi',\n",
       " True,\n",
       " 45.0]"
      ]
     },
     "execution_count": 71,
     "metadata": {},
     "output_type": "execute_result"
    }
   ],
   "source": [
    "list1*2+list2*3"
   ]
  },
  {
   "cell_type": "code",
   "execution_count": 72,
   "id": "85de3663",
   "metadata": {},
   "outputs": [
    {
     "data": {
      "text/plain": [
       "12"
      ]
     },
     "execution_count": 72,
     "metadata": {},
     "output_type": "execute_result"
    }
   ],
   "source": [
    "list3=[20,12,32,12,23,43,54,32,34,21,34,23]\n",
    "min(list3)"
   ]
  },
  {
   "cell_type": "code",
   "execution_count": 73,
   "id": "c2a615be",
   "metadata": {},
   "outputs": [
    {
     "data": {
      "text/plain": [
       "54"
      ]
     },
     "execution_count": 73,
     "metadata": {},
     "output_type": "execute_result"
    }
   ],
   "source": [
    "max(list3)"
   ]
  },
  {
   "cell_type": "code",
   "execution_count": 74,
   "id": "b838f933",
   "metadata": {},
   "outputs": [
    {
     "data": {
      "text/plain": [
       "[23, 'hussain', False, 3.2]"
      ]
     },
     "execution_count": 74,
     "metadata": {},
     "output_type": "execute_result"
    }
   ],
   "source": [
    "list1"
   ]
  },
  {
   "cell_type": "code",
   "execution_count": 75,
   "id": "9e26a5f7",
   "metadata": {},
   "outputs": [
    {
     "data": {
      "text/plain": [
       "[3.2, False, 'hussain', 23]"
      ]
     },
     "execution_count": 75,
     "metadata": {},
     "output_type": "execute_result"
    }
   ],
   "source": [
    "list1.reverse()\n",
    "list1"
   ]
  },
  {
   "cell_type": "code",
   "execution_count": 76,
   "id": "6f094eef",
   "metadata": {},
   "outputs": [
    {
     "data": {
      "text/plain": [
       "[3.2, False, 'hussain', 23, 'append working']"
      ]
     },
     "execution_count": 76,
     "metadata": {},
     "output_type": "execute_result"
    }
   ],
   "source": [
    "list1.append(\"append working\")\n",
    "list1"
   ]
  },
  {
   "cell_type": "code",
   "execution_count": 77,
   "id": "b3470312",
   "metadata": {},
   "outputs": [],
   "source": [
    "# list1.clear()\n",
    "# list1"
   ]
  },
  {
   "cell_type": "code",
   "execution_count": 78,
   "id": "f0ac609d",
   "metadata": {},
   "outputs": [
    {
     "data": {
      "text/plain": [
       "[3.2, False, 'hussain', 23, 'append working']"
      ]
     },
     "execution_count": 78,
     "metadata": {},
     "output_type": "execute_result"
    }
   ],
   "source": [
    "list1"
   ]
  },
  {
   "cell_type": "code",
   "execution_count": 79,
   "id": "5545937f",
   "metadata": {},
   "outputs": [
    {
     "data": {
      "text/plain": [
       "[3.2, False, 'hussain', 23, 'append working', 'clear function clear lists']"
      ]
     },
     "execution_count": 79,
     "metadata": {},
     "output_type": "execute_result"
    }
   ],
   "source": [
    "list1.append(\"clear function clear lists\")\n",
    "list1"
   ]
  },
  {
   "cell_type": "code",
   "execution_count": 80,
   "id": "2796868c",
   "metadata": {},
   "outputs": [
    {
     "data": {
      "text/plain": [
       "[3.2, False, 'hussain', 23, 'append working', 'clear function clear lists']"
      ]
     },
     "execution_count": 80,
     "metadata": {},
     "output_type": "execute_result"
    }
   ],
   "source": [
    "list1.copy()\n",
    "list1"
   ]
  },
  {
   "cell_type": "code",
   "execution_count": 81,
   "id": "3f8f1b66",
   "metadata": {},
   "outputs": [
    {
     "data": {
      "text/plain": [
       "[12, 23, 34, 23, 2, 1, 2, 4]"
      ]
     },
     "execution_count": 81,
     "metadata": {},
     "output_type": "execute_result"
    }
   ],
   "source": [
    "list3=[12,23,34,23,2,1,2,4]\n",
    "list3"
   ]
  },
  {
   "cell_type": "code",
   "execution_count": 82,
   "id": "59ac7df8",
   "metadata": {},
   "outputs": [
    {
     "data": {
      "text/plain": [
       "[12, 23, 34, 23, 2, 1, 2, 4]"
      ]
     },
     "execution_count": 82,
     "metadata": {},
     "output_type": "execute_result"
    }
   ],
   "source": [
    "list3.copy()\n",
    "list3"
   ]
  },
  {
   "cell_type": "code",
   "execution_count": 83,
   "id": "bf204bab",
   "metadata": {},
   "outputs": [
    {
     "data": {
      "text/plain": [
       "23"
      ]
     },
     "execution_count": 83,
     "metadata": {},
     "output_type": "execute_result"
    }
   ],
   "source": [
    "list3[3]"
   ]
  },
  {
   "cell_type": "code",
   "execution_count": 84,
   "id": "edcaa391",
   "metadata": {},
   "outputs": [
    {
     "data": {
      "text/plain": [
       "list[slice(3, None, None)]"
      ]
     },
     "execution_count": 84,
     "metadata": {},
     "output_type": "execute_result"
    }
   ],
   "source": [
    "list[3:]"
   ]
  },
  {
   "cell_type": "code",
   "execution_count": 85,
   "id": "c95965df",
   "metadata": {},
   "outputs": [
    {
     "name": "stdout",
     "output_type": "stream",
     "text": [
      "['apple', 'blackcurrant', 'cherry']\n"
     ]
    }
   ],
   "source": [
    "thislist = [\"apple\", \"banana\", \"cherry\"]\n",
    "thislist[1] = \"blackcurrant\"\n",
    "print(thislist)"
   ]
  },
  {
   "cell_type": "code",
   "execution_count": 86,
   "id": "7d661b99",
   "metadata": {},
   "outputs": [
    {
     "data": {
      "text/plain": [
       "['apple', 'blackcurrant', 'alocat']"
      ]
     },
     "execution_count": 86,
     "metadata": {},
     "output_type": "execute_result"
    }
   ],
   "source": [
    "thislist[2]=\"alocat\"\n",
    "thislist"
   ]
  },
  {
   "cell_type": "code",
   "execution_count": 87,
   "id": "a10fb0f8",
   "metadata": {},
   "outputs": [
    {
     "data": {
      "text/plain": [
       "['kabal', 'islamabad', 'delhi']"
      ]
     },
     "execution_count": 87,
     "metadata": {},
     "output_type": "execute_result"
    }
   ],
   "source": [
    "lista=[\"kabal\",\"islamabad\",\"delhi\"]\n",
    "mylist=lista.copy()\n",
    "mylist"
   ]
  },
  {
   "cell_type": "code",
   "execution_count": 88,
   "id": "b6a78e98",
   "metadata": {},
   "outputs": [
    {
     "data": {
      "text/plain": [
       "['kabal', 'islamabad', 'delhi']"
      ]
     },
     "execution_count": 88,
     "metadata": {},
     "output_type": "execute_result"
    }
   ],
   "source": [
    "lista"
   ]
  },
  {
   "cell_type": "code",
   "execution_count": null,
   "id": "2decef6d",
   "metadata": {},
   "outputs": [],
   "source": []
  },
  {
   "cell_type": "code",
   "execution_count": 90,
   "id": "11683d17",
   "metadata": {},
   "outputs": [
    {
     "data": {
      "text/plain": [
       "['apple', 'oranges', 'mangoes']"
      ]
     },
     "execution_count": 90,
     "metadata": {},
     "output_type": "execute_result"
    }
   ],
   "source": [
    "listx=list((\"apple\",\"oranges\",\"mangoes\"))\n",
    "listx"
   ]
  },
  {
   "cell_type": "code",
   "execution_count": 92,
   "id": "e3c3905d",
   "metadata": {},
   "outputs": [
    {
     "name": "stdout",
     "output_type": "stream",
     "text": [
      "['banana', 'cherry', 'orange', 'kiwi']\n"
     ]
    }
   ],
   "source": [
    "thislist = [\"apple\", \"banana\", \"cherry\", \"orange\", \"kiwi\", \"melon\", \"mango\"]\n",
    "print(thislist[1:5])"
   ]
  },
  {
   "cell_type": "code",
   "execution_count": 93,
   "id": "a56665f8",
   "metadata": {},
   "outputs": [
    {
     "data": {
      "text/plain": [
       "[1, 2, 3, 4, 5, 6, 7]"
      ]
     },
     "execution_count": 93,
     "metadata": {},
     "output_type": "execute_result"
    }
   ],
   "source": [
    "listy=[1,2,3,4,5,6,7]\n",
    "listy"
   ]
  },
  {
   "cell_type": "code",
   "execution_count": 94,
   "id": "ca66b969",
   "metadata": {},
   "outputs": [
    {
     "data": {
      "text/plain": [
       "[1, 2, 3]"
      ]
     },
     "execution_count": 94,
     "metadata": {},
     "output_type": "execute_result"
    }
   ],
   "source": [
    "listy[0:3]"
   ]
  },
  {
   "cell_type": "code",
   "execution_count": 95,
   "id": "72acfeb5",
   "metadata": {},
   "outputs": [
    {
     "data": {
      "text/plain": [
       "[1, 2, 3, 4, 5]"
      ]
     },
     "execution_count": 95,
     "metadata": {},
     "output_type": "execute_result"
    }
   ],
   "source": [
    "listy[:5]"
   ]
  },
  {
   "cell_type": "code",
   "execution_count": 96,
   "id": "b15dcf89",
   "metadata": {},
   "outputs": [
    {
     "data": {
      "text/plain": [
       "['kabal', 'islamabad', 'delhi']"
      ]
     },
     "execution_count": 96,
     "metadata": {},
     "output_type": "execute_result"
    }
   ],
   "source": [
    "lista"
   ]
  },
  {
   "cell_type": "code",
   "execution_count": 97,
   "id": "0443c254",
   "metadata": {},
   "outputs": [
    {
     "data": {
      "text/plain": [
       "[1, 2, 3, 4, 5, 6, 7]"
      ]
     },
     "execution_count": 97,
     "metadata": {},
     "output_type": "execute_result"
    }
   ],
   "source": [
    "listy"
   ]
  },
  {
   "cell_type": "code",
   "execution_count": 98,
   "id": "2e309fc2",
   "metadata": {},
   "outputs": [
    {
     "data": {
      "text/plain": [
       "[4, 5, 6, 7]"
      ]
     },
     "execution_count": 98,
     "metadata": {},
     "output_type": "execute_result"
    }
   ],
   "source": [
    "listy[3:]"
   ]
  },
  {
   "cell_type": "code",
   "execution_count": 99,
   "id": "7ff76df7",
   "metadata": {},
   "outputs": [
    {
     "name": "stdout",
     "output_type": "stream",
     "text": [
      "yes\n"
     ]
    }
   ],
   "source": [
    "if 5 in listy:\n",
    "    print(\"yes\")"
   ]
  },
  {
   "cell_type": "code",
   "execution_count": 100,
   "id": "d651ad49",
   "metadata": {},
   "outputs": [
    {
     "data": {
      "text/plain": [
       "[1, 2, 3, 4, 5, 6, 7]"
      ]
     },
     "execution_count": 100,
     "metadata": {},
     "output_type": "execute_result"
    }
   ],
   "source": [
    "listy"
   ]
  },
  {
   "cell_type": "code",
   "execution_count": 101,
   "id": "a21d15b1",
   "metadata": {},
   "outputs": [
    {
     "data": {
      "text/plain": [
       "[1, 2, 22, 4, 5, 6, 7]"
      ]
     },
     "execution_count": 101,
     "metadata": {},
     "output_type": "execute_result"
    }
   ],
   "source": [
    "listy[2]=22\n",
    "listy"
   ]
  },
  {
   "cell_type": "code",
   "execution_count": 108,
   "id": "9908024a",
   "metadata": {},
   "outputs": [
    {
     "data": {
      "text/plain": [
       "[1, 33, 89, 5, 6, 7]"
      ]
     },
     "execution_count": 108,
     "metadata": {},
     "output_type": "execute_result"
    }
   ],
   "source": [
    "listy[1:3]=[33,89]\n",
    "           \n",
    "listy"
   ]
  },
  {
   "cell_type": "code",
   "execution_count": 109,
   "id": "383f4cd1",
   "metadata": {},
   "outputs": [
    {
     "data": {
      "text/plain": [
       "5"
      ]
     },
     "execution_count": 109,
     "metadata": {},
     "output_type": "execute_result"
    }
   ],
   "source": [
    "listy[3]\n",
    "\n"
   ]
  },
  {
   "cell_type": "code",
   "execution_count": 113,
   "id": "d04e5534",
   "metadata": {},
   "outputs": [
    {
     "data": {
      "text/plain": [
       "[2, 1, 8, 33, 2, 89, 5, 6, 7]"
      ]
     },
     "execution_count": 113,
     "metadata": {},
     "output_type": "execute_result"
    }
   ],
   "source": [
    "listy.insert(2,8)\n",
    "listy"
   ]
  },
  {
   "cell_type": "code",
   "execution_count": 116,
   "id": "221841fe",
   "metadata": {},
   "outputs": [
    {
     "name": "stdout",
     "output_type": "stream",
     "text": [
      "<class 'list'>\n",
      "<class 'tuple'>\n"
     ]
    }
   ],
   "source": [
    "listt=[\"kake\",\"bescit\",\"bakery\",\"keer\"]\n",
    "print(type(listt))\n",
    "tupy=(\"pirny\",\"junks\")\n",
    "print(type(tupy))"
   ]
  },
  {
   "cell_type": "code",
   "execution_count": 117,
   "id": "0f9a007d",
   "metadata": {},
   "outputs": [
    {
     "data": {
      "text/plain": [
       "['kake', 'bescit', 'bakery', 'keer', 'pirny', 'junks']"
      ]
     },
     "execution_count": 117,
     "metadata": {},
     "output_type": "execute_result"
    }
   ],
   "source": [
    "listt.extend(tupy)\n",
    "listt"
   ]
  },
  {
   "cell_type": "code",
   "execution_count": 118,
   "id": "be3d9731",
   "metadata": {},
   "outputs": [
    {
     "data": {
      "text/plain": [
       "['junks', 'pirny', 'keer', 'bakery', 'bescit', 'kake']"
      ]
     },
     "execution_count": 118,
     "metadata": {},
     "output_type": "execute_result"
    }
   ],
   "source": [
    "listt.reverse()\n",
    "listt"
   ]
  },
  {
   "cell_type": "code",
   "execution_count": 119,
   "id": "826f9e0b",
   "metadata": {},
   "outputs": [],
   "source": [
    "listt.remove(\"bakery\")"
   ]
  },
  {
   "cell_type": "code",
   "execution_count": 120,
   "id": "95c1a712",
   "metadata": {},
   "outputs": [
    {
     "data": {
      "text/plain": [
       "['junks', 'pirny', 'keer', 'bescit', 'kake']"
      ]
     },
     "execution_count": 120,
     "metadata": {},
     "output_type": "execute_result"
    }
   ],
   "source": [
    "listt"
   ]
  },
  {
   "cell_type": "code",
   "execution_count": 121,
   "id": "ba432b68",
   "metadata": {},
   "outputs": [
    {
     "data": {
      "text/plain": [
       "['pirny', 'keer', 'bescit', 'kake']"
      ]
     },
     "execution_count": 121,
     "metadata": {},
     "output_type": "execute_result"
    }
   ],
   "source": [
    "listt.pop(0)\n",
    "listt"
   ]
  },
  {
   "cell_type": "code",
   "execution_count": 122,
   "id": "6e3f02e7",
   "metadata": {},
   "outputs": [
    {
     "data": {
      "text/plain": [
       "['pirny', 'bescit', 'kake']"
      ]
     },
     "execution_count": 122,
     "metadata": {},
     "output_type": "execute_result"
    }
   ],
   "source": [
    "del listt[1]\n",
    "listt"
   ]
  },
  {
   "cell_type": "code",
   "execution_count": 123,
   "id": "fa4edd42",
   "metadata": {},
   "outputs": [
    {
     "name": "stdout",
     "output_type": "stream",
     "text": [
      "pirny\n",
      "bescit\n",
      "kake\n"
     ]
    }
   ],
   "source": [
    "for x in listt:\n",
    "    print(x)"
   ]
  },
  {
   "cell_type": "code",
   "execution_count": 125,
   "id": "28428d4e",
   "metadata": {},
   "outputs": [
    {
     "name": "stdout",
     "output_type": "stream",
     "text": [
      "pirny\n",
      "bescit\n",
      "kake\n"
     ]
    }
   ],
   "source": [
    "for i in range(len(listt)):\n",
    "    print(listt[i])"
   ]
  },
  {
   "cell_type": "code",
   "execution_count": 126,
   "id": "2f9af92d",
   "metadata": {},
   "outputs": [
    {
     "data": {
      "text/plain": [
       "[1, 2, 3, 4, 4, 4, 5, 6, 7, 4, 4, 4]"
      ]
     },
     "execution_count": 126,
     "metadata": {},
     "output_type": "execute_result"
    }
   ],
   "source": [
    "listtt=[1,2,3,4,4,4,5,6,7,4,4,4]\n",
    "listtt"
   ]
  },
  {
   "cell_type": "code",
   "execution_count": 127,
   "id": "8d037cff",
   "metadata": {},
   "outputs": [
    {
     "data": {
      "text/plain": [
       "6"
      ]
     },
     "execution_count": 127,
     "metadata": {},
     "output_type": "execute_result"
    }
   ],
   "source": [
    "listtt.count(4)"
   ]
  },
  {
   "cell_type": "markdown",
   "id": "2e858777",
   "metadata": {},
   "source": [
    "## - dictionaries\n",
    "\n",
    "### - an unordered collection of element\n",
    "### - include keys and values\n",
    "### - enclosed in curly brases\n",
    "### - mutatable or you can change the value"
   ]
  },
  {
   "cell_type": "code",
   "execution_count": 128,
   "id": "ccd588bc",
   "metadata": {},
   "outputs": [
    {
     "data": {
      "text/plain": [
       "{'numkeen': 200, 'qeema': 150, 'lobya': 80, 'chiken': 500, 'motton': 1000}"
      ]
     },
     "execution_count": 128,
     "metadata": {},
     "output_type": "execute_result"
    }
   ],
   "source": [
    "# i.e\n",
    "food1={\"numkeen\":200,\"qeema\":150,\"lobya\":80,\"chiken\":500,\"motton\":1000}\n",
    "food1"
   ]
  },
  {
   "cell_type": "code",
   "execution_count": 129,
   "id": "2f9059e9",
   "metadata": {},
   "outputs": [
    {
     "data": {
      "text/plain": [
       "5"
      ]
     },
     "execution_count": 129,
     "metadata": {},
     "output_type": "execute_result"
    }
   ],
   "source": [
    "len(food1)"
   ]
  },
  {
   "cell_type": "code",
   "execution_count": 130,
   "id": "3126526b",
   "metadata": {},
   "outputs": [
    {
     "data": {
      "text/plain": [
       "dict"
      ]
     },
     "execution_count": 130,
     "metadata": {},
     "output_type": "execute_result"
    }
   ],
   "source": [
    "type(food1)"
   ]
  },
  {
   "cell_type": "code",
   "execution_count": 133,
   "id": "68800216",
   "metadata": {},
   "outputs": [
    {
     "data": {
      "text/plain": [
       "200"
      ]
     },
     "execution_count": 133,
     "metadata": {},
     "output_type": "execute_result"
    }
   ],
   "source": [
    "food1[\"numkeen\"]"
   ]
  },
  {
   "cell_type": "code",
   "execution_count": 134,
   "id": "2515a264",
   "metadata": {},
   "outputs": [
    {
     "data": {
      "text/plain": [
       "1000"
      ]
     },
     "execution_count": 134,
     "metadata": {},
     "output_type": "execute_result"
    }
   ],
   "source": [
    "food1[\"motton\"]"
   ]
  },
  {
   "cell_type": "code",
   "execution_count": 135,
   "id": "38aaa581",
   "metadata": {},
   "outputs": [
    {
     "data": {
      "text/plain": [
       "{'numkeen': 200,\n",
       " 'qeema': 150,\n",
       " 'lobya': 80,\n",
       " 'chiken': 500,\n",
       " 'motton': 1000,\n",
       " 'biryani': 200}"
      ]
     },
     "execution_count": 135,
     "metadata": {},
     "output_type": "execute_result"
    }
   ],
   "source": [
    "food1[\"biryani\"]=200\n",
    "food1"
   ]
  },
  {
   "cell_type": "code",
   "execution_count": 136,
   "id": "159febb8",
   "metadata": {},
   "outputs": [
    {
     "data": {
      "text/plain": [
       "{'ice_cream': 200, 'keer': 100, 'cold_drink': 200}"
      ]
     },
     "execution_count": 136,
     "metadata": {},
     "output_type": "execute_result"
    }
   ],
   "source": [
    "food2={\"ice_cream\":200,\"keer\":100,\"cold_drink\":200}\n",
    "food2"
   ]
  },
  {
   "cell_type": "code",
   "execution_count": 137,
   "id": "8d86d9e1",
   "metadata": {},
   "outputs": [
    {
     "data": {
      "text/plain": [
       "{'ice_cream': 200, 'keer': 100, 'cold_drink': 200, 'tea': 50}"
      ]
     },
     "execution_count": 137,
     "metadata": {},
     "output_type": "execute_result"
    }
   ],
   "source": [
    "food2[\"tea\"]=50\n",
    "food2"
   ]
  },
  {
   "cell_type": "code",
   "execution_count": 138,
   "id": "850ed2b9",
   "metadata": {},
   "outputs": [
    {
     "data": {
      "text/plain": [
       "{'numkeen': 200,\n",
       " 'qeema': 150,\n",
       " 'lobya': 80,\n",
       " 'chiken': 500,\n",
       " 'motton': 1000,\n",
       " 'biryani': 200,\n",
       " 'ice_cream': 200,\n",
       " 'keer': 100,\n",
       " 'cold_drink': 200,\n",
       " 'tea': 50}"
      ]
     },
     "execution_count": 138,
     "metadata": {},
     "output_type": "execute_result"
    }
   ],
   "source": [
    "food1.update(food2)\n",
    "food1"
   ]
  },
  {
   "cell_type": "code",
   "execution_count": 139,
   "id": "98248319",
   "metadata": {},
   "outputs": [
    {
     "data": {
      "text/plain": [
       "dict_keys(['ice_cream', 'keer', 'cold_drink', 'tea'])"
      ]
     },
     "execution_count": 139,
     "metadata": {},
     "output_type": "execute_result"
    }
   ],
   "source": [
    "food2.keys()\n"
   ]
  },
  {
   "cell_type": "code",
   "execution_count": 140,
   "id": "259832dd",
   "metadata": {},
   "outputs": [
    {
     "data": {
      "text/plain": [
       "dict_values([200, 100, 200, 50])"
      ]
     },
     "execution_count": 140,
     "metadata": {},
     "output_type": "execute_result"
    }
   ],
   "source": [
    "food2.values()"
   ]
  },
  {
   "cell_type": "code",
   "execution_count": 141,
   "id": "7cdab172",
   "metadata": {},
   "outputs": [
    {
     "data": {
      "text/plain": [
       "{'polave': 300, 'fish': 340, 'handy': 800}"
      ]
     },
     "execution_count": 141,
     "metadata": {},
     "output_type": "execute_result"
    }
   ],
   "source": [
    "food3={\"polave\":300,\"fish\":340,\"handy\":800}\n",
    "food3"
   ]
  },
  {
   "cell_type": "code",
   "execution_count": 143,
   "id": "aca87968",
   "metadata": {},
   "outputs": [
    {
     "data": {
      "text/plain": [
       "{'ice_cream': 200, 'keer': 100, 'cold_drink': 200, 'tea': 50}"
      ]
     },
     "execution_count": 143,
     "metadata": {},
     "output_type": "execute_result"
    }
   ],
   "source": [
    "food2.copy()\n",
    "food2"
   ]
  },
  {
   "cell_type": "code",
   "execution_count": 144,
   "id": "e60dfc23",
   "metadata": {},
   "outputs": [
    {
     "data": {
      "text/plain": [
       "100"
      ]
     },
     "execution_count": 144,
     "metadata": {},
     "output_type": "execute_result"
    }
   ],
   "source": [
    "x=food2.get(\"keer\")\n",
    "x"
   ]
  },
  {
   "cell_type": "code",
   "execution_count": 145,
   "id": "e3972a56",
   "metadata": {},
   "outputs": [
    {
     "data": {
      "text/plain": [
       "dict_items([('ice_cream', 200), ('keer', 100), ('cold_drink', 200), ('tea', 50)])"
      ]
     },
     "execution_count": 145,
     "metadata": {},
     "output_type": "execute_result"
    }
   ],
   "source": [
    "y=food2.items()\n",
    "y"
   ]
  },
  {
   "cell_type": "code",
   "execution_count": 146,
   "id": "ca75097b",
   "metadata": {},
   "outputs": [
    {
     "data": {
      "text/plain": [
       "{'ice_cream': 200, 'keer': 100, 'cold_drink': 200, 'tea': 50}"
      ]
     },
     "execution_count": 146,
     "metadata": {},
     "output_type": "execute_result"
    }
   ],
   "source": [
    "food2"
   ]
  },
  {
   "cell_type": "code",
   "execution_count": 147,
   "id": "6d156cb9",
   "metadata": {},
   "outputs": [
    {
     "data": {
      "text/plain": [
       "{'ice_cream': 200, 'keer': 250, 'cold_drink': 200, 'tea': 50}"
      ]
     },
     "execution_count": 147,
     "metadata": {},
     "output_type": "execute_result"
    }
   ],
   "source": [
    "food2[\"keer\"]=250\n",
    "food2"
   ]
  },
  {
   "cell_type": "code",
   "execution_count": 149,
   "id": "8bfb84b0",
   "metadata": {
    "scrolled": true
   },
   "outputs": [
    {
     "data": {
      "text/plain": [
       "{'ice_cream': 200, 'keer': 250, 'cold_drink': 200, 'tea': 100}"
      ]
     },
     "execution_count": 149,
     "metadata": {},
     "output_type": "execute_result"
    }
   ],
   "source": [
    "food2.update({\"tea\":100})\n",
    "food2"
   ]
  },
  {
   "cell_type": "code",
   "execution_count": 150,
   "id": "23364c88",
   "metadata": {},
   "outputs": [
    {
     "data": {
      "text/plain": [
       "{'ice_cream': 200, 'cold_drink': 200, 'tea': 100}"
      ]
     },
     "execution_count": 150,
     "metadata": {},
     "output_type": "execute_result"
    }
   ],
   "source": [
    "food2.pop(\"keer\")\n",
    "food2"
   ]
  },
  {
   "cell_type": "code",
   "execution_count": 151,
   "id": "35189190",
   "metadata": {},
   "outputs": [
    {
     "data": {
      "text/plain": [
       "{'numkeen': 200,\n",
       " 'qeema': 150,\n",
       " 'lobya': 80,\n",
       " 'chiken': 500,\n",
       " 'motton': 1000,\n",
       " 'biryani': 200,\n",
       " 'ice_cream': 200,\n",
       " 'keer': 100,\n",
       " 'cold_drink': 200,\n",
       " 'tea': 50}"
      ]
     },
     "execution_count": 151,
     "metadata": {},
     "output_type": "execute_result"
    }
   ],
   "source": [
    "food1"
   ]
  },
  {
   "cell_type": "code",
   "execution_count": 152,
   "id": "088f3b11",
   "metadata": {},
   "outputs": [
    {
     "data": {
      "text/plain": [
       "{'numkeen': 200,\n",
       " 'qeema': 150,\n",
       " 'lobya': 80,\n",
       " 'chiken': 500,\n",
       " 'motton': 1000,\n",
       " 'biryani': 200,\n",
       " 'ice_cream': 200,\n",
       " 'keer': 100,\n",
       " 'cold_drink': 200}"
      ]
     },
     "execution_count": 152,
     "metadata": {},
     "output_type": "execute_result"
    }
   ],
   "source": [
    "food1.popitem()\n",
    "food1"
   ]
  },
  {
   "cell_type": "code",
   "execution_count": 153,
   "id": "3a623eee",
   "metadata": {},
   "outputs": [
    {
     "data": {
      "text/plain": [
       "{'ice_cream': 200, 'cold_drink': 200, 'tea': 100}"
      ]
     },
     "execution_count": 153,
     "metadata": {},
     "output_type": "execute_result"
    }
   ],
   "source": [
    "mydic=food2.copy()\n",
    "mydic"
   ]
  },
  {
   "cell_type": "markdown",
   "id": "b7e23941",
   "metadata": {},
   "source": [
    "## - lists\n",
    "### - an unorderd and unidixed collection of elements\n",
    "### - enclosed in curly { } braces\n",
    "### - no duplicates allowed"
   ]
  },
  {
   "cell_type": "code",
   "execution_count": 154,
   "id": "7a76271c",
   "metadata": {},
   "outputs": [
    {
     "data": {
      "text/plain": [
       "{12, 12.21, False, True, 'hussain', 'raja'}"
      ]
     },
     "execution_count": 154,
     "metadata": {},
     "output_type": "execute_result"
    }
   ],
   "source": [
    "s1={\"raja\",\"hussain\",12,12.21,False,True}\n",
    "s1"
   ]
  },
  {
   "cell_type": "code",
   "execution_count": 155,
   "id": "98e99e3e",
   "metadata": {},
   "outputs": [
    {
     "data": {
      "text/plain": [
       "set"
      ]
     },
     "execution_count": 155,
     "metadata": {},
     "output_type": "execute_result"
    }
   ],
   "source": [
    "type(s1)"
   ]
  },
  {
   "cell_type": "code",
   "execution_count": 156,
   "id": "5ea67c04",
   "metadata": {},
   "outputs": [
    {
     "data": {
      "text/plain": [
       "6"
      ]
     },
     "execution_count": 156,
     "metadata": {},
     "output_type": "execute_result"
    }
   ],
   "source": [
    "len(s1)"
   ]
  },
  {
   "cell_type": "code",
   "execution_count": 158,
   "id": "eb083fae",
   "metadata": {},
   "outputs": [],
   "source": [
    "s1.add(\"jan\")"
   ]
  },
  {
   "cell_type": "code",
   "execution_count": 159,
   "id": "e4e18da3",
   "metadata": {},
   "outputs": [
    {
     "data": {
      "text/plain": [
       "{12, 12.21, False, True, 'hussain', 'jan', 'raja'}"
      ]
     },
     "execution_count": 159,
     "metadata": {},
     "output_type": "execute_result"
    }
   ],
   "source": [
    "s1"
   ]
  },
  {
   "cell_type": "code",
   "execution_count": 160,
   "id": "0dacde03",
   "metadata": {},
   "outputs": [
    {
     "data": {
      "text/plain": [
       "{12, 12.21, False, True, 'hussain', 'jan', 'raja'}"
      ]
     },
     "execution_count": 160,
     "metadata": {},
     "output_type": "execute_result"
    }
   ],
   "source": [
    "s1.add(\"hussain\")\n",
    "s1"
   ]
  },
  {
   "cell_type": "code",
   "execution_count": 161,
   "id": "9f31e0e4",
   "metadata": {},
   "outputs": [
    {
     "data": {
      "text/plain": [
       "{12, 12.21, True, 'hussain', 'jan', 'raja'}"
      ]
     },
     "execution_count": 161,
     "metadata": {},
     "output_type": "execute_result"
    }
   ],
   "source": [
    "s1.remove(False)\n",
    "s1"
   ]
  },
  {
   "cell_type": "code",
   "execution_count": 162,
   "id": "6d7f5e6c",
   "metadata": {},
   "outputs": [
    {
     "data": {
      "text/plain": [
       "{12, 12.21, 2, True, 'hussain', 'jan', 'raja'}"
      ]
     },
     "execution_count": 162,
     "metadata": {},
     "output_type": "execute_result"
    }
   ],
   "source": [
    "s1.add(2)\n",
    "s1"
   ]
  },
  {
   "cell_type": "code",
   "execution_count": null,
   "id": "50013ed1",
   "metadata": {},
   "outputs": [],
   "source": []
  }
 ],
 "metadata": {
  "kernelspec": {
   "display_name": "Python 3 (ipykernel)",
   "language": "python",
   "name": "python3"
  },
  "language_info": {
   "codemirror_mode": {
    "name": "ipython",
    "version": 3
   },
   "file_extension": ".py",
   "mimetype": "text/x-python",
   "name": "python",
   "nbconvert_exporter": "python",
   "pygments_lexer": "ipython3",
   "version": "3.9.13"
  }
 },
 "nbformat": 4,
 "nbformat_minor": 5
}
