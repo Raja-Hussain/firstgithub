{
 "cells": [
  {
   "cell_type": "markdown",
   "id": "97ba79c2",
   "metadata": {},
   "source": [
    "- my first program"
   ]
  },
  {
   "cell_type": "code",
   "execution_count": 1,
   "id": "0b467348",
   "metadata": {},
   "outputs": [
    {
     "name": "stdout",
     "output_type": "stream",
     "text": [
      "i am raja hussain from the eagle eye\n"
     ]
    }
   ],
   "source": [
    "print(\"i am raja hussain from the eagle eye\")"
   ]
  },
  {
   "cell_type": "markdown",
   "id": "f421115d",
   "metadata": {},
   "source": [
    "- operators"
   ]
  },
  {
   "cell_type": "code",
   "execution_count": 2,
   "id": "e0546a0c",
   "metadata": {},
   "outputs": [
    {
     "name": "stdout",
     "output_type": "stream",
     "text": [
      "3\n",
      "2\n",
      "10\n",
      "2.0\n",
      "2\n",
      "8\n",
      "1\n",
      "7\n",
      "-6\n"
     ]
    }
   ],
   "source": [
    "print(2+1)\n",
    "print(4-2)\n",
    "print(5*2)\n",
    "print(4/2)\n",
    "print(4//2)\n",
    "print(2**3)\n",
    "print(10%3)\n",
    "print(4*2//4+10-5)\n",
    "# to verify how pemdas work\n",
    "print(4-2*(2+4)+2**2//4*2)\n",
    "\n"
   ]
  },
  {
   "cell_type": "markdown",
   "id": "7b4501d8",
   "metadata": {},
   "source": [
    "- strings"
   ]
  },
  {
   "cell_type": "code",
   "execution_count": 3,
   "id": "9477a3a6",
   "metadata": {},
   "outputs": [
    {
     "name": "stdout",
     "output_type": "stream",
     "text": [
      "hello world\n",
      "hello world\n",
      "hello world\n",
      "my name is ali,\n",
      "i am from tall,\n",
      "recently i am working in python\n",
      "what's app\n"
     ]
    }
   ],
   "source": [
    "print(\"hello world\")\n",
    "print('hello world')\n",
    "print('''hello world''')\n",
    "print('''my name is ali,\n",
    "i am from tall,\n",
    "recently i am working in python''')\n",
    "# print(\"my name is ali\n",
    "# i am from tall,\n",
    "# recently i am working in python\")\n",
    "# print('what's up')\n",
    "print(\"what's app\")"
   ]
  },
  {
   "cell_type": "markdown",
   "id": "c32a8875",
   "metadata": {},
   "source": [
    "- comments"
   ]
  },
  {
   "cell_type": "code",
   "execution_count": 4,
   "id": "7c9a065d",
   "metadata": {},
   "outputs": [
    {
     "name": "stdout",
     "output_type": "stream",
     "text": [
      "ali khan\n",
      "my name is ali\n",
      "i am from tall,\n",
      "recently i am working in python\n"
     ]
    }
   ],
   "source": [
    "# comments are very useful and are used for various purposes \n",
    "# the comments are written to understand the code of line , functions , loops and array \n",
    "# the comments are also written to remember and understand the code \n",
    "# some time we want some part of the code to be not executed but included in the code for that we use comments\n",
    "# to comment something in the code first select the code you want to comment and then press (commant + /)\n",
    "# (command +/) are widely used to comment multiple line \n",
    "# to cmment a single line use(#) in the begining of the line\n",
    "# so the code written in the comments are not execute the kernal actuall ignore these comment lines\n",
    "print(\"ali khan\") # to comment this single use # in the start of line i.e\n",
    "#print(\"ali khan\")\n",
    "print('''my name is ali\n",
    "i am from tall,\n",
    "recently i am working in python''')# to comment these multiple line use command + /i.e\n",
    "\n",
    "# print('''my name is ali\n",
    "# i am from tall,\n",
    "# recently i am working in python''')"
   ]
  },
  {
   "cell_type": "markdown",
   "id": "7c134533",
   "metadata": {},
   "source": [
    "- variable"
   ]
  },
  {
   "cell_type": "code",
   "execution_count": 5,
   "id": "0e8bfa47",
   "metadata": {},
   "outputs": [
    {
     "name": "stdout",
     "output_type": "stream",
     "text": [
      "10\n",
      "<class 'int'>\n",
      "15\n",
      "5\n",
      "2.0\n",
      "2\n",
      "100000\n",
      "0\n",
      "<class 'str'> my name is khanand i love python\n",
      "<class 'str'> my name is khan and i love python\n",
      "12\n"
     ]
    }
   ],
   "source": [
    "# veraible is the space allocated to some data (i.e int , float ,double , string etc)re \n",
    "# the space allocated to something require the name we call variable name i.e\n",
    "a=10 # here a is the name of that location where 10 has been stored\n",
    "print(a) # print is built in function that is used to print every thing we want we use variable for various type of \n",
    "# data (i.e int , float ,double , string etc) we also find type of variable by using function type() i.e\n",
    "print(type(a))\n",
    "b=10       # we also perform some basic arthimatic operstion on veraible i.e(+,-,*,/,**,% etc) i.e\n",
    "c=5\n",
    "print(b+c)\n",
    "print(b-c)\n",
    "print(b/c)\n",
    "print(b//c)\n",
    "print(b**c)\n",
    "print(b%c)\n",
    "# we also store some srings in variable\n",
    "x=\"my name is khan\"\n",
    "y=\"and i love python\"\n",
    "print(type(x),x+y)\n",
    "print(type(x),x,y)\n",
    "a=12 # as early we assign a=10 and now we assign a=12 so now the variable a contain 12 as python interpretor use top \n",
    "# to down approach so the variable must be updated now a contain 12 i.e\n",
    "print(a)"
   ]
  },
  {
   "cell_type": "markdown",
   "id": "d9a4e6b8",
   "metadata": {},
   "source": [
    "- input variable"
   ]
  },
  {
   "cell_type": "code",
   "execution_count": 6,
   "id": "b092cf9f",
   "metadata": {},
   "outputs": [
    {
     "name": "stdout",
     "output_type": "stream",
     "text": [
      "class of a containing value is 23\n",
      "23 is <class 'str'>\n",
      "what is your favourite book !fghj\n",
      "wow ! i also like it  fghj\n",
      "what is your series so for !ggff\n",
      "hummmm wow ! it's a nice series na  ggff\n",
      "what is your name !hjhhh\n",
      "what is your age jhjhjh\n",
      "wow ! nice name m.r  hjhhh wow ! you are still young jhjhjh\n"
     ]
    }
   ],
   "source": [
    "# input variable take value from the user i.e\n",
    "a=input(\"class of a containing value is \")\n",
    "print(a,\"is\",type(a))\n",
    "\n",
    "# input variable are very important  and useful and use for varoius purposes\n",
    "favourite_book=input(\"what is your favourite book !\")\n",
    "greeting=\"wow ! i also like it \"\n",
    "print(greeting,favourite_book)\n",
    "\n",
    "favourite_series=input(\"what is your series so for !\")\n",
    "greeting=\"wow ! it's a nice series na \"\n",
    "print(\"hummmm\",greeting,favourite_series)\n",
    "\n",
    "name = input (\"what is your name !\")\n",
    "greeting_x=\"wow ! nice name m.r \"\n",
    "age= input ( \"what is your age \")\n",
    "greeting_y=(\"wow ! you are still young\")\n",
    "print(greeting_x,name,greeting_y,age)"
   ]
  },
  {
   "cell_type": "markdown",
   "id": "c2545203",
   "metadata": {},
   "source": [
    "- conditional logics"
   ]
  },
  {
   "cell_type": "code",
   "execution_count": 7,
   "id": "0cd15e17",
   "metadata": {},
   "outputs": [
    {
     "name": "stdout",
     "output_type": "stream",
     "text": [
      "False\n",
      "True\n",
      "False\n",
      "True\n",
      "True\n",
      "False\n",
      "False\n",
      "True\n",
      "<class 'int'>\n",
      "enter your number45\n",
      "False\n",
      "<class 'int'>\n"
     ]
    }
   ],
   "source": [
    "# conditional logics may be true or false,o or 1,yes or no\n",
    "#some conditional logic\n",
    "# ==,!=,>,<,<=,>=\n",
    "print(1==2)\n",
    "print(2==2)\n",
    "print(2!=2)\n",
    "print(1!=2)\n",
    "print(1<2)\n",
    "print(1>2)\n",
    "print(1>=2)\n",
    "print(1<=2)\n",
    "\n",
    "# coditional logics and variable\n",
    "fixed_number=10\n",
    "print(type(fixed_number))\n",
    "input_number=input(\"enter your number\")\n",
    "input_number=int(input_number)\n",
    "print(fixed_number==input_number)\n",
    "print(type(input_number))"
   ]
  },
  {
   "cell_type": "markdown",
   "id": "8888b7e5",
   "metadata": {},
   "source": [
    "- type conversion"
   ]
  },
  {
   "cell_type": "code",
   "execution_count": 8,
   "id": "958e6736",
   "metadata": {},
   "outputs": [
    {
     "name": "stdout",
     "output_type": "stream",
     "text": [
      "<class 'float'> 10.0\n",
      "45.0 <class 'int'>\n",
      "<class 'int'> <class 'float'>\n",
      "85.0 <class 'float'>\n"
     ]
    }
   ],
   "source": [
    "# how to convert the type of class i.e int to flaot,int to str,str to int etc\n",
    "x=10\n",
    "x=float(x)\n",
    "print(type(x),x)              # two type of conversion implicit type conversion ,explicit type conversion\n",
    "\n",
    "x=45.0\n",
    "print(x,type(int(x)))\n",
    "c=34\n",
    "b=2.5\n",
    "d=c*b\n",
    "print(type(c),type(b))\n",
    "print(d,type(d))"
   ]
  },
  {
   "cell_type": "markdown",
   "id": "cb675ef9",
   "metadata": {},
   "source": [
    "- if , ifelse and elif"
   ]
  },
  {
   "cell_type": "code",
   "execution_count": 9,
   "id": "e49615f8",
   "metadata": {},
   "outputs": [
    {
     "name": "stdout",
     "output_type": "stream",
     "text": [
      "enter your first value45\n",
      "enter your second value45\n",
      "both the value are equal 45 and 45\n"
     ]
    }
   ],
   "source": [
    "# if elif and ifelse are used for condition i.e\n",
    "# name=input(\"enter your name\")\n",
    "# ali_age=15\n",
    "# age=input(\"enter your age \")\n",
    "# age=int(age)\n",
    "\n",
    "# # # print(\"m.r \",name,age)\n",
    "# if age==ali_age:\n",
    "#     print(\"m.r \",name,\"! you and ali have a same age\")\n",
    "# elif age>ali_age:\n",
    "#     print(\"m.r \",name,\"! you are older than ali\")\n",
    "# else:\n",
    "#     print(\"m.r\",name,\"! you are younger than ali\")\n",
    "\n",
    "x=input(\"enter your first value\")\n",
    "x=int(x)\n",
    "\n",
    "y=input(\"enter your second value\")\n",
    "y=int(y)\n",
    "if x==y:\n",
    "    print(\"both the value are equal\",x,\"and\",y)\n",
    "elif x>y:\n",
    "    print(\"first value is greater than second value\",x,\"and\",y)\n",
    "elif x<y:\n",
    "    print(\"second value is greater than first value\",x,\"and\",y)\n",
    "else:\n",
    "    print(\"you enter a string value\")\n",
    "    \n"
   ]
  },
  {
   "cell_type": "markdown",
   "id": "af1f8633",
   "metadata": {},
   "source": [
    "- functions"
   ]
  },
  {
   "cell_type": "code",
   "execution_count": 10,
   "id": "f91a495a",
   "metadata": {},
   "outputs": [
    {
     "name": "stdout",
     "output_type": "stream",
     "text": [
      "enter the value of x is56\n",
      "enter the value of y is54\n",
      "the addition of x and y is 110\n"
     ]
    }
   ],
   "source": [
    "# function is a block of code that can be used whenever need\n",
    "# def is key word used for defining a function\n",
    "\n",
    "# def ALLAH():\n",
    "#     print(\"ALLAH is great\")\n",
    "#     print(\"ALLAH is great\")\n",
    "#     print(\"ALLAH is great\")\n",
    "#     print(\"ALLAH is great\")\n",
    "#     print(\"ALLAH is great\")\n",
    "# ALLAH()\n",
    "\n",
    "# def raheem():\n",
    "#     x=\"ALLAH is raheem\"\n",
    "#     print(x)\n",
    "#     print(x)\n",
    "#     print(x)\n",
    "#     print(x)\n",
    "# raheem()\n",
    "\n",
    "# def ghafoor(y):\n",
    "#     print(y)\n",
    "#     print(y)\n",
    "#     print(y)\n",
    "#     print(y)\n",
    "    \n",
    "# ghafoor(\"ALLAH is ghafoor\")\n",
    "    \n",
    "x=input(\"enter the value of x is\")\n",
    "x=int(x)\n",
    "y=input(\"enter the value of y is\")\n",
    "y=int(y) \n",
    "def add():\n",
    "    print(\"the addition of x and y is\",x+y)\n",
    "def sub():\n",
    "    print(\"the subtraction of x and y is\",x-y)\n",
    "add()\n",
    "\n",
    "\n"
   ]
  },
  {
   "cell_type": "markdown",
   "id": "472af9f8",
   "metadata": {},
   "source": [
    "- loops"
   ]
  },
  {
   "cell_type": "code",
   "execution_count": 33,
   "id": "38e197a6",
   "metadata": {},
   "outputs": [
    {
     "name": "stdout",
     "output_type": "stream",
     "text": [
      "0\n",
      "1\n",
      "2\n",
      "3\n",
      "4\n",
      "5\n",
      "6\n",
      "7\n",
      "8\n",
      "9\n",
      "10\n",
      "10\n",
      "11\n",
      "12\n",
      "13\n",
      "14\n",
      "15\n",
      "16\n",
      "17\n",
      "18\n",
      "19\n",
      "sun\n",
      "mon\n",
      "the\n",
      "wed\n",
      "thu\n",
      "sat\n"
     ]
    }
   ],
   "source": [
    "# two type of loops are use in python while , for\n",
    "x=0\n",
    "while(x<11):\n",
    "    print(x,)\n",
    "    x=x+1\n",
    "    \n",
    "for x in range(10,20):\n",
    "    print(x)\n",
    "\n",
    "week=[\"sun\",\"mon\",\"the\",\"wed\",\"thu\",\"fri\",\"sat\"]\n",
    "for i in week:\n",
    "#     if i==\"wed\":break\n",
    "    if i == \"fri\": continue\n",
    "    print(i)"
   ]
  },
  {
   "cell_type": "markdown",
   "id": "1a2114bc",
   "metadata": {},
   "source": [
    "- import libraries"
   ]
  },
  {
   "cell_type": "code",
   "execution_count": 38,
   "id": "3e50fa4a",
   "metadata": {},
   "outputs": [
    {
     "name": "stdout",
     "output_type": "stream",
     "text": [
      "the value of pi is  3.141592653589793\n",
      "the mean is 250\n"
     ]
    }
   ],
   "source": [
    "# how to import iibraries \n",
    "import math\n",
    "print(\"the value of pi is \" , math.pi)\n",
    "\n",
    "import statistics\n",
    "a=[100,200,300,400]\n",
    "print(\"the mean is\",statistics.mean(a))"
   ]
  },
  {
   "cell_type": "code",
   "execution_count": null,
   "id": "abd69d3a",
   "metadata": {},
   "outputs": [],
   "source": []
  }
 ],
 "metadata": {
  "kernelspec": {
   "display_name": "Python 3 (ipykernel)",
   "language": "python",
   "name": "python3"
  },
  "language_info": {
   "codemirror_mode": {
    "name": "ipython",
    "version": 3
   },
   "file_extension": ".py",
   "mimetype": "text/x-python",
   "name": "python",
   "nbconvert_exporter": "python",
   "pygments_lexer": "ipython3",
   "version": "3.9.13"
  }
 },
 "nbformat": 4,
 "nbformat_minor": 5
}
